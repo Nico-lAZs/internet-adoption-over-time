{
 "cells": [
  {
   "cell_type": "markdown",
   "id": "a1392ef2-cfb3-45be-a7fe-6c85fe500ca3",
   "metadata": {
    "jp-MarkdownHeadingCollapsed": true
   },
   "source": [
    "# Importing--- Cleaning"
   ]
  },
  {
   "cell_type": "code",
   "execution_count": 475,
   "id": "b238d4bb-71bd-49b3-b4fa-c3693917b238",
   "metadata": {},
   "outputs": [],
   "source": [
    "import pandas as pd\n",
    "import numpy as np\n",
    "import plotly.express as px \n",
    "import plotly.graph_objects as go\n",
    "from plotly.subplots import make_subplots\n",
    "import matplotlib.pyplot as plt\n",
    "import seaborn as sns\n",
    "from statsmodels.stats.outliers_influence import variance_inflation_factor\n",
    "from statsmodels.graphics.tsaplots import month_plot,quarter_plot\n",
    "from statsmodels.tsa.seasonal import seasonal_decompose\n",
    "from statsmodels.tsa.seasonal import STL\n",
    "from statsmodels.graphics.tsaplots import plot_acf,plot_pacf\n",
    "from statsmodels.tsa.stattools import adfuller\n",
    "from pmdarima import auto_arima,ARIMA,model_selection\n",
    "from statsmodels.tsa.statespace.sarimax import SARIMAX\n",
    "from sklearn.metrics import r2_score, mean_absolute_error, mean_absolute_percentage_error,mean_squared_error\n",
    "from sklearn.model_selection import TimeSeriesSplit\n",
    "import statsmodels.api as sm\n",
    "from scipy.stats import ttest_ind\n",
    "from scipy.stats import levene\n",
    "from scipy import stats\n",
    "import math\n",
    "from statsmodels.tools.tools import add_constant\n",
    "from sklearn.model_selection import train_test_split\n",
    "from sklearn.pipeline import Pipeline\n",
    "from sklearn.linear_model import LogisticRegression\n",
    "from sklearn.compose import ColumnTransformer\n",
    "from sklearn.preprocessing import StandardScaler, OneHotEncoder\n",
    "from sklearn.linear_model import LinearRegression"
   ]
  },
  {
   "cell_type": "code",
   "execution_count": 476,
   "id": "cd018e78-ed8c-44f7-b346-964c9cc2b5fb",
   "metadata": {},
   "outputs": [],
   "source": [
    "df=pd.read_csv('global_internet_adoption_daily_2010_2025.csv')"
   ]
  },
  {
   "cell_type": "code",
   "execution_count": 477,
   "id": "96d10369-9ade-49f3-a05e-0f0aa5dd3c80",
   "metadata": {},
   "outputs": [
    {
     "data": {
      "text/html": [
       "<div>\n",
       "<style scoped>\n",
       "    .dataframe tbody tr th:only-of-type {\n",
       "        vertical-align: middle;\n",
       "    }\n",
       "\n",
       "    .dataframe tbody tr th {\n",
       "        vertical-align: top;\n",
       "    }\n",
       "\n",
       "    .dataframe thead th {\n",
       "        text-align: right;\n",
       "    }\n",
       "</style>\n",
       "<table border=\"1\" class=\"dataframe\">\n",
       "  <thead>\n",
       "    <tr style=\"text-align: right;\">\n",
       "      <th></th>\n",
       "      <th>Country</th>\n",
       "      <th>Date</th>\n",
       "      <th>Internet_Penetration (%)</th>\n",
       "      <th>Broadband_Speed (Mbps)</th>\n",
       "      <th>GDP_Per_Capita (USD)</th>\n",
       "      <th>Education_Level (%)</th>\n",
       "      <th>Mobile_Data_Usage (GB)</th>\n",
       "      <th>Digital_Investment (M USD)</th>\n",
       "      <th>Digital_Literacy (%)</th>\n",
       "      <th>X_Sentiment_Score</th>\n",
       "      <th>5G_Rollout</th>\n",
       "      <th>Urban_Rural</th>\n",
       "      <th>Latitude</th>\n",
       "      <th>Longitude</th>\n",
       "    </tr>\n",
       "  </thead>\n",
       "  <tbody>\n",
       "    <tr>\n",
       "      <th>0</th>\n",
       "      <td>USA</td>\n",
       "      <td>2010-01-01</td>\n",
       "      <td>25.45</td>\n",
       "      <td>5.23</td>\n",
       "      <td>20339.01</td>\n",
       "      <td>47.17</td>\n",
       "      <td>0.26</td>\n",
       "      <td>428.95</td>\n",
       "      <td>85.29</td>\n",
       "      <td>0.77</td>\n",
       "      <td>0</td>\n",
       "      <td>Rural</td>\n",
       "      <td>37.0902</td>\n",
       "      <td>-95.7129</td>\n",
       "    </tr>\n",
       "    <tr>\n",
       "      <th>1</th>\n",
       "      <td>USA</td>\n",
       "      <td>2010-01-02</td>\n",
       "      <td>47.88</td>\n",
       "      <td>9.57</td>\n",
       "      <td>20332.14</td>\n",
       "      <td>46.71</td>\n",
       "      <td>0.54</td>\n",
       "      <td>441.28</td>\n",
       "      <td>85.41</td>\n",
       "      <td>-0.49</td>\n",
       "      <td>0</td>\n",
       "      <td>Urban</td>\n",
       "      <td>37.0902</td>\n",
       "      <td>-95.7129</td>\n",
       "    </tr>\n",
       "    <tr>\n",
       "      <th>2</th>\n",
       "      <td>USA</td>\n",
       "      <td>2010-01-03</td>\n",
       "      <td>46.46</td>\n",
       "      <td>9.71</td>\n",
       "      <td>20319.72</td>\n",
       "      <td>46.75</td>\n",
       "      <td>0.64</td>\n",
       "      <td>447.51</td>\n",
       "      <td>85.32</td>\n",
       "      <td>-0.24</td>\n",
       "      <td>0</td>\n",
       "      <td>Urban</td>\n",
       "      <td>37.0902</td>\n",
       "      <td>-95.7129</td>\n",
       "    </tr>\n",
       "    <tr>\n",
       "      <th>3</th>\n",
       "      <td>USA</td>\n",
       "      <td>2010-01-04</td>\n",
       "      <td>46.80</td>\n",
       "      <td>9.73</td>\n",
       "      <td>20334.79</td>\n",
       "      <td>47.09</td>\n",
       "      <td>0.53</td>\n",
       "      <td>438.25</td>\n",
       "      <td>85.23</td>\n",
       "      <td>-0.66</td>\n",
       "      <td>0</td>\n",
       "      <td>Urban</td>\n",
       "      <td>37.0902</td>\n",
       "      <td>-95.7129</td>\n",
       "    </tr>\n",
       "    <tr>\n",
       "      <th>4</th>\n",
       "      <td>USA</td>\n",
       "      <td>2010-01-05</td>\n",
       "      <td>46.91</td>\n",
       "      <td>9.71</td>\n",
       "      <td>20377.81</td>\n",
       "      <td>46.96</td>\n",
       "      <td>0.56</td>\n",
       "      <td>436.41</td>\n",
       "      <td>85.79</td>\n",
       "      <td>-0.21</td>\n",
       "      <td>0</td>\n",
       "      <td>Urban</td>\n",
       "      <td>37.0902</td>\n",
       "      <td>-95.7129</td>\n",
       "    </tr>\n",
       "    <tr>\n",
       "      <th>...</th>\n",
       "      <td>...</td>\n",
       "      <td>...</td>\n",
       "      <td>...</td>\n",
       "      <td>...</td>\n",
       "      <td>...</td>\n",
       "      <td>...</td>\n",
       "      <td>...</td>\n",
       "      <td>...</td>\n",
       "      <td>...</td>\n",
       "      <td>...</td>\n",
       "      <td>...</td>\n",
       "      <td>...</td>\n",
       "      <td>...</td>\n",
       "      <td>...</td>\n",
       "    </tr>\n",
       "    <tr>\n",
       "      <th>56355</th>\n",
       "      <td>South Africa</td>\n",
       "      <td>2025-06-02</td>\n",
       "      <td>96.67</td>\n",
       "      <td>122.60</td>\n",
       "      <td>9927.28</td>\n",
       "      <td>38.71</td>\n",
       "      <td>10.27</td>\n",
       "      <td>1644.72</td>\n",
       "      <td>62.14</td>\n",
       "      <td>0.53</td>\n",
       "      <td>1</td>\n",
       "      <td>Urban</td>\n",
       "      <td>-30.5595</td>\n",
       "      <td>22.9375</td>\n",
       "    </tr>\n",
       "    <tr>\n",
       "      <th>56356</th>\n",
       "      <td>South Africa</td>\n",
       "      <td>2025-06-03</td>\n",
       "      <td>97.85</td>\n",
       "      <td>122.69</td>\n",
       "      <td>9987.56</td>\n",
       "      <td>39.21</td>\n",
       "      <td>10.45</td>\n",
       "      <td>1639.97</td>\n",
       "      <td>62.65</td>\n",
       "      <td>-0.60</td>\n",
       "      <td>1</td>\n",
       "      <td>Urban</td>\n",
       "      <td>-30.5595</td>\n",
       "      <td>22.9375</td>\n",
       "    </tr>\n",
       "    <tr>\n",
       "      <th>56357</th>\n",
       "      <td>South Africa</td>\n",
       "      <td>2025-06-04</td>\n",
       "      <td>97.23</td>\n",
       "      <td>122.66</td>\n",
       "      <td>10046.64</td>\n",
       "      <td>39.06</td>\n",
       "      <td>10.27</td>\n",
       "      <td>1624.73</td>\n",
       "      <td>62.53</td>\n",
       "      <td>0.94</td>\n",
       "      <td>1</td>\n",
       "      <td>Urban</td>\n",
       "      <td>-30.5595</td>\n",
       "      <td>22.9375</td>\n",
       "    </tr>\n",
       "    <tr>\n",
       "      <th>56358</th>\n",
       "      <td>South Africa</td>\n",
       "      <td>2025-06-05</td>\n",
       "      <td>97.30</td>\n",
       "      <td>122.69</td>\n",
       "      <td>10022.64</td>\n",
       "      <td>39.06</td>\n",
       "      <td>10.36</td>\n",
       "      <td>1645.58</td>\n",
       "      <td>62.41</td>\n",
       "      <td>-0.64</td>\n",
       "      <td>1</td>\n",
       "      <td>Urban</td>\n",
       "      <td>-30.5595</td>\n",
       "      <td>22.9375</td>\n",
       "    </tr>\n",
       "    <tr>\n",
       "      <th>56359</th>\n",
       "      <td>South Africa</td>\n",
       "      <td>2025-06-06</td>\n",
       "      <td>96.88</td>\n",
       "      <td>122.75</td>\n",
       "      <td>10053.14</td>\n",
       "      <td>38.94</td>\n",
       "      <td>10.34</td>\n",
       "      <td>1666.16</td>\n",
       "      <td>62.20</td>\n",
       "      <td>-0.49</td>\n",
       "      <td>1</td>\n",
       "      <td>Urban</td>\n",
       "      <td>-30.5595</td>\n",
       "      <td>22.9375</td>\n",
       "    </tr>\n",
       "  </tbody>\n",
       "</table>\n",
       "<p>56360 rows × 14 columns</p>\n",
       "</div>"
      ],
      "text/plain": [
       "            Country        Date  Internet_Penetration (%)  \\\n",
       "0               USA  2010-01-01                     25.45   \n",
       "1               USA  2010-01-02                     47.88   \n",
       "2               USA  2010-01-03                     46.46   \n",
       "3               USA  2010-01-04                     46.80   \n",
       "4               USA  2010-01-05                     46.91   \n",
       "...             ...         ...                       ...   \n",
       "56355  South Africa  2025-06-02                     96.67   \n",
       "56356  South Africa  2025-06-03                     97.85   \n",
       "56357  South Africa  2025-06-04                     97.23   \n",
       "56358  South Africa  2025-06-05                     97.30   \n",
       "56359  South Africa  2025-06-06                     96.88   \n",
       "\n",
       "       Broadband_Speed (Mbps)  GDP_Per_Capita (USD)  Education_Level (%)  \\\n",
       "0                        5.23              20339.01                47.17   \n",
       "1                        9.57              20332.14                46.71   \n",
       "2                        9.71              20319.72                46.75   \n",
       "3                        9.73              20334.79                47.09   \n",
       "4                        9.71              20377.81                46.96   \n",
       "...                       ...                   ...                  ...   \n",
       "56355                  122.60               9927.28                38.71   \n",
       "56356                  122.69               9987.56                39.21   \n",
       "56357                  122.66              10046.64                39.06   \n",
       "56358                  122.69              10022.64                39.06   \n",
       "56359                  122.75              10053.14                38.94   \n",
       "\n",
       "       Mobile_Data_Usage (GB)  Digital_Investment (M USD)  \\\n",
       "0                        0.26                      428.95   \n",
       "1                        0.54                      441.28   \n",
       "2                        0.64                      447.51   \n",
       "3                        0.53                      438.25   \n",
       "4                        0.56                      436.41   \n",
       "...                       ...                         ...   \n",
       "56355                   10.27                     1644.72   \n",
       "56356                   10.45                     1639.97   \n",
       "56357                   10.27                     1624.73   \n",
       "56358                   10.36                     1645.58   \n",
       "56359                   10.34                     1666.16   \n",
       "\n",
       "       Digital_Literacy (%)  X_Sentiment_Score  5G_Rollout Urban_Rural  \\\n",
       "0                     85.29               0.77           0       Rural   \n",
       "1                     85.41              -0.49           0       Urban   \n",
       "2                     85.32              -0.24           0       Urban   \n",
       "3                     85.23              -0.66           0       Urban   \n",
       "4                     85.79              -0.21           0       Urban   \n",
       "...                     ...                ...         ...         ...   \n",
       "56355                 62.14               0.53           1       Urban   \n",
       "56356                 62.65              -0.60           1       Urban   \n",
       "56357                 62.53               0.94           1       Urban   \n",
       "56358                 62.41              -0.64           1       Urban   \n",
       "56359                 62.20              -0.49           1       Urban   \n",
       "\n",
       "       Latitude  Longitude  \n",
       "0       37.0902   -95.7129  \n",
       "1       37.0902   -95.7129  \n",
       "2       37.0902   -95.7129  \n",
       "3       37.0902   -95.7129  \n",
       "4       37.0902   -95.7129  \n",
       "...         ...        ...  \n",
       "56355  -30.5595    22.9375  \n",
       "56356  -30.5595    22.9375  \n",
       "56357  -30.5595    22.9375  \n",
       "56358  -30.5595    22.9375  \n",
       "56359  -30.5595    22.9375  \n",
       "\n",
       "[56360 rows x 14 columns]"
      ]
     },
     "execution_count": 477,
     "metadata": {},
     "output_type": "execute_result"
    }
   ],
   "source": [
    "df"
   ]
  },
  {
   "cell_type": "code",
   "execution_count": 478,
   "id": "f13b00d5-9ff8-466c-9fef-9a0bcea514ae",
   "metadata": {},
   "outputs": [
    {
     "data": {
      "text/plain": [
       "'2010-01-01'"
      ]
     },
     "execution_count": 478,
     "metadata": {},
     "output_type": "execute_result"
    }
   ],
   "source": [
    "df['Date'].min()"
   ]
  },
  {
   "cell_type": "code",
   "execution_count": 479,
   "id": "ac2e1297-85a3-44bf-bb42-7639e29defc0",
   "metadata": {},
   "outputs": [
    {
     "name": "stdout",
     "output_type": "stream",
     "text": [
      "<class 'pandas.core.frame.DataFrame'>\n",
      "RangeIndex: 56360 entries, 0 to 56359\n",
      "Data columns (total 14 columns):\n",
      " #   Column                      Non-Null Count  Dtype  \n",
      "---  ------                      --------------  -----  \n",
      " 0   Country                     56360 non-null  object \n",
      " 1   Date                        56360 non-null  object \n",
      " 2   Internet_Penetration (%)    56360 non-null  float64\n",
      " 3   Broadband_Speed (Mbps)      56360 non-null  float64\n",
      " 4   GDP_Per_Capita (USD)        56360 non-null  float64\n",
      " 5   Education_Level (%)         56360 non-null  float64\n",
      " 6   Mobile_Data_Usage (GB)      56360 non-null  float64\n",
      " 7   Digital_Investment (M USD)  56360 non-null  float64\n",
      " 8   Digital_Literacy (%)        56360 non-null  float64\n",
      " 9   X_Sentiment_Score           56360 non-null  float64\n",
      " 10  5G_Rollout                  56360 non-null  int64  \n",
      " 11  Urban_Rural                 56360 non-null  object \n",
      " 12  Latitude                    56360 non-null  float64\n",
      " 13  Longitude                   56360 non-null  float64\n",
      "dtypes: float64(10), int64(1), object(3)\n",
      "memory usage: 6.0+ MB\n"
     ]
    }
   ],
   "source": [
    "df.info()"
   ]
  },
  {
   "cell_type": "code",
   "execution_count": 480,
   "id": "94be82a8-fb14-4787-aa18-e45392e01d8b",
   "metadata": {},
   "outputs": [],
   "source": [
    "df['Date']=pd.to_datetime(df['Date'])"
   ]
  },
  {
   "cell_type": "code",
   "execution_count": 481,
   "id": "c9e6c0e1-964a-49ec-9c4f-b6988375e1ef",
   "metadata": {},
   "outputs": [
    {
     "data": {
      "text/html": [
       "<div>\n",
       "<style scoped>\n",
       "    .dataframe tbody tr th:only-of-type {\n",
       "        vertical-align: middle;\n",
       "    }\n",
       "\n",
       "    .dataframe tbody tr th {\n",
       "        vertical-align: top;\n",
       "    }\n",
       "\n",
       "    .dataframe thead th {\n",
       "        text-align: right;\n",
       "    }\n",
       "</style>\n",
       "<table border=\"1\" class=\"dataframe\">\n",
       "  <thead>\n",
       "    <tr style=\"text-align: right;\">\n",
       "      <th></th>\n",
       "      <th>Country</th>\n",
       "      <th>Date</th>\n",
       "      <th>Internet_Penetration (%)</th>\n",
       "      <th>Broadband_Speed (Mbps)</th>\n",
       "      <th>GDP_Per_Capita (USD)</th>\n",
       "      <th>Education_Level (%)</th>\n",
       "      <th>Mobile_Data_Usage (GB)</th>\n",
       "      <th>Digital_Investment (M USD)</th>\n",
       "      <th>Digital_Literacy (%)</th>\n",
       "      <th>X_Sentiment_Score</th>\n",
       "      <th>5G_Rollout</th>\n",
       "      <th>Urban_Rural</th>\n",
       "      <th>Latitude</th>\n",
       "      <th>Longitude</th>\n",
       "    </tr>\n",
       "  </thead>\n",
       "  <tbody>\n",
       "  </tbody>\n",
       "</table>\n",
       "</div>"
      ],
      "text/plain": [
       "Empty DataFrame\n",
       "Columns: [Country, Date, Internet_Penetration (%), Broadband_Speed (Mbps), GDP_Per_Capita (USD), Education_Level (%), Mobile_Data_Usage (GB), Digital_Investment (M USD), Digital_Literacy (%), X_Sentiment_Score, 5G_Rollout, Urban_Rural, Latitude, Longitude]\n",
       "Index: []"
      ]
     },
     "execution_count": 481,
     "metadata": {},
     "output_type": "execute_result"
    }
   ],
   "source": [
    "df[df.duplicated()]"
   ]
  },
  {
   "cell_type": "code",
   "execution_count": 482,
   "id": "013260d4-830b-4573-b6ae-516eb732c870",
   "metadata": {},
   "outputs": [],
   "source": [
    "df.drop(['Latitude','Longitude'],axis=1,inplace=True)"
   ]
  },
  {
   "cell_type": "markdown",
   "id": "243d2c25-813f-47e4-af3a-e58baa111fd5",
   "metadata": {},
   "source": [
    "# ¿Qué factores determinan el ritmo de adopción de Internet en países desarrollados y en desarrollo, y cuáles son las probabilidades condicionales de que superen el 95 % de penetración antes de 2025, dadas sus condiciones socioeconómicas y de inversión digital?\""
   ]
  },
  {
   "cell_type": "markdown",
   "id": "8679c9f9-02f9-4c68-bcbf-2b1d7e1fbc4f",
   "metadata": {},
   "source": [
    "## -----Analisis de los  Paises desarollados vs paises no desarollados----"
   ]
  },
  {
   "cell_type": "markdown",
   "id": "20c3aa38-e558-4c34-ada5-3927d17adc05",
   "metadata": {
    "jp-MarkdownHeadingCollapsed": true
   },
   "source": [
    "### 1. entendiendo ambos grupos"
   ]
  },
  {
   "cell_type": "code",
   "execution_count": 486,
   "id": "e1d7b129-6308-41eb-aae9-813a81726493",
   "metadata": {},
   "outputs": [
    {
     "data": {
      "text/plain": [
       "array(['USA', 'India', 'Brazil', 'Nigeria', 'Indonesia', 'Ethiopia',\n",
       "       'China', 'Kenya', 'Germany', 'South Africa'], dtype=object)"
      ]
     },
     "execution_count": 486,
     "metadata": {},
     "output_type": "execute_result"
    }
   ],
   "source": [
    "df['Country'].unique()"
   ]
  },
  {
   "cell_type": "code",
   "execution_count": 487,
   "id": "c8f51bfd-587f-4d4e-bd37-13bc248d0b19",
   "metadata": {},
   "outputs": [],
   "source": [
    "desarrollados = ['USA', 'Germany']\n",
    "en_desarrollo = ['India', 'Brazil', 'Nigeria', 'Indonesia', 'Ethiopia', 'China', 'Kenya', 'South Africa']"
   ]
  },
  {
   "cell_type": "code",
   "execution_count": 488,
   "id": "884f26f3-30eb-44c2-81f1-e1504ad98a07",
   "metadata": {},
   "outputs": [],
   "source": [
    "paises_desarollados=df[df['Country'].isin(['USA', 'Germany'])]\n",
    "paises_en_desarollo=df[df['Country'].isin(['India', 'Brazil', 'Nigeria', 'Indonesia', 'Ethiopia', 'China', 'Kenya', 'South Africa'])]"
   ]
  },
  {
   "cell_type": "code",
   "execution_count": 489,
   "id": "1d78754d-f47b-4a4c-b3a4-b1c2f4c60d1d",
   "metadata": {},
   "outputs": [
    {
     "data": {
      "text/plain": [
       "count    11272.000000\n",
       "mean        70.701282\n",
       "std         23.430270\n",
       "min         24.120000\n",
       "25%         52.397500\n",
       "50%         69.920000\n",
       "75%         94.352500\n",
       "max        100.000000\n",
       "Name: Internet_Penetration (%), dtype: float64"
      ]
     },
     "execution_count": 489,
     "metadata": {},
     "output_type": "execute_result"
    }
   ],
   "source": [
    "paises_desarollados['Internet_Penetration (%)'].describe()"
   ]
  },
  {
   "cell_type": "code",
   "execution_count": 490,
   "id": "faed5132-ed65-46bd-861f-9738902d561f",
   "metadata": {},
   "outputs": [
    {
     "name": "stdout",
     "output_type": "stream",
     "text": [
      "Coeficiente de variacion paises_desarollados:33.13980926116729\n"
     ]
    }
   ],
   "source": [
    "print(f'Coeficiente de variacion paises_desarollados:{(23.430270/70.701282)*100}')"
   ]
  },
  {
   "cell_type": "code",
   "execution_count": 491,
   "id": "b9fe7cc6-6de8-4e13-b07b-72016d4a85a0",
   "metadata": {},
   "outputs": [
    {
     "data": {
      "text/plain": [
       "count    45088.00000\n",
       "mean        53.71672\n",
       "std         28.22167\n",
       "min          7.28000\n",
       "25%         29.65000\n",
       "50%         49.98000\n",
       "75%         84.79000\n",
       "max        100.00000\n",
       "Name: Internet_Penetration (%), dtype: float64"
      ]
     },
     "execution_count": 491,
     "metadata": {},
     "output_type": "execute_result"
    }
   ],
   "source": [
    "paises_en_desarollo['Internet_Penetration (%)'].describe()"
   ]
  },
  {
   "cell_type": "code",
   "execution_count": 492,
   "id": "35f66fe7-597f-40f3-bcc1-632211feb263",
   "metadata": {},
   "outputs": [
    {
     "name": "stdout",
     "output_type": "stream",
     "text": [
      "Coeficiente de variacion paises_en_desarollo:52.53796210937674\n"
     ]
    }
   ],
   "source": [
    "print(f'Coeficiente de variacion paises_en_desarollo:{(28.22167/53.71672)*100}')"
   ]
  },
  {
   "cell_type": "code",
   "execution_count": 493,
   "id": "7fb60017-482e-4ac5-ba14-5c6ba79d9b84",
   "metadata": {},
   "outputs": [],
   "source": [
    "paises_desarollados.set_index('Date',inplace=True)\n",
    "paises_en_desarollo.set_index('Date',inplace=True)"
   ]
  },
  {
   "cell_type": "code",
   "execution_count": 494,
   "id": "0d839bca-8990-4220-af81-6aa4e99f297f",
   "metadata": {},
   "outputs": [
    {
     "name": "stdout",
     "output_type": "stream",
     "text": [
      "False\n",
      "False\n"
     ]
    }
   ],
   "source": [
    "print(paises_desarollados.index.is_monotonic_increasing)\n",
    "print(paises_en_desarollo.index.is_monotonic_increasing)"
   ]
  },
  {
   "cell_type": "markdown",
   "id": "30f3e5d3-2e7d-4a3b-806b-059be1d18bac",
   "metadata": {},
   "source": [
    "##### el index no esta ascendentemente--cronologicamente pocisionado por que cada pais tiene su rango de fechas "
   ]
  },
  {
   "cell_type": "code",
   "execution_count": 496,
   "id": "cb7f0059-fddf-44e7-809f-767b40d2bba9",
   "metadata": {},
   "outputs": [
    {
     "name": "stderr",
     "output_type": "stream",
     "text": [
      "C:\\Users\\Nicol\\AppData\\Local\\Temp\\ipykernel_9952\\605969570.py:1: SettingWithCopyWarning:\n",
      "\n",
      "\n",
      "A value is trying to be set on a copy of a slice from a DataFrame.\n",
      "Try using .loc[row_indexer,col_indexer] = value instead\n",
      "\n",
      "See the caveats in the documentation: https://pandas.pydata.org/pandas-docs/stable/user_guide/indexing.html#returning-a-view-versus-a-copy\n",
      "\n",
      "C:\\Users\\Nicol\\AppData\\Local\\Temp\\ipykernel_9952\\605969570.py:2: SettingWithCopyWarning:\n",
      "\n",
      "\n",
      "A value is trying to be set on a copy of a slice from a DataFrame.\n",
      "Try using .loc[row_indexer,col_indexer] = value instead\n",
      "\n",
      "See the caveats in the documentation: https://pandas.pydata.org/pandas-docs/stable/user_guide/indexing.html#returning-a-view-versus-a-copy\n",
      "\n"
     ]
    }
   ],
   "source": [
    "paises_desarollados['grupo'] = 'Desarrollado'\n",
    "paises_en_desarollo['grupo'] = 'En desarrollo'"
   ]
  },
  {
   "cell_type": "code",
   "execution_count": 497,
   "id": "624b1a60-6165-4d5f-bdf5-13977c167e1c",
   "metadata": {},
   "outputs": [],
   "source": [
    "# funcion para sacar el coeficiente de variacion\n",
    "def cv(x):\n",
    "    return (np.std(x) / np.mean(x)) * 100 if np.mean(x) != 0 else np.nan"
   ]
  },
  {
   "cell_type": "code",
   "execution_count": 498,
   "id": "08282e1c-69fa-4c9a-a803-a4935acd3dae",
   "metadata": {},
   "outputs": [],
   "source": [
    "resultados_desarollados = paises_desarollados.groupby('grupo').resample('YE')['Internet_Penetration (%)'].agg(\n",
    "    ['mean', 'median', 'std', cv]).reset_index()"
   ]
  },
  {
   "cell_type": "code",
   "execution_count": 499,
   "id": "beabc3d0-f990-4092-af00-3f5323b788dc",
   "metadata": {},
   "outputs": [
    {
     "data": {
      "text/html": [
       "<div>\n",
       "<style scoped>\n",
       "    .dataframe tbody tr th:only-of-type {\n",
       "        vertical-align: middle;\n",
       "    }\n",
       "\n",
       "    .dataframe tbody tr th {\n",
       "        vertical-align: top;\n",
       "    }\n",
       "\n",
       "    .dataframe thead th {\n",
       "        text-align: right;\n",
       "    }\n",
       "</style>\n",
       "<table border=\"1\" class=\"dataframe\">\n",
       "  <thead>\n",
       "    <tr style=\"text-align: right;\">\n",
       "      <th></th>\n",
       "      <th>grupo</th>\n",
       "      <th>Date</th>\n",
       "      <th>mean</th>\n",
       "      <th>median</th>\n",
       "      <th>std</th>\n",
       "      <th>cv</th>\n",
       "    </tr>\n",
       "  </thead>\n",
       "  <tbody>\n",
       "    <tr>\n",
       "      <th>0</th>\n",
       "      <td>Desarrollado</td>\n",
       "      <td>2010-12-31</td>\n",
       "      <td>40.123123</td>\n",
       "      <td>46.710</td>\n",
       "      <td>10.070574</td>\n",
       "      <td>25.081980</td>\n",
       "    </tr>\n",
       "    <tr>\n",
       "      <th>1</th>\n",
       "      <td>Desarrollado</td>\n",
       "      <td>2011-12-31</td>\n",
       "      <td>45.624356</td>\n",
       "      <td>52.450</td>\n",
       "      <td>11.013279</td>\n",
       "      <td>24.122496</td>\n",
       "    </tr>\n",
       "    <tr>\n",
       "      <th>2</th>\n",
       "      <td>Desarrollado</td>\n",
       "      <td>2012-12-31</td>\n",
       "      <td>49.910232</td>\n",
       "      <td>58.240</td>\n",
       "      <td>12.580880</td>\n",
       "      <td>25.189792</td>\n",
       "    </tr>\n",
       "    <tr>\n",
       "      <th>3</th>\n",
       "      <td>Desarrollado</td>\n",
       "      <td>2013-12-31</td>\n",
       "      <td>55.884507</td>\n",
       "      <td>64.120</td>\n",
       "      <td>13.405194</td>\n",
       "      <td>23.970883</td>\n",
       "    </tr>\n",
       "    <tr>\n",
       "      <th>4</th>\n",
       "      <td>Desarrollado</td>\n",
       "      <td>2014-12-31</td>\n",
       "      <td>60.402877</td>\n",
       "      <td>69.800</td>\n",
       "      <td>14.785438</td>\n",
       "      <td>24.461265</td>\n",
       "    </tr>\n",
       "    <tr>\n",
       "      <th>5</th>\n",
       "      <td>Desarrollado</td>\n",
       "      <td>2015-12-31</td>\n",
       "      <td>64.888055</td>\n",
       "      <td>75.350</td>\n",
       "      <td>16.076528</td>\n",
       "      <td>24.758815</td>\n",
       "    </tr>\n",
       "    <tr>\n",
       "      <th>6</th>\n",
       "      <td>Desarrollado</td>\n",
       "      <td>2016-12-31</td>\n",
       "      <td>70.765710</td>\n",
       "      <td>80.520</td>\n",
       "      <td>16.474660</td>\n",
       "      <td>23.264661</td>\n",
       "    </tr>\n",
       "    <tr>\n",
       "      <th>7</th>\n",
       "      <td>Desarrollado</td>\n",
       "      <td>2017-12-31</td>\n",
       "      <td>72.595890</td>\n",
       "      <td>85.280</td>\n",
       "      <td>18.531406</td>\n",
       "      <td>25.509307</td>\n",
       "    </tr>\n",
       "    <tr>\n",
       "      <th>8</th>\n",
       "      <td>Desarrollado</td>\n",
       "      <td>2018-12-31</td>\n",
       "      <td>78.235041</td>\n",
       "      <td>89.710</td>\n",
       "      <td>18.657142</td>\n",
       "      <td>23.831213</td>\n",
       "    </tr>\n",
       "    <tr>\n",
       "      <th>9</th>\n",
       "      <td>Desarrollado</td>\n",
       "      <td>2019-12-31</td>\n",
       "      <td>80.726863</td>\n",
       "      <td>93.635</td>\n",
       "      <td>19.929799</td>\n",
       "      <td>24.671024</td>\n",
       "    </tr>\n",
       "    <tr>\n",
       "      <th>10</th>\n",
       "      <td>Desarrollado</td>\n",
       "      <td>2020-12-31</td>\n",
       "      <td>88.011148</td>\n",
       "      <td>100.000</td>\n",
       "      <td>18.243465</td>\n",
       "      <td>20.714421</td>\n",
       "    </tr>\n",
       "    <tr>\n",
       "      <th>11</th>\n",
       "      <td>Desarrollado</td>\n",
       "      <td>2021-12-31</td>\n",
       "      <td>86.328521</td>\n",
       "      <td>100.000</td>\n",
       "      <td>20.983222</td>\n",
       "      <td>24.289592</td>\n",
       "    </tr>\n",
       "    <tr>\n",
       "      <th>12</th>\n",
       "      <td>Desarrollado</td>\n",
       "      <td>2022-12-31</td>\n",
       "      <td>84.971959</td>\n",
       "      <td>100.000</td>\n",
       "      <td>21.064095</td>\n",
       "      <td>24.772482</td>\n",
       "    </tr>\n",
       "    <tr>\n",
       "      <th>13</th>\n",
       "      <td>Desarrollado</td>\n",
       "      <td>2023-12-31</td>\n",
       "      <td>86.274479</td>\n",
       "      <td>100.000</td>\n",
       "      <td>20.185064</td>\n",
       "      <td>23.380302</td>\n",
       "    </tr>\n",
       "    <tr>\n",
       "      <th>14</th>\n",
       "      <td>Desarrollado</td>\n",
       "      <td>2024-12-31</td>\n",
       "      <td>87.993033</td>\n",
       "      <td>100.000</td>\n",
       "      <td>19.071490</td>\n",
       "      <td>21.659055</td>\n",
       "    </tr>\n",
       "    <tr>\n",
       "      <th>15</th>\n",
       "      <td>Desarrollado</td>\n",
       "      <td>2025-12-31</td>\n",
       "      <td>88.708153</td>\n",
       "      <td>100.000</td>\n",
       "      <td>18.417142</td>\n",
       "      <td>20.728412</td>\n",
       "    </tr>\n",
       "  </tbody>\n",
       "</table>\n",
       "</div>"
      ],
      "text/plain": [
       "           grupo       Date       mean   median        std         cv\n",
       "0   Desarrollado 2010-12-31  40.123123   46.710  10.070574  25.081980\n",
       "1   Desarrollado 2011-12-31  45.624356   52.450  11.013279  24.122496\n",
       "2   Desarrollado 2012-12-31  49.910232   58.240  12.580880  25.189792\n",
       "3   Desarrollado 2013-12-31  55.884507   64.120  13.405194  23.970883\n",
       "4   Desarrollado 2014-12-31  60.402877   69.800  14.785438  24.461265\n",
       "5   Desarrollado 2015-12-31  64.888055   75.350  16.076528  24.758815\n",
       "6   Desarrollado 2016-12-31  70.765710   80.520  16.474660  23.264661\n",
       "7   Desarrollado 2017-12-31  72.595890   85.280  18.531406  25.509307\n",
       "8   Desarrollado 2018-12-31  78.235041   89.710  18.657142  23.831213\n",
       "9   Desarrollado 2019-12-31  80.726863   93.635  19.929799  24.671024\n",
       "10  Desarrollado 2020-12-31  88.011148  100.000  18.243465  20.714421\n",
       "11  Desarrollado 2021-12-31  86.328521  100.000  20.983222  24.289592\n",
       "12  Desarrollado 2022-12-31  84.971959  100.000  21.064095  24.772482\n",
       "13  Desarrollado 2023-12-31  86.274479  100.000  20.185064  23.380302\n",
       "14  Desarrollado 2024-12-31  87.993033  100.000  19.071490  21.659055\n",
       "15  Desarrollado 2025-12-31  88.708153  100.000  18.417142  20.728412"
      ]
     },
     "execution_count": 499,
     "metadata": {},
     "output_type": "execute_result"
    }
   ],
   "source": [
    "resultados_desarollados"
   ]
  },
  {
   "cell_type": "code",
   "execution_count": 500,
   "id": "459895d8-893e-4d5e-9fc6-a703490409cc",
   "metadata": {},
   "outputs": [],
   "source": [
    "resultados_no_desarollados = paises_en_desarollo.groupby('grupo').resample('YE')['Internet_Penetration (%)'].agg(\n",
    "    ['mean', 'median', 'std', cv]).reset_index()"
   ]
  },
  {
   "cell_type": "code",
   "execution_count": 501,
   "id": "24dc8fa1-5816-4bde-b761-6f8287791d76",
   "metadata": {},
   "outputs": [
    {
     "data": {
      "text/html": [
       "<div>\n",
       "<style scoped>\n",
       "    .dataframe tbody tr th:only-of-type {\n",
       "        vertical-align: middle;\n",
       "    }\n",
       "\n",
       "    .dataframe tbody tr th {\n",
       "        vertical-align: top;\n",
       "    }\n",
       "\n",
       "    .dataframe thead th {\n",
       "        text-align: right;\n",
       "    }\n",
       "</style>\n",
       "<table border=\"1\" class=\"dataframe\">\n",
       "  <thead>\n",
       "    <tr style=\"text-align: right;\">\n",
       "      <th></th>\n",
       "      <th>grupo</th>\n",
       "      <th>Date</th>\n",
       "      <th>mean</th>\n",
       "      <th>median</th>\n",
       "      <th>std</th>\n",
       "      <th>cv</th>\n",
       "    </tr>\n",
       "  </thead>\n",
       "  <tbody>\n",
       "    <tr>\n",
       "      <th>0</th>\n",
       "      <td>En desarrollo</td>\n",
       "      <td>2010-12-31</td>\n",
       "      <td>15.978041</td>\n",
       "      <td>14.640</td>\n",
       "      <td>9.985426</td>\n",
       "      <td>62.483980</td>\n",
       "    </tr>\n",
       "    <tr>\n",
       "      <th>1</th>\n",
       "      <td>En desarrollo</td>\n",
       "      <td>2011-12-31</td>\n",
       "      <td>19.947312</td>\n",
       "      <td>18.860</td>\n",
       "      <td>11.016861</td>\n",
       "      <td>55.220345</td>\n",
       "    </tr>\n",
       "    <tr>\n",
       "      <th>2</th>\n",
       "      <td>En desarrollo</td>\n",
       "      <td>2012-12-31</td>\n",
       "      <td>24.558535</td>\n",
       "      <td>23.970</td>\n",
       "      <td>11.852570</td>\n",
       "      <td>48.254288</td>\n",
       "    </tr>\n",
       "    <tr>\n",
       "      <th>3</th>\n",
       "      <td>En desarrollo</td>\n",
       "      <td>2013-12-31</td>\n",
       "      <td>29.644784</td>\n",
       "      <td>29.950</td>\n",
       "      <td>12.397322</td>\n",
       "      <td>41.812410</td>\n",
       "    </tr>\n",
       "    <tr>\n",
       "      <th>4</th>\n",
       "      <td>En desarrollo</td>\n",
       "      <td>2014-12-31</td>\n",
       "      <td>37.274695</td>\n",
       "      <td>39.260</td>\n",
       "      <td>12.782840</td>\n",
       "      <td>34.287742</td>\n",
       "    </tr>\n",
       "    <tr>\n",
       "      <th>5</th>\n",
       "      <td>En desarrollo</td>\n",
       "      <td>2015-12-31</td>\n",
       "      <td>41.406010</td>\n",
       "      <td>44.080</td>\n",
       "      <td>13.572648</td>\n",
       "      <td>32.773801</td>\n",
       "    </tr>\n",
       "    <tr>\n",
       "      <th>6</th>\n",
       "      <td>En desarrollo</td>\n",
       "      <td>2016-12-31</td>\n",
       "      <td>47.762312</td>\n",
       "      <td>51.820</td>\n",
       "      <td>14.628243</td>\n",
       "      <td>30.621937</td>\n",
       "    </tr>\n",
       "    <tr>\n",
       "      <th>7</th>\n",
       "      <td>En desarrollo</td>\n",
       "      <td>2017-12-31</td>\n",
       "      <td>54.166521</td>\n",
       "      <td>59.570</td>\n",
       "      <td>15.350225</td>\n",
       "      <td>28.334100</td>\n",
       "    </tr>\n",
       "    <tr>\n",
       "      <th>8</th>\n",
       "      <td>En desarrollo</td>\n",
       "      <td>2018-12-31</td>\n",
       "      <td>60.102993</td>\n",
       "      <td>66.970</td>\n",
       "      <td>15.959575</td>\n",
       "      <td>26.549164</td>\n",
       "    </tr>\n",
       "    <tr>\n",
       "      <th>9</th>\n",
       "      <td>En desarrollo</td>\n",
       "      <td>2019-12-31</td>\n",
       "      <td>65.759318</td>\n",
       "      <td>73.750</td>\n",
       "      <td>17.151818</td>\n",
       "      <td>26.078252</td>\n",
       "    </tr>\n",
       "    <tr>\n",
       "      <th>10</th>\n",
       "      <td>En desarrollo</td>\n",
       "      <td>2020-12-31</td>\n",
       "      <td>80.350690</td>\n",
       "      <td>91.690</td>\n",
       "      <td>19.531555</td>\n",
       "      <td>24.303736</td>\n",
       "    </tr>\n",
       "    <tr>\n",
       "      <th>11</th>\n",
       "      <td>En desarrollo</td>\n",
       "      <td>2021-12-31</td>\n",
       "      <td>74.784990</td>\n",
       "      <td>84.825</td>\n",
       "      <td>18.904384</td>\n",
       "      <td>25.273984</td>\n",
       "    </tr>\n",
       "    <tr>\n",
       "      <th>12</th>\n",
       "      <td>En desarrollo</td>\n",
       "      <td>2022-12-31</td>\n",
       "      <td>77.841805</td>\n",
       "      <td>89.080</td>\n",
       "      <td>19.471409</td>\n",
       "      <td>25.009793</td>\n",
       "    </tr>\n",
       "    <tr>\n",
       "      <th>13</th>\n",
       "      <td>En desarrollo</td>\n",
       "      <td>2023-12-31</td>\n",
       "      <td>80.275476</td>\n",
       "      <td>92.460</td>\n",
       "      <td>19.984399</td>\n",
       "      <td>24.890512</td>\n",
       "    </tr>\n",
       "    <tr>\n",
       "      <th>14</th>\n",
       "      <td>En desarrollo</td>\n",
       "      <td>2024-12-31</td>\n",
       "      <td>82.552196</td>\n",
       "      <td>95.150</td>\n",
       "      <td>20.254980</td>\n",
       "      <td>24.531778</td>\n",
       "    </tr>\n",
       "    <tr>\n",
       "      <th>15</th>\n",
       "      <td>En desarrollo</td>\n",
       "      <td>2025-12-31</td>\n",
       "      <td>84.612333</td>\n",
       "      <td>97.330</td>\n",
       "      <td>20.475145</td>\n",
       "      <td>24.189136</td>\n",
       "    </tr>\n",
       "  </tbody>\n",
       "</table>\n",
       "</div>"
      ],
      "text/plain": [
       "            grupo       Date       mean  median        std         cv\n",
       "0   En desarrollo 2010-12-31  15.978041  14.640   9.985426  62.483980\n",
       "1   En desarrollo 2011-12-31  19.947312  18.860  11.016861  55.220345\n",
       "2   En desarrollo 2012-12-31  24.558535  23.970  11.852570  48.254288\n",
       "3   En desarrollo 2013-12-31  29.644784  29.950  12.397322  41.812410\n",
       "4   En desarrollo 2014-12-31  37.274695  39.260  12.782840  34.287742\n",
       "5   En desarrollo 2015-12-31  41.406010  44.080  13.572648  32.773801\n",
       "6   En desarrollo 2016-12-31  47.762312  51.820  14.628243  30.621937\n",
       "7   En desarrollo 2017-12-31  54.166521  59.570  15.350225  28.334100\n",
       "8   En desarrollo 2018-12-31  60.102993  66.970  15.959575  26.549164\n",
       "9   En desarrollo 2019-12-31  65.759318  73.750  17.151818  26.078252\n",
       "10  En desarrollo 2020-12-31  80.350690  91.690  19.531555  24.303736\n",
       "11  En desarrollo 2021-12-31  74.784990  84.825  18.904384  25.273984\n",
       "12  En desarrollo 2022-12-31  77.841805  89.080  19.471409  25.009793\n",
       "13  En desarrollo 2023-12-31  80.275476  92.460  19.984399  24.890512\n",
       "14  En desarrollo 2024-12-31  82.552196  95.150  20.254980  24.531778\n",
       "15  En desarrollo 2025-12-31  84.612333  97.330  20.475145  24.189136"
      ]
     },
     "execution_count": 501,
     "metadata": {},
     "output_type": "execute_result"
    }
   ],
   "source": [
    "resultados_no_desarollados"
   ]
  },
  {
   "cell_type": "code",
   "execution_count": 502,
   "id": "7b145d02-e446-48da-bbfa-df8e2600a297",
   "metadata": {},
   "outputs": [
    {
     "data": {
      "text/html": [
       "<div>\n",
       "<style scoped>\n",
       "    .dataframe tbody tr th:only-of-type {\n",
       "        vertical-align: middle;\n",
       "    }\n",
       "\n",
       "    .dataframe tbody tr th {\n",
       "        vertical-align: top;\n",
       "    }\n",
       "\n",
       "    .dataframe thead th {\n",
       "        text-align: right;\n",
       "    }\n",
       "</style>\n",
       "<table border=\"1\" class=\"dataframe\">\n",
       "  <thead>\n",
       "    <tr style=\"text-align: right;\">\n",
       "      <th></th>\n",
       "      <th>Country</th>\n",
       "      <th>Date</th>\n",
       "      <th>Internet_Penetration (%)</th>\n",
       "      <th>Broadband_Speed (Mbps)</th>\n",
       "      <th>GDP_Per_Capita (USD)</th>\n",
       "      <th>Education_Level (%)</th>\n",
       "      <th>Mobile_Data_Usage (GB)</th>\n",
       "      <th>Digital_Investment (M USD)</th>\n",
       "      <th>Digital_Literacy (%)</th>\n",
       "      <th>X_Sentiment_Score</th>\n",
       "      <th>5G_Rollout</th>\n",
       "      <th>Urban_Rural</th>\n",
       "    </tr>\n",
       "  </thead>\n",
       "  <tbody>\n",
       "    <tr>\n",
       "      <th>0</th>\n",
       "      <td>USA</td>\n",
       "      <td>2010-01-01</td>\n",
       "      <td>25.45</td>\n",
       "      <td>5.23</td>\n",
       "      <td>20339.01</td>\n",
       "      <td>47.17</td>\n",
       "      <td>0.26</td>\n",
       "      <td>428.95</td>\n",
       "      <td>85.29</td>\n",
       "      <td>0.77</td>\n",
       "      <td>0</td>\n",
       "      <td>Rural</td>\n",
       "    </tr>\n",
       "    <tr>\n",
       "      <th>1</th>\n",
       "      <td>USA</td>\n",
       "      <td>2010-01-02</td>\n",
       "      <td>47.88</td>\n",
       "      <td>9.57</td>\n",
       "      <td>20332.14</td>\n",
       "      <td>46.71</td>\n",
       "      <td>0.54</td>\n",
       "      <td>441.28</td>\n",
       "      <td>85.41</td>\n",
       "      <td>-0.49</td>\n",
       "      <td>0</td>\n",
       "      <td>Urban</td>\n",
       "    </tr>\n",
       "    <tr>\n",
       "      <th>2</th>\n",
       "      <td>USA</td>\n",
       "      <td>2010-01-03</td>\n",
       "      <td>46.46</td>\n",
       "      <td>9.71</td>\n",
       "      <td>20319.72</td>\n",
       "      <td>46.75</td>\n",
       "      <td>0.64</td>\n",
       "      <td>447.51</td>\n",
       "      <td>85.32</td>\n",
       "      <td>-0.24</td>\n",
       "      <td>0</td>\n",
       "      <td>Urban</td>\n",
       "    </tr>\n",
       "    <tr>\n",
       "      <th>3</th>\n",
       "      <td>USA</td>\n",
       "      <td>2010-01-04</td>\n",
       "      <td>46.80</td>\n",
       "      <td>9.73</td>\n",
       "      <td>20334.79</td>\n",
       "      <td>47.09</td>\n",
       "      <td>0.53</td>\n",
       "      <td>438.25</td>\n",
       "      <td>85.23</td>\n",
       "      <td>-0.66</td>\n",
       "      <td>0</td>\n",
       "      <td>Urban</td>\n",
       "    </tr>\n",
       "    <tr>\n",
       "      <th>4</th>\n",
       "      <td>USA</td>\n",
       "      <td>2010-01-05</td>\n",
       "      <td>46.91</td>\n",
       "      <td>9.71</td>\n",
       "      <td>20377.81</td>\n",
       "      <td>46.96</td>\n",
       "      <td>0.56</td>\n",
       "      <td>436.41</td>\n",
       "      <td>85.79</td>\n",
       "      <td>-0.21</td>\n",
       "      <td>0</td>\n",
       "      <td>Urban</td>\n",
       "    </tr>\n",
       "    <tr>\n",
       "      <th>...</th>\n",
       "      <td>...</td>\n",
       "      <td>...</td>\n",
       "      <td>...</td>\n",
       "      <td>...</td>\n",
       "      <td>...</td>\n",
       "      <td>...</td>\n",
       "      <td>...</td>\n",
       "      <td>...</td>\n",
       "      <td>...</td>\n",
       "      <td>...</td>\n",
       "      <td>...</td>\n",
       "      <td>...</td>\n",
       "    </tr>\n",
       "    <tr>\n",
       "      <th>56355</th>\n",
       "      <td>South Africa</td>\n",
       "      <td>2025-06-02</td>\n",
       "      <td>96.67</td>\n",
       "      <td>122.60</td>\n",
       "      <td>9927.28</td>\n",
       "      <td>38.71</td>\n",
       "      <td>10.27</td>\n",
       "      <td>1644.72</td>\n",
       "      <td>62.14</td>\n",
       "      <td>0.53</td>\n",
       "      <td>1</td>\n",
       "      <td>Urban</td>\n",
       "    </tr>\n",
       "    <tr>\n",
       "      <th>56356</th>\n",
       "      <td>South Africa</td>\n",
       "      <td>2025-06-03</td>\n",
       "      <td>97.85</td>\n",
       "      <td>122.69</td>\n",
       "      <td>9987.56</td>\n",
       "      <td>39.21</td>\n",
       "      <td>10.45</td>\n",
       "      <td>1639.97</td>\n",
       "      <td>62.65</td>\n",
       "      <td>-0.60</td>\n",
       "      <td>1</td>\n",
       "      <td>Urban</td>\n",
       "    </tr>\n",
       "    <tr>\n",
       "      <th>56357</th>\n",
       "      <td>South Africa</td>\n",
       "      <td>2025-06-04</td>\n",
       "      <td>97.23</td>\n",
       "      <td>122.66</td>\n",
       "      <td>10046.64</td>\n",
       "      <td>39.06</td>\n",
       "      <td>10.27</td>\n",
       "      <td>1624.73</td>\n",
       "      <td>62.53</td>\n",
       "      <td>0.94</td>\n",
       "      <td>1</td>\n",
       "      <td>Urban</td>\n",
       "    </tr>\n",
       "    <tr>\n",
       "      <th>56358</th>\n",
       "      <td>South Africa</td>\n",
       "      <td>2025-06-05</td>\n",
       "      <td>97.30</td>\n",
       "      <td>122.69</td>\n",
       "      <td>10022.64</td>\n",
       "      <td>39.06</td>\n",
       "      <td>10.36</td>\n",
       "      <td>1645.58</td>\n",
       "      <td>62.41</td>\n",
       "      <td>-0.64</td>\n",
       "      <td>1</td>\n",
       "      <td>Urban</td>\n",
       "    </tr>\n",
       "    <tr>\n",
       "      <th>56359</th>\n",
       "      <td>South Africa</td>\n",
       "      <td>2025-06-06</td>\n",
       "      <td>96.88</td>\n",
       "      <td>122.75</td>\n",
       "      <td>10053.14</td>\n",
       "      <td>38.94</td>\n",
       "      <td>10.34</td>\n",
       "      <td>1666.16</td>\n",
       "      <td>62.20</td>\n",
       "      <td>-0.49</td>\n",
       "      <td>1</td>\n",
       "      <td>Urban</td>\n",
       "    </tr>\n",
       "  </tbody>\n",
       "</table>\n",
       "<p>56360 rows × 12 columns</p>\n",
       "</div>"
      ],
      "text/plain": [
       "            Country       Date  Internet_Penetration (%)  \\\n",
       "0               USA 2010-01-01                     25.45   \n",
       "1               USA 2010-01-02                     47.88   \n",
       "2               USA 2010-01-03                     46.46   \n",
       "3               USA 2010-01-04                     46.80   \n",
       "4               USA 2010-01-05                     46.91   \n",
       "...             ...        ...                       ...   \n",
       "56355  South Africa 2025-06-02                     96.67   \n",
       "56356  South Africa 2025-06-03                     97.85   \n",
       "56357  South Africa 2025-06-04                     97.23   \n",
       "56358  South Africa 2025-06-05                     97.30   \n",
       "56359  South Africa 2025-06-06                     96.88   \n",
       "\n",
       "       Broadband_Speed (Mbps)  GDP_Per_Capita (USD)  Education_Level (%)  \\\n",
       "0                        5.23              20339.01                47.17   \n",
       "1                        9.57              20332.14                46.71   \n",
       "2                        9.71              20319.72                46.75   \n",
       "3                        9.73              20334.79                47.09   \n",
       "4                        9.71              20377.81                46.96   \n",
       "...                       ...                   ...                  ...   \n",
       "56355                  122.60               9927.28                38.71   \n",
       "56356                  122.69               9987.56                39.21   \n",
       "56357                  122.66              10046.64                39.06   \n",
       "56358                  122.69              10022.64                39.06   \n",
       "56359                  122.75              10053.14                38.94   \n",
       "\n",
       "       Mobile_Data_Usage (GB)  Digital_Investment (M USD)  \\\n",
       "0                        0.26                      428.95   \n",
       "1                        0.54                      441.28   \n",
       "2                        0.64                      447.51   \n",
       "3                        0.53                      438.25   \n",
       "4                        0.56                      436.41   \n",
       "...                       ...                         ...   \n",
       "56355                   10.27                     1644.72   \n",
       "56356                   10.45                     1639.97   \n",
       "56357                   10.27                     1624.73   \n",
       "56358                   10.36                     1645.58   \n",
       "56359                   10.34                     1666.16   \n",
       "\n",
       "       Digital_Literacy (%)  X_Sentiment_Score  5G_Rollout Urban_Rural  \n",
       "0                     85.29               0.77           0       Rural  \n",
       "1                     85.41              -0.49           0       Urban  \n",
       "2                     85.32              -0.24           0       Urban  \n",
       "3                     85.23              -0.66           0       Urban  \n",
       "4                     85.79              -0.21           0       Urban  \n",
       "...                     ...                ...         ...         ...  \n",
       "56355                 62.14               0.53           1       Urban  \n",
       "56356                 62.65              -0.60           1       Urban  \n",
       "56357                 62.53               0.94           1       Urban  \n",
       "56358                 62.41              -0.64           1       Urban  \n",
       "56359                 62.20              -0.49           1       Urban  \n",
       "\n",
       "[56360 rows x 12 columns]"
      ]
     },
     "execution_count": 502,
     "metadata": {},
     "output_type": "execute_result"
    }
   ],
   "source": [
    "df"
   ]
  },
  {
   "cell_type": "code",
   "execution_count": 503,
   "id": "e342c0a8-aa29-48da-af31-9ddce665b8ab",
   "metadata": {},
   "outputs": [],
   "source": [
    "df['Year'] = df['Date'].dt.year"
   ]
  },
  {
   "cell_type": "code",
   "execution_count": 504,
   "id": "3afe7279-06a3-4841-b5f6-c57024c5a122",
   "metadata": {},
   "outputs": [],
   "source": [
    "df_grouped = df.groupby(['Country', 'Year'], as_index=False)['Internet_Penetration (%)'].mean()"
   ]
  },
  {
   "cell_type": "code",
   "execution_count": 505,
   "id": "7c0d4da1-9d0a-4552-824f-869be517a0f7",
   "metadata": {},
   "outputs": [
    {
     "data": {
      "text/html": [
       "<div>\n",
       "<style scoped>\n",
       "    .dataframe tbody tr th:only-of-type {\n",
       "        vertical-align: middle;\n",
       "    }\n",
       "\n",
       "    .dataframe tbody tr th {\n",
       "        vertical-align: top;\n",
       "    }\n",
       "\n",
       "    .dataframe thead th {\n",
       "        text-align: right;\n",
       "    }\n",
       "</style>\n",
       "<table border=\"1\" class=\"dataframe\">\n",
       "  <thead>\n",
       "    <tr style=\"text-align: right;\">\n",
       "      <th></th>\n",
       "      <th>Country</th>\n",
       "      <th>Year</th>\n",
       "      <th>Internet_Penetration (%)</th>\n",
       "    </tr>\n",
       "  </thead>\n",
       "  <tbody>\n",
       "    <tr>\n",
       "      <th>0</th>\n",
       "      <td>Brazil</td>\n",
       "      <td>2010</td>\n",
       "      <td>12.806027</td>\n",
       "    </tr>\n",
       "    <tr>\n",
       "      <th>1</th>\n",
       "      <td>Brazil</td>\n",
       "      <td>2011</td>\n",
       "      <td>16.179918</td>\n",
       "    </tr>\n",
       "    <tr>\n",
       "      <th>2</th>\n",
       "      <td>Brazil</td>\n",
       "      <td>2012</td>\n",
       "      <td>21.412705</td>\n",
       "    </tr>\n",
       "    <tr>\n",
       "      <th>3</th>\n",
       "      <td>Brazil</td>\n",
       "      <td>2013</td>\n",
       "      <td>25.947342</td>\n",
       "    </tr>\n",
       "    <tr>\n",
       "      <th>4</th>\n",
       "      <td>Brazil</td>\n",
       "      <td>2014</td>\n",
       "      <td>34.203342</td>\n",
       "    </tr>\n",
       "    <tr>\n",
       "      <th>...</th>\n",
       "      <td>...</td>\n",
       "      <td>...</td>\n",
       "      <td>...</td>\n",
       "    </tr>\n",
       "    <tr>\n",
       "      <th>155</th>\n",
       "      <td>USA</td>\n",
       "      <td>2021</td>\n",
       "      <td>85.823425</td>\n",
       "    </tr>\n",
       "    <tr>\n",
       "      <th>156</th>\n",
       "      <td>USA</td>\n",
       "      <td>2022</td>\n",
       "      <td>85.469233</td>\n",
       "    </tr>\n",
       "    <tr>\n",
       "      <th>157</th>\n",
       "      <td>USA</td>\n",
       "      <td>2023</td>\n",
       "      <td>86.805836</td>\n",
       "    </tr>\n",
       "    <tr>\n",
       "      <th>158</th>\n",
       "      <td>USA</td>\n",
       "      <td>2024</td>\n",
       "      <td>88.217678</td>\n",
       "    </tr>\n",
       "    <tr>\n",
       "      <th>159</th>\n",
       "      <td>USA</td>\n",
       "      <td>2025</td>\n",
       "      <td>87.129873</td>\n",
       "    </tr>\n",
       "  </tbody>\n",
       "</table>\n",
       "<p>160 rows × 3 columns</p>\n",
       "</div>"
      ],
      "text/plain": [
       "    Country  Year  Internet_Penetration (%)\n",
       "0    Brazil  2010                 12.806027\n",
       "1    Brazil  2011                 16.179918\n",
       "2    Brazil  2012                 21.412705\n",
       "3    Brazil  2013                 25.947342\n",
       "4    Brazil  2014                 34.203342\n",
       "..      ...   ...                       ...\n",
       "155     USA  2021                 85.823425\n",
       "156     USA  2022                 85.469233\n",
       "157     USA  2023                 86.805836\n",
       "158     USA  2024                 88.217678\n",
       "159     USA  2025                 87.129873\n",
       "\n",
       "[160 rows x 3 columns]"
      ]
     },
     "execution_count": 505,
     "metadata": {},
     "output_type": "execute_result"
    }
   ],
   "source": [
    "df_grouped"
   ]
  },
  {
   "cell_type": "code",
   "execution_count": 506,
   "id": "a688a427-17ec-465c-8085-703759fd1c06",
   "metadata": {},
   "outputs": [
    {
     "data": {
      "application/vnd.plotly.v1+json": {
       "config": {
        "plotlyServerURL": "https://plot.ly"
       },
       "data": [
        {
         "mode": "lines+markers",
         "name": "Brazil",
         "showlegend": false,
         "type": "scatter",
         "x": [
          2010,
          2011,
          2012,
          2013,
          2014,
          2015,
          2016,
          2017,
          2018,
          2019,
          2020,
          2021,
          2022,
          2023,
          2024,
          2025
         ],
         "xaxis": "x",
         "y": [
          12.806027397260273,
          16.179917808219177,
          21.412704918032787,
          25.947342465753426,
          34.20334246575342,
          38.38073972602739,
          45.105409836065576,
          51.361917808219175,
          58.235068493150685,
          64.09463013698631,
          77.88920765027322,
          73.37120547945206,
          75.9124109589041,
          78.55090410958904,
          80.24887978142077,
          82.3724203821656
         ],
         "yaxis": "y"
        },
        {
         "mode": "lines+markers",
         "name": "China",
         "showlegend": false,
         "type": "scatter",
         "x": [
          2010,
          2011,
          2012,
          2013,
          2014,
          2015,
          2016,
          2017,
          2018,
          2019,
          2020,
          2021,
          2022,
          2023,
          2024,
          2025
         ],
         "xaxis": "x2",
         "y": [
          39.27465753424657,
          45.25476712328768,
          50.951092896174856,
          55.51720547945205,
          60.17731506849315,
          64.22523287671233,
          70.02647540983607,
          73.71701369863014,
          74.70306849315068,
          80.29613698630138,
          89.02986338797814,
          86.08309589041096,
          86.5722191780822,
          87.42668493150686,
          87.87885245901639,
          89.70980891719745
         ],
         "yaxis": "y2"
        },
        {
         "mode": "lines+markers",
         "name": "Ethiopia",
         "showlegend": false,
         "type": "scatter",
         "x": [
          2010,
          2011,
          2012,
          2013,
          2014,
          2015,
          2016,
          2017,
          2018,
          2019,
          2020,
          2021,
          2022,
          2023,
          2024,
          2025
         ],
         "xaxis": "x3",
         "y": [
          12.500465753424658,
          15.981561643835617,
          20.919781420765027,
          26.295753424657537,
          33.558465753424656,
          38.65608219178082,
          44.490792349726775,
          51.26243835616439,
          58.05558904109589,
          63.91660273972603,
          78.69693989071038,
          72.54276712328767,
          76.26745205479452,
          78.41602739726027,
          80.54398907103825,
          86.93
         ],
         "yaxis": "y3"
        },
        {
         "mode": "lines+markers",
         "name": "Germany",
         "showlegend": false,
         "type": "scatter",
         "x": [
          2010,
          2011,
          2012,
          2013,
          2014,
          2015,
          2016,
          2017,
          2018,
          2019,
          2020,
          2021,
          2022,
          2023,
          2024,
          2025
         ],
         "xaxis": "x4",
         "y": [
          40.10797260273973,
          45.7866301369863,
          50.80155737704918,
          56.161095890410955,
          60.3727397260274,
          64.63430136986301,
          71.7220218579235,
          72.31309589041095,
          77.96331506849316,
          81.24147945205479,
          87.30871584699455,
          86.83361643835616,
          84.47468493150684,
          85.74312328767124,
          87.76838797814207,
          90.2864331210191
         ],
         "yaxis": "y4"
        },
        {
         "mode": "lines+markers",
         "name": "India",
         "showlegend": false,
         "type": "scatter",
         "x": [
          2010,
          2011,
          2012,
          2013,
          2014,
          2015,
          2016,
          2017,
          2018,
          2019,
          2020,
          2021,
          2022,
          2023,
          2024,
          2025
         ],
         "xaxis": "x5",
         "y": [
          12.512219178082193,
          16.382027397260273,
          20.488551912568308,
          25.653780821917806,
          34.09613698630137,
          38.17542465753425,
          43.72092896174863,
          51.79621917808219,
          58.636273972602744,
          65.17991780821917,
          78.53521857923496,
          71.35306849315069,
          76.41186301369864,
          79.95241095890411,
          82.47898907103826,
          81.54050955414013
         ],
         "yaxis": "y5"
        },
        {
         "mode": "lines+markers",
         "name": "Indonesia",
         "showlegend": false,
         "type": "scatter",
         "x": [
          2010,
          2011,
          2012,
          2013,
          2014,
          2015,
          2016,
          2017,
          2018,
          2019,
          2020,
          2021,
          2022,
          2023,
          2024,
          2025
         ],
         "xaxis": "x6",
         "y": [
          12.821753424657533,
          16.58821917808219,
          20.747021857923496,
          25.602931506849313,
          34.84901369863014,
          38.32531506849315,
          44.634890710382514,
          49.71369863013699,
          57.683013698630134,
          63.45572602739726,
          79.0846174863388,
          74.91197260273972,
          76.31975342465753,
          80.1772602739726,
          82.41475409836066,
          83.41063694267515
         ],
         "yaxis": "y6"
        },
        {
         "mode": "lines+markers",
         "name": "Kenya",
         "showlegend": false,
         "type": "scatter",
         "x": [
          2010,
          2011,
          2012,
          2013,
          2014,
          2015,
          2016,
          2017,
          2018,
          2019,
          2020,
          2021,
          2022,
          2023,
          2024,
          2025
         ],
         "xaxis": "x7",
         "y": [
          12.798904109589042,
          16.481287671232877,
          20.69109289617486,
          25.78698630136986,
          33.9746301369863,
          37.916602739726024,
          45.13953551912568,
          51.59093150684931,
          57.48419178082192,
          62.93142465753425,
          79.51765027322404,
          71.72975342465753,
          77.9270410958904,
          78.672301369863,
          83.76931693989071,
          86.63815286624204
         ],
         "yaxis": "y7"
        },
        {
         "mode": "lines+markers",
         "name": "Nigeria",
         "showlegend": false,
         "type": "scatter",
         "x": [
          2010,
          2011,
          2012,
          2013,
          2014,
          2015,
          2016,
          2017,
          2018,
          2019,
          2020,
          2021,
          2022,
          2023,
          2024,
          2025
         ],
         "xaxis": "x8",
         "y": [
          12.656465753424657,
          16.42931506849315,
          20.609562841530057,
          25.77260273972603,
          33.45772602739726,
          37.7341095890411,
          45.0037431693989,
          52.53449315068493,
          58.00632876712329,
          63.23416438356165,
          79.69647540983607,
          73.93115068493151,
          75.19361643835616,
          78.18550684931506,
          81.81062841530054,
          83.67834394904459
         ],
         "yaxis": "y8"
        },
        {
         "mode": "lines+markers",
         "name": "South Africa",
         "showlegend": false,
         "type": "scatter",
         "x": [
          2010,
          2011,
          2012,
          2013,
          2014,
          2015,
          2016,
          2017,
          2018,
          2019,
          2020,
          2021,
          2022,
          2023,
          2024,
          2025
         ],
         "xaxis": "x9",
         "y": [
          12.453835616438354,
          16.281397260273973,
          20.648469945355192,
          26.58167123287671,
          33.880931506849315,
          37.834575342465754,
          43.97672131147541,
          51.355452054794526,
          58.02041095890411,
          62.96594520547945,
          80.35554644808744,
          74.35690410958904,
          78.13008219178082,
          80.82271232876712,
          81.27215846994535,
          82.6187898089172
         ],
         "yaxis": "y9"
        },
        {
         "mode": "lines+markers",
         "name": "USA",
         "showlegend": false,
         "type": "scatter",
         "x": [
          2010,
          2011,
          2012,
          2013,
          2014,
          2015,
          2016,
          2017,
          2018,
          2019,
          2020,
          2021,
          2022,
          2023,
          2024,
          2025
         ],
         "xaxis": "x10",
         "y": [
          40.13827397260274,
          45.46208219178082,
          49.01890710382514,
          55.60791780821918,
          60.433013698630134,
          65.14180821917807,
          69.80939890710383,
          72.87868493150685,
          78.50676712328767,
          80.21224657534246,
          88.71357923497267,
          85.82342465753425,
          85.46923287671233,
          86.80583561643836,
          88.21767759562842,
          87.12987261146496
         ],
         "yaxis": "y10"
        }
       ],
       "layout": {
        "annotations": [
         {
          "font": {
           "size": 16
          },
          "showarrow": false,
          "text": "Brazil",
          "x": 0.225,
          "xanchor": "center",
          "xref": "paper",
          "y": 1,
          "yanchor": "bottom",
          "yref": "paper"
         },
         {
          "font": {
           "size": 16
          },
          "showarrow": false,
          "text": "China",
          "x": 0.775,
          "xanchor": "center",
          "xref": "paper",
          "y": 1,
          "yanchor": "bottom",
          "yref": "paper"
         },
         {
          "font": {
           "size": 16
          },
          "showarrow": false,
          "text": "Ethiopia",
          "x": 0.225,
          "xanchor": "center",
          "xref": "paper",
          "y": 0.78,
          "yanchor": "bottom",
          "yref": "paper"
         },
         {
          "font": {
           "size": 16
          },
          "showarrow": false,
          "text": "Germany",
          "x": 0.775,
          "xanchor": "center",
          "xref": "paper",
          "y": 0.78,
          "yanchor": "bottom",
          "yref": "paper"
         },
         {
          "font": {
           "size": 16
          },
          "showarrow": false,
          "text": "India",
          "x": 0.225,
          "xanchor": "center",
          "xref": "paper",
          "y": 0.56,
          "yanchor": "bottom",
          "yref": "paper"
         },
         {
          "font": {
           "size": 16
          },
          "showarrow": false,
          "text": "Indonesia",
          "x": 0.775,
          "xanchor": "center",
          "xref": "paper",
          "y": 0.56,
          "yanchor": "bottom",
          "yref": "paper"
         },
         {
          "font": {
           "size": 16
          },
          "showarrow": false,
          "text": "Kenya",
          "x": 0.225,
          "xanchor": "center",
          "xref": "paper",
          "y": 0.33999999999999997,
          "yanchor": "bottom",
          "yref": "paper"
         },
         {
          "font": {
           "size": 16
          },
          "showarrow": false,
          "text": "Nigeria",
          "x": 0.775,
          "xanchor": "center",
          "xref": "paper",
          "y": 0.33999999999999997,
          "yanchor": "bottom",
          "yref": "paper"
         },
         {
          "font": {
           "size": 16
          },
          "showarrow": false,
          "text": "South Africa",
          "x": 0.225,
          "xanchor": "center",
          "xref": "paper",
          "y": 0.12,
          "yanchor": "bottom",
          "yref": "paper"
         },
         {
          "font": {
           "size": 16
          },
          "showarrow": false,
          "text": "USA",
          "x": 0.775,
          "xanchor": "center",
          "xref": "paper",
          "y": 0.12,
          "yanchor": "bottom",
          "yref": "paper"
         }
        ],
        "height": 1500,
        "template": {
         "data": {
          "bar": [
           {
            "error_x": {
             "color": "#2a3f5f"
            },
            "error_y": {
             "color": "#2a3f5f"
            },
            "marker": {
             "line": {
              "color": "white",
              "width": 0.5
             },
             "pattern": {
              "fillmode": "overlay",
              "size": 10,
              "solidity": 0.2
             }
            },
            "type": "bar"
           }
          ],
          "barpolar": [
           {
            "marker": {
             "line": {
              "color": "white",
              "width": 0.5
             },
             "pattern": {
              "fillmode": "overlay",
              "size": 10,
              "solidity": 0.2
             }
            },
            "type": "barpolar"
           }
          ],
          "carpet": [
           {
            "aaxis": {
             "endlinecolor": "#2a3f5f",
             "gridcolor": "#C8D4E3",
             "linecolor": "#C8D4E3",
             "minorgridcolor": "#C8D4E3",
             "startlinecolor": "#2a3f5f"
            },
            "baxis": {
             "endlinecolor": "#2a3f5f",
             "gridcolor": "#C8D4E3",
             "linecolor": "#C8D4E3",
             "minorgridcolor": "#C8D4E3",
             "startlinecolor": "#2a3f5f"
            },
            "type": "carpet"
           }
          ],
          "choropleth": [
           {
            "colorbar": {
             "outlinewidth": 0,
             "ticks": ""
            },
            "type": "choropleth"
           }
          ],
          "contour": [
           {
            "colorbar": {
             "outlinewidth": 0,
             "ticks": ""
            },
            "colorscale": [
             [
              0,
              "#0d0887"
             ],
             [
              0.1111111111111111,
              "#46039f"
             ],
             [
              0.2222222222222222,
              "#7201a8"
             ],
             [
              0.3333333333333333,
              "#9c179e"
             ],
             [
              0.4444444444444444,
              "#bd3786"
             ],
             [
              0.5555555555555556,
              "#d8576b"
             ],
             [
              0.6666666666666666,
              "#ed7953"
             ],
             [
              0.7777777777777778,
              "#fb9f3a"
             ],
             [
              0.8888888888888888,
              "#fdca26"
             ],
             [
              1,
              "#f0f921"
             ]
            ],
            "type": "contour"
           }
          ],
          "contourcarpet": [
           {
            "colorbar": {
             "outlinewidth": 0,
             "ticks": ""
            },
            "type": "contourcarpet"
           }
          ],
          "heatmap": [
           {
            "colorbar": {
             "outlinewidth": 0,
             "ticks": ""
            },
            "colorscale": [
             [
              0,
              "#0d0887"
             ],
             [
              0.1111111111111111,
              "#46039f"
             ],
             [
              0.2222222222222222,
              "#7201a8"
             ],
             [
              0.3333333333333333,
              "#9c179e"
             ],
             [
              0.4444444444444444,
              "#bd3786"
             ],
             [
              0.5555555555555556,
              "#d8576b"
             ],
             [
              0.6666666666666666,
              "#ed7953"
             ],
             [
              0.7777777777777778,
              "#fb9f3a"
             ],
             [
              0.8888888888888888,
              "#fdca26"
             ],
             [
              1,
              "#f0f921"
             ]
            ],
            "type": "heatmap"
           }
          ],
          "heatmapgl": [
           {
            "colorbar": {
             "outlinewidth": 0,
             "ticks": ""
            },
            "colorscale": [
             [
              0,
              "#0d0887"
             ],
             [
              0.1111111111111111,
              "#46039f"
             ],
             [
              0.2222222222222222,
              "#7201a8"
             ],
             [
              0.3333333333333333,
              "#9c179e"
             ],
             [
              0.4444444444444444,
              "#bd3786"
             ],
             [
              0.5555555555555556,
              "#d8576b"
             ],
             [
              0.6666666666666666,
              "#ed7953"
             ],
             [
              0.7777777777777778,
              "#fb9f3a"
             ],
             [
              0.8888888888888888,
              "#fdca26"
             ],
             [
              1,
              "#f0f921"
             ]
            ],
            "type": "heatmapgl"
           }
          ],
          "histogram": [
           {
            "marker": {
             "pattern": {
              "fillmode": "overlay",
              "size": 10,
              "solidity": 0.2
             }
            },
            "type": "histogram"
           }
          ],
          "histogram2d": [
           {
            "colorbar": {
             "outlinewidth": 0,
             "ticks": ""
            },
            "colorscale": [
             [
              0,
              "#0d0887"
             ],
             [
              0.1111111111111111,
              "#46039f"
             ],
             [
              0.2222222222222222,
              "#7201a8"
             ],
             [
              0.3333333333333333,
              "#9c179e"
             ],
             [
              0.4444444444444444,
              "#bd3786"
             ],
             [
              0.5555555555555556,
              "#d8576b"
             ],
             [
              0.6666666666666666,
              "#ed7953"
             ],
             [
              0.7777777777777778,
              "#fb9f3a"
             ],
             [
              0.8888888888888888,
              "#fdca26"
             ],
             [
              1,
              "#f0f921"
             ]
            ],
            "type": "histogram2d"
           }
          ],
          "histogram2dcontour": [
           {
            "colorbar": {
             "outlinewidth": 0,
             "ticks": ""
            },
            "colorscale": [
             [
              0,
              "#0d0887"
             ],
             [
              0.1111111111111111,
              "#46039f"
             ],
             [
              0.2222222222222222,
              "#7201a8"
             ],
             [
              0.3333333333333333,
              "#9c179e"
             ],
             [
              0.4444444444444444,
              "#bd3786"
             ],
             [
              0.5555555555555556,
              "#d8576b"
             ],
             [
              0.6666666666666666,
              "#ed7953"
             ],
             [
              0.7777777777777778,
              "#fb9f3a"
             ],
             [
              0.8888888888888888,
              "#fdca26"
             ],
             [
              1,
              "#f0f921"
             ]
            ],
            "type": "histogram2dcontour"
           }
          ],
          "mesh3d": [
           {
            "colorbar": {
             "outlinewidth": 0,
             "ticks": ""
            },
            "type": "mesh3d"
           }
          ],
          "parcoords": [
           {
            "line": {
             "colorbar": {
              "outlinewidth": 0,
              "ticks": ""
             }
            },
            "type": "parcoords"
           }
          ],
          "pie": [
           {
            "automargin": true,
            "type": "pie"
           }
          ],
          "scatter": [
           {
            "fillpattern": {
             "fillmode": "overlay",
             "size": 10,
             "solidity": 0.2
            },
            "type": "scatter"
           }
          ],
          "scatter3d": [
           {
            "line": {
             "colorbar": {
              "outlinewidth": 0,
              "ticks": ""
             }
            },
            "marker": {
             "colorbar": {
              "outlinewidth": 0,
              "ticks": ""
             }
            },
            "type": "scatter3d"
           }
          ],
          "scattercarpet": [
           {
            "marker": {
             "colorbar": {
              "outlinewidth": 0,
              "ticks": ""
             }
            },
            "type": "scattercarpet"
           }
          ],
          "scattergeo": [
           {
            "marker": {
             "colorbar": {
              "outlinewidth": 0,
              "ticks": ""
             }
            },
            "type": "scattergeo"
           }
          ],
          "scattergl": [
           {
            "marker": {
             "colorbar": {
              "outlinewidth": 0,
              "ticks": ""
             }
            },
            "type": "scattergl"
           }
          ],
          "scattermapbox": [
           {
            "marker": {
             "colorbar": {
              "outlinewidth": 0,
              "ticks": ""
             }
            },
            "type": "scattermapbox"
           }
          ],
          "scatterpolar": [
           {
            "marker": {
             "colorbar": {
              "outlinewidth": 0,
              "ticks": ""
             }
            },
            "type": "scatterpolar"
           }
          ],
          "scatterpolargl": [
           {
            "marker": {
             "colorbar": {
              "outlinewidth": 0,
              "ticks": ""
             }
            },
            "type": "scatterpolargl"
           }
          ],
          "scatterternary": [
           {
            "marker": {
             "colorbar": {
              "outlinewidth": 0,
              "ticks": ""
             }
            },
            "type": "scatterternary"
           }
          ],
          "surface": [
           {
            "colorbar": {
             "outlinewidth": 0,
             "ticks": ""
            },
            "colorscale": [
             [
              0,
              "#0d0887"
             ],
             [
              0.1111111111111111,
              "#46039f"
             ],
             [
              0.2222222222222222,
              "#7201a8"
             ],
             [
              0.3333333333333333,
              "#9c179e"
             ],
             [
              0.4444444444444444,
              "#bd3786"
             ],
             [
              0.5555555555555556,
              "#d8576b"
             ],
             [
              0.6666666666666666,
              "#ed7953"
             ],
             [
              0.7777777777777778,
              "#fb9f3a"
             ],
             [
              0.8888888888888888,
              "#fdca26"
             ],
             [
              1,
              "#f0f921"
             ]
            ],
            "type": "surface"
           }
          ],
          "table": [
           {
            "cells": {
             "fill": {
              "color": "#EBF0F8"
             },
             "line": {
              "color": "white"
             }
            },
            "header": {
             "fill": {
              "color": "#C8D4E3"
             },
             "line": {
              "color": "white"
             }
            },
            "type": "table"
           }
          ]
         },
         "layout": {
          "annotationdefaults": {
           "arrowcolor": "#2a3f5f",
           "arrowhead": 0,
           "arrowwidth": 1
          },
          "autotypenumbers": "strict",
          "coloraxis": {
           "colorbar": {
            "outlinewidth": 0,
            "ticks": ""
           }
          },
          "colorscale": {
           "diverging": [
            [
             0,
             "#8e0152"
            ],
            [
             0.1,
             "#c51b7d"
            ],
            [
             0.2,
             "#de77ae"
            ],
            [
             0.3,
             "#f1b6da"
            ],
            [
             0.4,
             "#fde0ef"
            ],
            [
             0.5,
             "#f7f7f7"
            ],
            [
             0.6,
             "#e6f5d0"
            ],
            [
             0.7,
             "#b8e186"
            ],
            [
             0.8,
             "#7fbc41"
            ],
            [
             0.9,
             "#4d9221"
            ],
            [
             1,
             "#276419"
            ]
           ],
           "sequential": [
            [
             0,
             "#0d0887"
            ],
            [
             0.1111111111111111,
             "#46039f"
            ],
            [
             0.2222222222222222,
             "#7201a8"
            ],
            [
             0.3333333333333333,
             "#9c179e"
            ],
            [
             0.4444444444444444,
             "#bd3786"
            ],
            [
             0.5555555555555556,
             "#d8576b"
            ],
            [
             0.6666666666666666,
             "#ed7953"
            ],
            [
             0.7777777777777778,
             "#fb9f3a"
            ],
            [
             0.8888888888888888,
             "#fdca26"
            ],
            [
             1,
             "#f0f921"
            ]
           ],
           "sequentialminus": [
            [
             0,
             "#0d0887"
            ],
            [
             0.1111111111111111,
             "#46039f"
            ],
            [
             0.2222222222222222,
             "#7201a8"
            ],
            [
             0.3333333333333333,
             "#9c179e"
            ],
            [
             0.4444444444444444,
             "#bd3786"
            ],
            [
             0.5555555555555556,
             "#d8576b"
            ],
            [
             0.6666666666666666,
             "#ed7953"
            ],
            [
             0.7777777777777778,
             "#fb9f3a"
            ],
            [
             0.8888888888888888,
             "#fdca26"
            ],
            [
             1,
             "#f0f921"
            ]
           ]
          },
          "colorway": [
           "#636efa",
           "#EF553B",
           "#00cc96",
           "#ab63fa",
           "#FFA15A",
           "#19d3f3",
           "#FF6692",
           "#B6E880",
           "#FF97FF",
           "#FECB52"
          ],
          "font": {
           "color": "#2a3f5f"
          },
          "geo": {
           "bgcolor": "white",
           "lakecolor": "white",
           "landcolor": "white",
           "showlakes": true,
           "showland": true,
           "subunitcolor": "#C8D4E3"
          },
          "hoverlabel": {
           "align": "left"
          },
          "hovermode": "closest",
          "mapbox": {
           "style": "light"
          },
          "paper_bgcolor": "white",
          "plot_bgcolor": "white",
          "polar": {
           "angularaxis": {
            "gridcolor": "#EBF0F8",
            "linecolor": "#EBF0F8",
            "ticks": ""
           },
           "bgcolor": "white",
           "radialaxis": {
            "gridcolor": "#EBF0F8",
            "linecolor": "#EBF0F8",
            "ticks": ""
           }
          },
          "scene": {
           "xaxis": {
            "backgroundcolor": "white",
            "gridcolor": "#DFE8F3",
            "gridwidth": 2,
            "linecolor": "#EBF0F8",
            "showbackground": true,
            "ticks": "",
            "zerolinecolor": "#EBF0F8"
           },
           "yaxis": {
            "backgroundcolor": "white",
            "gridcolor": "#DFE8F3",
            "gridwidth": 2,
            "linecolor": "#EBF0F8",
            "showbackground": true,
            "ticks": "",
            "zerolinecolor": "#EBF0F8"
           },
           "zaxis": {
            "backgroundcolor": "white",
            "gridcolor": "#DFE8F3",
            "gridwidth": 2,
            "linecolor": "#EBF0F8",
            "showbackground": true,
            "ticks": "",
            "zerolinecolor": "#EBF0F8"
           }
          },
          "shapedefaults": {
           "line": {
            "color": "#2a3f5f"
           }
          },
          "ternary": {
           "aaxis": {
            "gridcolor": "#DFE8F3",
            "linecolor": "#A2B1C6",
            "ticks": ""
           },
           "baxis": {
            "gridcolor": "#DFE8F3",
            "linecolor": "#A2B1C6",
            "ticks": ""
           },
           "bgcolor": "white",
           "caxis": {
            "gridcolor": "#DFE8F3",
            "linecolor": "#A2B1C6",
            "ticks": ""
           }
          },
          "title": {
           "x": 0.05
          },
          "xaxis": {
           "automargin": true,
           "gridcolor": "#EBF0F8",
           "linecolor": "#EBF0F8",
           "ticks": "",
           "title": {
            "standoff": 15
           },
           "zerolinecolor": "#EBF0F8",
           "zerolinewidth": 2
          },
          "yaxis": {
           "automargin": true,
           "gridcolor": "#EBF0F8",
           "linecolor": "#EBF0F8",
           "ticks": "",
           "title": {
            "standoff": 15
           },
           "zerolinecolor": "#EBF0F8",
           "zerolinewidth": 2
          }
         }
        },
        "title": {
         "text": "Internet Adoption Over Time by Country"
        },
        "width": 900,
        "xaxis": {
         "anchor": "y",
         "autorange": true,
         "domain": [
          0,
          0.45
         ],
         "range": [
          2008.952772073922,
          2026.047227926078
         ],
         "title": {
          "text": "Year"
         },
         "type": "linear"
        },
        "xaxis10": {
         "anchor": "y10",
         "autorange": true,
         "domain": [
          0.55,
          1
         ],
         "range": [
          2008.952772073922,
          2026.047227926078
         ],
         "type": "linear"
        },
        "xaxis2": {
         "anchor": "y2",
         "autorange": true,
         "domain": [
          0.55,
          1
         ],
         "range": [
          2008.952772073922,
          2026.047227926078
         ],
         "type": "linear"
        },
        "xaxis3": {
         "anchor": "y3",
         "autorange": true,
         "domain": [
          0,
          0.45
         ],
         "range": [
          2008.952772073922,
          2026.047227926078
         ],
         "type": "linear"
        },
        "xaxis4": {
         "anchor": "y4",
         "autorange": true,
         "domain": [
          0.55,
          1
         ],
         "range": [
          2008.952772073922,
          2026.047227926078
         ],
         "type": "linear"
        },
        "xaxis5": {
         "anchor": "y5",
         "autorange": true,
         "domain": [
          0,
          0.45
         ],
         "range": [
          2008.952772073922,
          2026.047227926078
         ],
         "type": "linear"
        },
        "xaxis6": {
         "anchor": "y6",
         "autorange": true,
         "domain": [
          0.55,
          1
         ],
         "range": [
          2008.952772073922,
          2026.047227926078
         ],
         "type": "linear"
        },
        "xaxis7": {
         "anchor": "y7",
         "autorange": true,
         "domain": [
          0,
          0.45
         ],
         "range": [
          2008.952772073922,
          2026.047227926078
         ],
         "type": "linear"
        },
        "xaxis8": {
         "anchor": "y8",
         "autorange": true,
         "domain": [
          0.55,
          1
         ],
         "range": [
          2008.952772073922,
          2026.047227926078
         ],
         "type": "linear"
        },
        "xaxis9": {
         "anchor": "y9",
         "autorange": true,
         "domain": [
          0,
          0.45
         ],
         "range": [
          2008.952772073922,
          2026.047227926078
         ],
         "type": "linear"
        },
        "yaxis": {
         "anchor": "x",
         "autorange": true,
         "domain": [
          0.88,
          1
         ],
         "range": [
          6.795070739968364,
          88.38337703945751
         ],
         "title": {
          "text": "Internet Penetration (%)"
         },
         "type": "linear"
        },
        "yaxis10": {
         "anchor": "x10",
         "autorange": true,
         "domain": [
          0,
          0.12
         ],
         "range": [
          35.94107411763564,
          92.91077908993978
         ],
         "type": "linear"
        },
        "yaxis2": {
         "anchor": "x2",
         "autorange": true,
         "domain": [
          0.88,
          1
         ],
         "range": [
          34.91675573771883,
          94.06771071372519
         ],
         "type": "linear"
        },
        "yaxis3": {
         "anchor": "x3",
         "autorange": true,
         "domain": [
          0.66,
          0.78
         ],
         "range": [
          6.069304309195912,
          93.36116144422876
         ],
         "type": "linear"
        },
        "yaxis4": {
         "anchor": "x4",
         "autorange": true,
         "domain": [
          0.66,
          0.78
         ],
         "range": [
          35.772250447784,
          94.62215527597483
         ],
         "type": "linear"
        },
        "yaxis5": {
         "anchor": "x5",
         "autorange": true,
         "domain": [
          0.44,
          0.56
         ],
         "range": [
          6.466667536953824,
          88.52454071216663
         ],
         "type": "linear"
        },
        "yaxis6": {
         "anchor": "x6",
         "autorange": true,
         "domain": [
          0.44,
          0.56
         ],
         "range": [
          6.722447407663117,
          89.50994295966957
         ],
         "type": "linear"
        },
        "yaxis7": {
         "anchor": "x7",
         "autorange": true,
         "domain": [
          0.22,
          0.33999999999999997
         ],
         "range": [
          6.4187468980523885,
          93.0183100777787
         ],
         "type": "linear"
        },
        "yaxis8": {
         "anchor": "x8",
         "autorange": true,
         "domain": [
          0.22,
          0.33999999999999997
         ],
         "range": [
          6.5197463802358175,
          89.81506332223343
         ],
         "type": "linear"
        },
        "yaxis9": {
         "anchor": "x9",
         "autorange": true,
         "domain": [
          0,
          0.12
         ],
         "range": [
          6.3911596544494,
          88.68146577090616
         ],
         "type": "linear"
        }
       }
      },
      "text/html": [
       "<div>                            <div id=\"0f65d3f9-9ec3-4375-adbe-fdca5b44a9a8\" class=\"plotly-graph-div\" style=\"height:1500px; width:900px;\"></div>            <script type=\"text/javascript\">                require([\"plotly\"], function(Plotly) {                    window.PLOTLYENV=window.PLOTLYENV || {};                                    if (document.getElementById(\"0f65d3f9-9ec3-4375-adbe-fdca5b44a9a8\")) {                    Plotly.newPlot(                        \"0f65d3f9-9ec3-4375-adbe-fdca5b44a9a8\",                        [{\"mode\":\"lines+markers\",\"name\":\"Brazil\",\"showlegend\":false,\"x\":[2010,2011,2012,2013,2014,2015,2016,2017,2018,2019,2020,2021,2022,2023,2024,2025],\"y\":[12.806027397260273,16.179917808219177,21.412704918032787,25.947342465753426,34.20334246575342,38.38073972602739,45.105409836065576,51.361917808219175,58.235068493150685,64.09463013698631,77.88920765027322,73.37120547945206,75.9124109589041,78.55090410958904,80.24887978142077,82.3724203821656],\"type\":\"scatter\",\"xaxis\":\"x\",\"yaxis\":\"y\"},{\"mode\":\"lines+markers\",\"name\":\"China\",\"showlegend\":false,\"x\":[2010,2011,2012,2013,2014,2015,2016,2017,2018,2019,2020,2021,2022,2023,2024,2025],\"y\":[39.27465753424657,45.25476712328768,50.951092896174856,55.51720547945205,60.17731506849315,64.22523287671233,70.02647540983607,73.71701369863014,74.70306849315068,80.29613698630138,89.02986338797814,86.08309589041096,86.5722191780822,87.42668493150686,87.87885245901639,89.70980891719745],\"type\":\"scatter\",\"xaxis\":\"x2\",\"yaxis\":\"y2\"},{\"mode\":\"lines+markers\",\"name\":\"Ethiopia\",\"showlegend\":false,\"x\":[2010,2011,2012,2013,2014,2015,2016,2017,2018,2019,2020,2021,2022,2023,2024,2025],\"y\":[12.500465753424658,15.981561643835617,20.919781420765027,26.295753424657537,33.558465753424656,38.65608219178082,44.490792349726775,51.26243835616439,58.05558904109589,63.91660273972603,78.69693989071038,72.54276712328767,76.26745205479452,78.41602739726027,80.54398907103825,86.93],\"type\":\"scatter\",\"xaxis\":\"x3\",\"yaxis\":\"y3\"},{\"mode\":\"lines+markers\",\"name\":\"Germany\",\"showlegend\":false,\"x\":[2010,2011,2012,2013,2014,2015,2016,2017,2018,2019,2020,2021,2022,2023,2024,2025],\"y\":[40.10797260273973,45.7866301369863,50.80155737704918,56.161095890410955,60.3727397260274,64.63430136986301,71.7220218579235,72.31309589041095,77.96331506849316,81.24147945205479,87.30871584699455,86.83361643835616,84.47468493150684,85.74312328767124,87.76838797814207,90.2864331210191],\"type\":\"scatter\",\"xaxis\":\"x4\",\"yaxis\":\"y4\"},{\"mode\":\"lines+markers\",\"name\":\"India\",\"showlegend\":false,\"x\":[2010,2011,2012,2013,2014,2015,2016,2017,2018,2019,2020,2021,2022,2023,2024,2025],\"y\":[12.512219178082193,16.382027397260273,20.488551912568308,25.653780821917806,34.09613698630137,38.17542465753425,43.72092896174863,51.79621917808219,58.636273972602744,65.17991780821917,78.53521857923496,71.35306849315069,76.41186301369864,79.95241095890411,82.47898907103826,81.54050955414013],\"type\":\"scatter\",\"xaxis\":\"x5\",\"yaxis\":\"y5\"},{\"mode\":\"lines+markers\",\"name\":\"Indonesia\",\"showlegend\":false,\"x\":[2010,2011,2012,2013,2014,2015,2016,2017,2018,2019,2020,2021,2022,2023,2024,2025],\"y\":[12.821753424657533,16.58821917808219,20.747021857923496,25.602931506849313,34.84901369863014,38.32531506849315,44.634890710382514,49.71369863013699,57.683013698630134,63.45572602739726,79.0846174863388,74.91197260273972,76.31975342465753,80.1772602739726,82.41475409836066,83.41063694267515],\"type\":\"scatter\",\"xaxis\":\"x6\",\"yaxis\":\"y6\"},{\"mode\":\"lines+markers\",\"name\":\"Kenya\",\"showlegend\":false,\"x\":[2010,2011,2012,2013,2014,2015,2016,2017,2018,2019,2020,2021,2022,2023,2024,2025],\"y\":[12.798904109589042,16.481287671232877,20.69109289617486,25.78698630136986,33.9746301369863,37.916602739726024,45.13953551912568,51.59093150684931,57.48419178082192,62.93142465753425,79.51765027322404,71.72975342465753,77.9270410958904,78.672301369863,83.76931693989071,86.63815286624204],\"type\":\"scatter\",\"xaxis\":\"x7\",\"yaxis\":\"y7\"},{\"mode\":\"lines+markers\",\"name\":\"Nigeria\",\"showlegend\":false,\"x\":[2010,2011,2012,2013,2014,2015,2016,2017,2018,2019,2020,2021,2022,2023,2024,2025],\"y\":[12.656465753424657,16.42931506849315,20.609562841530057,25.77260273972603,33.45772602739726,37.7341095890411,45.0037431693989,52.53449315068493,58.00632876712329,63.23416438356165,79.69647540983607,73.93115068493151,75.19361643835616,78.18550684931506,81.81062841530054,83.67834394904459],\"type\":\"scatter\",\"xaxis\":\"x8\",\"yaxis\":\"y8\"},{\"mode\":\"lines+markers\",\"name\":\"South Africa\",\"showlegend\":false,\"x\":[2010,2011,2012,2013,2014,2015,2016,2017,2018,2019,2020,2021,2022,2023,2024,2025],\"y\":[12.453835616438354,16.281397260273973,20.648469945355192,26.58167123287671,33.880931506849315,37.834575342465754,43.97672131147541,51.355452054794526,58.02041095890411,62.96594520547945,80.35554644808744,74.35690410958904,78.13008219178082,80.82271232876712,81.27215846994535,82.6187898089172],\"type\":\"scatter\",\"xaxis\":\"x9\",\"yaxis\":\"y9\"},{\"mode\":\"lines+markers\",\"name\":\"USA\",\"showlegend\":false,\"x\":[2010,2011,2012,2013,2014,2015,2016,2017,2018,2019,2020,2021,2022,2023,2024,2025],\"y\":[40.13827397260274,45.46208219178082,49.01890710382514,55.60791780821918,60.433013698630134,65.14180821917807,69.80939890710383,72.87868493150685,78.50676712328767,80.21224657534246,88.71357923497267,85.82342465753425,85.46923287671233,86.80583561643836,88.21767759562842,87.12987261146496],\"type\":\"scatter\",\"xaxis\":\"x10\",\"yaxis\":\"y10\"}],                        {\"template\":{\"data\":{\"barpolar\":[{\"marker\":{\"line\":{\"color\":\"white\",\"width\":0.5},\"pattern\":{\"fillmode\":\"overlay\",\"size\":10,\"solidity\":0.2}},\"type\":\"barpolar\"}],\"bar\":[{\"error_x\":{\"color\":\"#2a3f5f\"},\"error_y\":{\"color\":\"#2a3f5f\"},\"marker\":{\"line\":{\"color\":\"white\",\"width\":0.5},\"pattern\":{\"fillmode\":\"overlay\",\"size\":10,\"solidity\":0.2}},\"type\":\"bar\"}],\"carpet\":[{\"aaxis\":{\"endlinecolor\":\"#2a3f5f\",\"gridcolor\":\"#C8D4E3\",\"linecolor\":\"#C8D4E3\",\"minorgridcolor\":\"#C8D4E3\",\"startlinecolor\":\"#2a3f5f\"},\"baxis\":{\"endlinecolor\":\"#2a3f5f\",\"gridcolor\":\"#C8D4E3\",\"linecolor\":\"#C8D4E3\",\"minorgridcolor\":\"#C8D4E3\",\"startlinecolor\":\"#2a3f5f\"},\"type\":\"carpet\"}],\"choropleth\":[{\"colorbar\":{\"outlinewidth\":0,\"ticks\":\"\"},\"type\":\"choropleth\"}],\"contourcarpet\":[{\"colorbar\":{\"outlinewidth\":0,\"ticks\":\"\"},\"type\":\"contourcarpet\"}],\"contour\":[{\"colorbar\":{\"outlinewidth\":0,\"ticks\":\"\"},\"colorscale\":[[0.0,\"#0d0887\"],[0.1111111111111111,\"#46039f\"],[0.2222222222222222,\"#7201a8\"],[0.3333333333333333,\"#9c179e\"],[0.4444444444444444,\"#bd3786\"],[0.5555555555555556,\"#d8576b\"],[0.6666666666666666,\"#ed7953\"],[0.7777777777777778,\"#fb9f3a\"],[0.8888888888888888,\"#fdca26\"],[1.0,\"#f0f921\"]],\"type\":\"contour\"}],\"heatmapgl\":[{\"colorbar\":{\"outlinewidth\":0,\"ticks\":\"\"},\"colorscale\":[[0.0,\"#0d0887\"],[0.1111111111111111,\"#46039f\"],[0.2222222222222222,\"#7201a8\"],[0.3333333333333333,\"#9c179e\"],[0.4444444444444444,\"#bd3786\"],[0.5555555555555556,\"#d8576b\"],[0.6666666666666666,\"#ed7953\"],[0.7777777777777778,\"#fb9f3a\"],[0.8888888888888888,\"#fdca26\"],[1.0,\"#f0f921\"]],\"type\":\"heatmapgl\"}],\"heatmap\":[{\"colorbar\":{\"outlinewidth\":0,\"ticks\":\"\"},\"colorscale\":[[0.0,\"#0d0887\"],[0.1111111111111111,\"#46039f\"],[0.2222222222222222,\"#7201a8\"],[0.3333333333333333,\"#9c179e\"],[0.4444444444444444,\"#bd3786\"],[0.5555555555555556,\"#d8576b\"],[0.6666666666666666,\"#ed7953\"],[0.7777777777777778,\"#fb9f3a\"],[0.8888888888888888,\"#fdca26\"],[1.0,\"#f0f921\"]],\"type\":\"heatmap\"}],\"histogram2dcontour\":[{\"colorbar\":{\"outlinewidth\":0,\"ticks\":\"\"},\"colorscale\":[[0.0,\"#0d0887\"],[0.1111111111111111,\"#46039f\"],[0.2222222222222222,\"#7201a8\"],[0.3333333333333333,\"#9c179e\"],[0.4444444444444444,\"#bd3786\"],[0.5555555555555556,\"#d8576b\"],[0.6666666666666666,\"#ed7953\"],[0.7777777777777778,\"#fb9f3a\"],[0.8888888888888888,\"#fdca26\"],[1.0,\"#f0f921\"]],\"type\":\"histogram2dcontour\"}],\"histogram2d\":[{\"colorbar\":{\"outlinewidth\":0,\"ticks\":\"\"},\"colorscale\":[[0.0,\"#0d0887\"],[0.1111111111111111,\"#46039f\"],[0.2222222222222222,\"#7201a8\"],[0.3333333333333333,\"#9c179e\"],[0.4444444444444444,\"#bd3786\"],[0.5555555555555556,\"#d8576b\"],[0.6666666666666666,\"#ed7953\"],[0.7777777777777778,\"#fb9f3a\"],[0.8888888888888888,\"#fdca26\"],[1.0,\"#f0f921\"]],\"type\":\"histogram2d\"}],\"histogram\":[{\"marker\":{\"pattern\":{\"fillmode\":\"overlay\",\"size\":10,\"solidity\":0.2}},\"type\":\"histogram\"}],\"mesh3d\":[{\"colorbar\":{\"outlinewidth\":0,\"ticks\":\"\"},\"type\":\"mesh3d\"}],\"parcoords\":[{\"line\":{\"colorbar\":{\"outlinewidth\":0,\"ticks\":\"\"}},\"type\":\"parcoords\"}],\"pie\":[{\"automargin\":true,\"type\":\"pie\"}],\"scatter3d\":[{\"line\":{\"colorbar\":{\"outlinewidth\":0,\"ticks\":\"\"}},\"marker\":{\"colorbar\":{\"outlinewidth\":0,\"ticks\":\"\"}},\"type\":\"scatter3d\"}],\"scattercarpet\":[{\"marker\":{\"colorbar\":{\"outlinewidth\":0,\"ticks\":\"\"}},\"type\":\"scattercarpet\"}],\"scattergeo\":[{\"marker\":{\"colorbar\":{\"outlinewidth\":0,\"ticks\":\"\"}},\"type\":\"scattergeo\"}],\"scattergl\":[{\"marker\":{\"colorbar\":{\"outlinewidth\":0,\"ticks\":\"\"}},\"type\":\"scattergl\"}],\"scattermapbox\":[{\"marker\":{\"colorbar\":{\"outlinewidth\":0,\"ticks\":\"\"}},\"type\":\"scattermapbox\"}],\"scatterpolargl\":[{\"marker\":{\"colorbar\":{\"outlinewidth\":0,\"ticks\":\"\"}},\"type\":\"scatterpolargl\"}],\"scatterpolar\":[{\"marker\":{\"colorbar\":{\"outlinewidth\":0,\"ticks\":\"\"}},\"type\":\"scatterpolar\"}],\"scatter\":[{\"fillpattern\":{\"fillmode\":\"overlay\",\"size\":10,\"solidity\":0.2},\"type\":\"scatter\"}],\"scatterternary\":[{\"marker\":{\"colorbar\":{\"outlinewidth\":0,\"ticks\":\"\"}},\"type\":\"scatterternary\"}],\"surface\":[{\"colorbar\":{\"outlinewidth\":0,\"ticks\":\"\"},\"colorscale\":[[0.0,\"#0d0887\"],[0.1111111111111111,\"#46039f\"],[0.2222222222222222,\"#7201a8\"],[0.3333333333333333,\"#9c179e\"],[0.4444444444444444,\"#bd3786\"],[0.5555555555555556,\"#d8576b\"],[0.6666666666666666,\"#ed7953\"],[0.7777777777777778,\"#fb9f3a\"],[0.8888888888888888,\"#fdca26\"],[1.0,\"#f0f921\"]],\"type\":\"surface\"}],\"table\":[{\"cells\":{\"fill\":{\"color\":\"#EBF0F8\"},\"line\":{\"color\":\"white\"}},\"header\":{\"fill\":{\"color\":\"#C8D4E3\"},\"line\":{\"color\":\"white\"}},\"type\":\"table\"}]},\"layout\":{\"annotationdefaults\":{\"arrowcolor\":\"#2a3f5f\",\"arrowhead\":0,\"arrowwidth\":1},\"autotypenumbers\":\"strict\",\"coloraxis\":{\"colorbar\":{\"outlinewidth\":0,\"ticks\":\"\"}},\"colorscale\":{\"diverging\":[[0,\"#8e0152\"],[0.1,\"#c51b7d\"],[0.2,\"#de77ae\"],[0.3,\"#f1b6da\"],[0.4,\"#fde0ef\"],[0.5,\"#f7f7f7\"],[0.6,\"#e6f5d0\"],[0.7,\"#b8e186\"],[0.8,\"#7fbc41\"],[0.9,\"#4d9221\"],[1,\"#276419\"]],\"sequential\":[[0.0,\"#0d0887\"],[0.1111111111111111,\"#46039f\"],[0.2222222222222222,\"#7201a8\"],[0.3333333333333333,\"#9c179e\"],[0.4444444444444444,\"#bd3786\"],[0.5555555555555556,\"#d8576b\"],[0.6666666666666666,\"#ed7953\"],[0.7777777777777778,\"#fb9f3a\"],[0.8888888888888888,\"#fdca26\"],[1.0,\"#f0f921\"]],\"sequentialminus\":[[0.0,\"#0d0887\"],[0.1111111111111111,\"#46039f\"],[0.2222222222222222,\"#7201a8\"],[0.3333333333333333,\"#9c179e\"],[0.4444444444444444,\"#bd3786\"],[0.5555555555555556,\"#d8576b\"],[0.6666666666666666,\"#ed7953\"],[0.7777777777777778,\"#fb9f3a\"],[0.8888888888888888,\"#fdca26\"],[1.0,\"#f0f921\"]]},\"colorway\":[\"#636efa\",\"#EF553B\",\"#00cc96\",\"#ab63fa\",\"#FFA15A\",\"#19d3f3\",\"#FF6692\",\"#B6E880\",\"#FF97FF\",\"#FECB52\"],\"font\":{\"color\":\"#2a3f5f\"},\"geo\":{\"bgcolor\":\"white\",\"lakecolor\":\"white\",\"landcolor\":\"white\",\"showlakes\":true,\"showland\":true,\"subunitcolor\":\"#C8D4E3\"},\"hoverlabel\":{\"align\":\"left\"},\"hovermode\":\"closest\",\"mapbox\":{\"style\":\"light\"},\"paper_bgcolor\":\"white\",\"plot_bgcolor\":\"white\",\"polar\":{\"angularaxis\":{\"gridcolor\":\"#EBF0F8\",\"linecolor\":\"#EBF0F8\",\"ticks\":\"\"},\"bgcolor\":\"white\",\"radialaxis\":{\"gridcolor\":\"#EBF0F8\",\"linecolor\":\"#EBF0F8\",\"ticks\":\"\"}},\"scene\":{\"xaxis\":{\"backgroundcolor\":\"white\",\"gridcolor\":\"#DFE8F3\",\"gridwidth\":2,\"linecolor\":\"#EBF0F8\",\"showbackground\":true,\"ticks\":\"\",\"zerolinecolor\":\"#EBF0F8\"},\"yaxis\":{\"backgroundcolor\":\"white\",\"gridcolor\":\"#DFE8F3\",\"gridwidth\":2,\"linecolor\":\"#EBF0F8\",\"showbackground\":true,\"ticks\":\"\",\"zerolinecolor\":\"#EBF0F8\"},\"zaxis\":{\"backgroundcolor\":\"white\",\"gridcolor\":\"#DFE8F3\",\"gridwidth\":2,\"linecolor\":\"#EBF0F8\",\"showbackground\":true,\"ticks\":\"\",\"zerolinecolor\":\"#EBF0F8\"}},\"shapedefaults\":{\"line\":{\"color\":\"#2a3f5f\"}},\"ternary\":{\"aaxis\":{\"gridcolor\":\"#DFE8F3\",\"linecolor\":\"#A2B1C6\",\"ticks\":\"\"},\"baxis\":{\"gridcolor\":\"#DFE8F3\",\"linecolor\":\"#A2B1C6\",\"ticks\":\"\"},\"bgcolor\":\"white\",\"caxis\":{\"gridcolor\":\"#DFE8F3\",\"linecolor\":\"#A2B1C6\",\"ticks\":\"\"}},\"title\":{\"x\":0.05},\"xaxis\":{\"automargin\":true,\"gridcolor\":\"#EBF0F8\",\"linecolor\":\"#EBF0F8\",\"ticks\":\"\",\"title\":{\"standoff\":15},\"zerolinecolor\":\"#EBF0F8\",\"zerolinewidth\":2},\"yaxis\":{\"automargin\":true,\"gridcolor\":\"#EBF0F8\",\"linecolor\":\"#EBF0F8\",\"ticks\":\"\",\"title\":{\"standoff\":15},\"zerolinecolor\":\"#EBF0F8\",\"zerolinewidth\":2}}},\"xaxis\":{\"anchor\":\"y\",\"domain\":[0.0,0.45],\"title\":{\"text\":\"Year\"}},\"yaxis\":{\"anchor\":\"x\",\"domain\":[0.88,1.0],\"title\":{\"text\":\"Internet Penetration (%)\"}},\"xaxis2\":{\"anchor\":\"y2\",\"domain\":[0.55,1.0]},\"yaxis2\":{\"anchor\":\"x2\",\"domain\":[0.88,1.0]},\"xaxis3\":{\"anchor\":\"y3\",\"domain\":[0.0,0.45]},\"yaxis3\":{\"anchor\":\"x3\",\"domain\":[0.66,0.78]},\"xaxis4\":{\"anchor\":\"y4\",\"domain\":[0.55,1.0]},\"yaxis4\":{\"anchor\":\"x4\",\"domain\":[0.66,0.78]},\"xaxis5\":{\"anchor\":\"y5\",\"domain\":[0.0,0.45]},\"yaxis5\":{\"anchor\":\"x5\",\"domain\":[0.44,0.56]},\"xaxis6\":{\"anchor\":\"y6\",\"domain\":[0.55,1.0]},\"yaxis6\":{\"anchor\":\"x6\",\"domain\":[0.44,0.56]},\"xaxis7\":{\"anchor\":\"y7\",\"domain\":[0.0,0.45]},\"yaxis7\":{\"anchor\":\"x7\",\"domain\":[0.22,0.33999999999999997]},\"xaxis8\":{\"anchor\":\"y8\",\"domain\":[0.55,1.0]},\"yaxis8\":{\"anchor\":\"x8\",\"domain\":[0.22,0.33999999999999997]},\"xaxis9\":{\"anchor\":\"y9\",\"domain\":[0.0,0.45]},\"yaxis9\":{\"anchor\":\"x9\",\"domain\":[0.0,0.12]},\"xaxis10\":{\"anchor\":\"y10\",\"domain\":[0.55,1.0]},\"yaxis10\":{\"anchor\":\"x10\",\"domain\":[0.0,0.12]},\"annotations\":[{\"font\":{\"size\":16},\"showarrow\":false,\"text\":\"Brazil\",\"x\":0.225,\"xanchor\":\"center\",\"xref\":\"paper\",\"y\":1.0,\"yanchor\":\"bottom\",\"yref\":\"paper\"},{\"font\":{\"size\":16},\"showarrow\":false,\"text\":\"China\",\"x\":0.775,\"xanchor\":\"center\",\"xref\":\"paper\",\"y\":1.0,\"yanchor\":\"bottom\",\"yref\":\"paper\"},{\"font\":{\"size\":16},\"showarrow\":false,\"text\":\"Ethiopia\",\"x\":0.225,\"xanchor\":\"center\",\"xref\":\"paper\",\"y\":0.78,\"yanchor\":\"bottom\",\"yref\":\"paper\"},{\"font\":{\"size\":16},\"showarrow\":false,\"text\":\"Germany\",\"x\":0.775,\"xanchor\":\"center\",\"xref\":\"paper\",\"y\":0.78,\"yanchor\":\"bottom\",\"yref\":\"paper\"},{\"font\":{\"size\":16},\"showarrow\":false,\"text\":\"India\",\"x\":0.225,\"xanchor\":\"center\",\"xref\":\"paper\",\"y\":0.56,\"yanchor\":\"bottom\",\"yref\":\"paper\"},{\"font\":{\"size\":16},\"showarrow\":false,\"text\":\"Indonesia\",\"x\":0.775,\"xanchor\":\"center\",\"xref\":\"paper\",\"y\":0.56,\"yanchor\":\"bottom\",\"yref\":\"paper\"},{\"font\":{\"size\":16},\"showarrow\":false,\"text\":\"Kenya\",\"x\":0.225,\"xanchor\":\"center\",\"xref\":\"paper\",\"y\":0.33999999999999997,\"yanchor\":\"bottom\",\"yref\":\"paper\"},{\"font\":{\"size\":16},\"showarrow\":false,\"text\":\"Nigeria\",\"x\":0.775,\"xanchor\":\"center\",\"xref\":\"paper\",\"y\":0.33999999999999997,\"yanchor\":\"bottom\",\"yref\":\"paper\"},{\"font\":{\"size\":16},\"showarrow\":false,\"text\":\"South Africa\",\"x\":0.225,\"xanchor\":\"center\",\"xref\":\"paper\",\"y\":0.12,\"yanchor\":\"bottom\",\"yref\":\"paper\"},{\"font\":{\"size\":16},\"showarrow\":false,\"text\":\"USA\",\"x\":0.775,\"xanchor\":\"center\",\"xref\":\"paper\",\"y\":0.12,\"yanchor\":\"bottom\",\"yref\":\"paper\"}],\"title\":{\"text\":\"Internet Adoption Over Time by Country\"},\"height\":1500,\"width\":900},                        {\"responsive\": true}                    ).then(function(){\n",
       "                            \n",
       "var gd = document.getElementById('0f65d3f9-9ec3-4375-adbe-fdca5b44a9a8');\n",
       "var x = new MutationObserver(function (mutations, observer) {{\n",
       "        var display = window.getComputedStyle(gd).display;\n",
       "        if (!display || display === 'none') {{\n",
       "            console.log([gd, 'removed!']);\n",
       "            Plotly.purge(gd);\n",
       "            observer.disconnect();\n",
       "        }}\n",
       "}});\n",
       "\n",
       "// Listen for the removal of the full notebook cells\n",
       "var notebookContainer = gd.closest('#notebook-container');\n",
       "if (notebookContainer) {{\n",
       "    x.observe(notebookContainer, {childList: true});\n",
       "}}\n",
       "\n",
       "// Listen for the clearing of the current output cell\n",
       "var outputEl = gd.closest('.output');\n",
       "if (outputEl) {{\n",
       "    x.observe(outputEl, {childList: true});\n",
       "}}\n",
       "\n",
       "                        })                };                });            </script>        </div>"
      ]
     },
     "metadata": {},
     "output_type": "display_data"
    }
   ],
   "source": [
    "# Lista de países\n",
    "countries = df_grouped['Country'].unique()\n",
    "n = len(countries)\n",
    "\n",
    "# Definimos tamaño de la grilla de subplots\n",
    "cols = 2 \n",
    "rows =  math.ceil(n / cols)\n",
    "\n",
    "# Crear figura con subplots\n",
    "fig = make_subplots(rows=rows, cols=cols,\n",
    "                    subplot_titles=countries)\n",
    "\n",
    "# Añadir una línea por país\n",
    "for i, country in enumerate(countries):\n",
    "    row = i // cols + 1\n",
    "    col_pos = i % cols + 1\n",
    "    df_country = df_grouped[df_grouped['Country'] == country]\n",
    "\n",
    "    fig.add_trace(\n",
    "        go.Scatter(\n",
    "            x=df_country['Year'],\n",
    "            y=df_country['Internet_Penetration (%)'],\n",
    "            mode='lines+markers',\n",
    "            name=country,\n",
    "            showlegend=False\n",
    "        ),\n",
    "        row=row,\n",
    "        col=col_pos\n",
    "    )\n",
    "\n",
    "fig.update_layout(\n",
    "    height=300 * rows,\n",
    "    width=900,\n",
    "    title_text=\"Internet Adoption Over Time by Country\",\n",
    "    template='plotly_white',\n",
    "    xaxis_title='Year',\n",
    "    yaxis_title='Internet Penetration (%)'\n",
    ")\n",
    "\n",
    "fig.show()"
   ]
  },
  {
   "cell_type": "code",
   "execution_count": 507,
   "id": "8adcc723-7775-443d-bd17-fa94f58b6859",
   "metadata": {},
   "outputs": [
    {
     "name": "stdout",
     "output_type": "stream",
     "text": [
      "        Country  Pendiente_promedio\n",
      "2      Ethiopia            5.978000\n",
      "6         Kenya            5.964000\n",
      "0        Brazil            5.529333\n",
      "5     Indonesia            5.504667\n",
      "4         India            5.486000\n",
      "8  South Africa            5.449333\n",
      "1         China            4.974000\n",
      "9           USA            4.970000\n",
      "7       Nigeria            2.538000\n",
      "3       Germany            0.808667\n"
     ]
    },
    {
     "name": "stderr",
     "output_type": "stream",
     "text": [
      "C:\\Users\\Nicol\\AppData\\Local\\Temp\\ipykernel_9952\\3707884787.py:1: DeprecationWarning:\n",
      "\n",
      "DataFrameGroupBy.apply operated on the grouping columns. This behavior is deprecated, and in a future version of pandas the grouping columns will be excluded from the operation. Either pass `include_groups=False` to exclude the groupings or explicitly select the grouping columns after groupby to silence this warning.\n",
      "\n"
     ]
    }
   ],
   "source": [
    "pendientes = df.groupby('Country').apply(\n",
    "    lambda group: (group['Internet_Penetration (%)'].iloc[-1] - group['Internet_Penetration (%)'].iloc[0]) / \n",
    "                  (group['Year'].iloc[-1] - group['Year'].iloc[0])\n",
    ").reset_index(name='Pendiente_promedio')\n",
    "\n",
    "# Ordenamos de mayor a menor\n",
    "pendientes = pendientes.sort_values(by='Pendiente_promedio', ascending=False)\n",
    "\n",
    "print(pendientes)"
   ]
  },
  {
   "cell_type": "code",
   "execution_count": 508,
   "id": "c4ed6e6f-be6c-4839-8236-3e73d8f200de",
   "metadata": {},
   "outputs": [
    {
     "data": {
      "image/png": "[encoded data removed]",
      "text/plain": [
       "<Figure size 1200x1000 with 2 Axes>"
      ]
     },
     "metadata": {},
     "output_type": "display_data"
    }
   ],
   "source": [
    "df_correlation=df[['Internet_Penetration (%)','Broadband_Speed (Mbps)','GDP_Per_Capita (USD)','Education_Level (%)','Mobile_Data_Usage (GB)','Digital_Investment (M USD)','Digital_Literacy (%)','X_Sentiment_Score','5G_Rollout']]\n",
    "df_correlation=df_correlation.corr()\n",
    "plt.figure(figsize=(12, 10))\n",
    "sns.heatmap(df_correlation, annot=True, cmap='coolwarm', fmt=\".2f\", linewidths=0.5)\n",
    "plt.title('Mapa de calor de correlaciones')\n",
    "plt.savefig('mapa_calor_correlaciones.png', dpi=300, bbox_inches='tight') \n",
    "plt.show()"
   ]
  },
  {
   "cell_type": "markdown",
   "id": "760a88b3-8014-4fa9-bae8-8278997faa99",
   "metadata": {},
   "source": [
    "### 2. que tan diferentes son ambos grupos"
   ]
  },
  {
   "cell_type": "markdown",
   "id": "faf65c5f-3ada-41eb-9872-d39b9f842c02",
   "metadata": {
    "jp-MarkdownHeadingCollapsed": true
   },
   "source": [
    "#### validacion de supuestos"
   ]
  },
  {
   "cell_type": "code",
   "execution_count": 511,
   "id": "dd5577bb-4261-4472-aa93-4ae4bdaa2e11",
   "metadata": {},
   "outputs": [
    {
     "data": {
      "image/png": "[encoded data removed]",
      "text/plain": [
       "<Figure size 1200x500 with 2 Axes>"
      ]
     },
     "metadata": {},
     "output_type": "display_data"
    }
   ],
   "source": [
    "# QQ-Plots\n",
    "plt.figure(figsize=(12, 5))\n",
    "plt.subplot(1, 2, 1)\n",
    "sm.qqplot(paises_desarollados['Internet_Penetration (%)'], line='s', ax=plt.gca())\n",
    "plt.title(\"QQ-Plot (Países Desarrollados)\")\n",
    "\n",
    "plt.subplot(1, 2, 2)\n",
    "sm.qqplot(paises_en_desarollo['Internet_Penetration (%)'], line='s', ax=plt.gca())\n",
    "plt.title(\"QQ-Plot (Países En Desarrollo)\")\n",
    "plt.show()"
   ]
  },
  {
   "cell_type": "markdown",
   "id": "090a77a1-6820-401a-aac9-77a25161f6b5",
   "metadata": {},
   "source": [
    "##### no hay normalidad pero tlc nos respalda para hacer la prueba t-student"
   ]
  },
  {
   "cell_type": "code",
   "execution_count": 513,
   "id": "b5e5a3d9-3c35-4e50-afa5-88fe720bd822",
   "metadata": {},
   "outputs": [
    {
     "data": {
      "text/html": [
       "<div>\n",
       "<style scoped>\n",
       "    .dataframe tbody tr th:only-of-type {\n",
       "        vertical-align: middle;\n",
       "    }\n",
       "\n",
       "    .dataframe tbody tr th {\n",
       "        vertical-align: top;\n",
       "    }\n",
       "\n",
       "    .dataframe thead th {\n",
       "        text-align: right;\n",
       "    }\n",
       "</style>\n",
       "<table border=\"1\" class=\"dataframe\">\n",
       "  <thead>\n",
       "    <tr style=\"text-align: right;\">\n",
       "      <th></th>\n",
       "      <th>Country</th>\n",
       "      <th>Internet_Penetration (%)</th>\n",
       "      <th>Broadband_Speed (Mbps)</th>\n",
       "      <th>GDP_Per_Capita (USD)</th>\n",
       "      <th>Education_Level (%)</th>\n",
       "      <th>Mobile_Data_Usage (GB)</th>\n",
       "      <th>Digital_Investment (M USD)</th>\n",
       "      <th>Digital_Literacy (%)</th>\n",
       "      <th>X_Sentiment_Score</th>\n",
       "      <th>5G_Rollout</th>\n",
       "      <th>Urban_Rural</th>\n",
       "      <th>grupo</th>\n",
       "    </tr>\n",
       "    <tr>\n",
       "      <th>Date</th>\n",
       "      <th></th>\n",
       "      <th></th>\n",
       "      <th></th>\n",
       "      <th></th>\n",
       "      <th></th>\n",
       "      <th></th>\n",
       "      <th></th>\n",
       "      <th></th>\n",
       "      <th></th>\n",
       "      <th></th>\n",
       "      <th></th>\n",
       "      <th></th>\n",
       "    </tr>\n",
       "  </thead>\n",
       "  <tbody>\n",
       "    <tr>\n",
       "      <th>2010-01-01</th>\n",
       "      <td>India</td>\n",
       "      <td>15.10</td>\n",
       "      <td>2.24</td>\n",
       "      <td>5641.06</td>\n",
       "      <td>53.70</td>\n",
       "      <td>0.32</td>\n",
       "      <td>174.83</td>\n",
       "      <td>56.84</td>\n",
       "      <td>-0.03</td>\n",
       "      <td>0</td>\n",
       "      <td>Urban</td>\n",
       "      <td>En desarrollo</td>\n",
       "    </tr>\n",
       "    <tr>\n",
       "      <th>2010-01-02</th>\n",
       "      <td>India</td>\n",
       "      <td>7.80</td>\n",
       "      <td>1.24</td>\n",
       "      <td>5613.14</td>\n",
       "      <td>53.94</td>\n",
       "      <td>0.25</td>\n",
       "      <td>157.96</td>\n",
       "      <td>56.79</td>\n",
       "      <td>0.62</td>\n",
       "      <td>0</td>\n",
       "      <td>Rural</td>\n",
       "      <td>En desarrollo</td>\n",
       "    </tr>\n",
       "    <tr>\n",
       "      <th>2010-01-03</th>\n",
       "      <td>India</td>\n",
       "      <td>15.10</td>\n",
       "      <td>2.32</td>\n",
       "      <td>5594.72</td>\n",
       "      <td>53.55</td>\n",
       "      <td>0.41</td>\n",
       "      <td>166.46</td>\n",
       "      <td>57.20</td>\n",
       "      <td>-0.23</td>\n",
       "      <td>0</td>\n",
       "      <td>Urban</td>\n",
       "      <td>En desarrollo</td>\n",
       "    </tr>\n",
       "    <tr>\n",
       "      <th>2010-01-04</th>\n",
       "      <td>India</td>\n",
       "      <td>14.41</td>\n",
       "      <td>2.25</td>\n",
       "      <td>5670.50</td>\n",
       "      <td>53.63</td>\n",
       "      <td>0.38</td>\n",
       "      <td>158.36</td>\n",
       "      <td>56.91</td>\n",
       "      <td>0.93</td>\n",
       "      <td>0</td>\n",
       "      <td>Urban</td>\n",
       "      <td>En desarrollo</td>\n",
       "    </tr>\n",
       "    <tr>\n",
       "      <th>2010-01-05</th>\n",
       "      <td>India</td>\n",
       "      <td>8.27</td>\n",
       "      <td>1.25</td>\n",
       "      <td>5562.43</td>\n",
       "      <td>53.64</td>\n",
       "      <td>0.22</td>\n",
       "      <td>163.30</td>\n",
       "      <td>56.84</td>\n",
       "      <td>0.96</td>\n",
       "      <td>0</td>\n",
       "      <td>Rural</td>\n",
       "      <td>En desarrollo</td>\n",
       "    </tr>\n",
       "    <tr>\n",
       "      <th>...</th>\n",
       "      <td>...</td>\n",
       "      <td>...</td>\n",
       "      <td>...</td>\n",
       "      <td>...</td>\n",
       "      <td>...</td>\n",
       "      <td>...</td>\n",
       "      <td>...</td>\n",
       "      <td>...</td>\n",
       "      <td>...</td>\n",
       "      <td>...</td>\n",
       "      <td>...</td>\n",
       "      <td>...</td>\n",
       "    </tr>\n",
       "    <tr>\n",
       "      <th>2025-06-02</th>\n",
       "      <td>South Africa</td>\n",
       "      <td>96.67</td>\n",
       "      <td>122.60</td>\n",
       "      <td>9927.28</td>\n",
       "      <td>38.71</td>\n",
       "      <td>10.27</td>\n",
       "      <td>1644.72</td>\n",
       "      <td>62.14</td>\n",
       "      <td>0.53</td>\n",
       "      <td>1</td>\n",
       "      <td>Urban</td>\n",
       "      <td>En desarrollo</td>\n",
       "    </tr>\n",
       "    <tr>\n",
       "      <th>2025-06-03</th>\n",
       "      <td>South Africa</td>\n",
       "      <td>97.85</td>\n",
       "      <td>122.69</td>\n",
       "      <td>9987.56</td>\n",
       "      <td>39.21</td>\n",
       "      <td>10.45</td>\n",
       "      <td>1639.97</td>\n",
       "      <td>62.65</td>\n",
       "      <td>-0.60</td>\n",
       "      <td>1</td>\n",
       "      <td>Urban</td>\n",
       "      <td>En desarrollo</td>\n",
       "    </tr>\n",
       "    <tr>\n",
       "      <th>2025-06-04</th>\n",
       "      <td>South Africa</td>\n",
       "      <td>97.23</td>\n",
       "      <td>122.66</td>\n",
       "      <td>10046.64</td>\n",
       "      <td>39.06</td>\n",
       "      <td>10.27</td>\n",
       "      <td>1624.73</td>\n",
       "      <td>62.53</td>\n",
       "      <td>0.94</td>\n",
       "      <td>1</td>\n",
       "      <td>Urban</td>\n",
       "      <td>En desarrollo</td>\n",
       "    </tr>\n",
       "    <tr>\n",
       "      <th>2025-06-05</th>\n",
       "      <td>South Africa</td>\n",
       "      <td>97.30</td>\n",
       "      <td>122.69</td>\n",
       "      <td>10022.64</td>\n",
       "      <td>39.06</td>\n",
       "      <td>10.36</td>\n",
       "      <td>1645.58</td>\n",
       "      <td>62.41</td>\n",
       "      <td>-0.64</td>\n",
       "      <td>1</td>\n",
       "      <td>Urban</td>\n",
       "      <td>En desarrollo</td>\n",
       "    </tr>\n",
       "    <tr>\n",
       "      <th>2025-06-06</th>\n",
       "      <td>South Africa</td>\n",
       "      <td>96.88</td>\n",
       "      <td>122.75</td>\n",
       "      <td>10053.14</td>\n",
       "      <td>38.94</td>\n",
       "      <td>10.34</td>\n",
       "      <td>1666.16</td>\n",
       "      <td>62.20</td>\n",
       "      <td>-0.49</td>\n",
       "      <td>1</td>\n",
       "      <td>Urban</td>\n",
       "      <td>En desarrollo</td>\n",
       "    </tr>\n",
       "  </tbody>\n",
       "</table>\n",
       "<p>45088 rows × 12 columns</p>\n",
       "</div>"
      ],
      "text/plain": [
       "                 Country  Internet_Penetration (%)  Broadband_Speed (Mbps)  \\\n",
       "Date                                                                         \n",
       "2010-01-01         India                     15.10                    2.24   \n",
       "2010-01-02         India                      7.80                    1.24   \n",
       "2010-01-03         India                     15.10                    2.32   \n",
       "2010-01-04         India                     14.41                    2.25   \n",
       "2010-01-05         India                      8.27                    1.25   \n",
       "...                  ...                       ...                     ...   \n",
       "2025-06-02  South Africa                     96.67                  122.60   \n",
       "2025-06-03  South Africa                     97.85                  122.69   \n",
       "2025-06-04  South Africa                     97.23                  122.66   \n",
       "2025-06-05  South Africa                     97.30                  122.69   \n",
       "2025-06-06  South Africa                     96.88                  122.75   \n",
       "\n",
       "            GDP_Per_Capita (USD)  Education_Level (%)  Mobile_Data_Usage (GB)  \\\n",
       "Date                                                                            \n",
       "2010-01-01               5641.06                53.70                    0.32   \n",
       "2010-01-02               5613.14                53.94                    0.25   \n",
       "2010-01-03               5594.72                53.55                    0.41   \n",
       "2010-01-04               5670.50                53.63                    0.38   \n",
       "2010-01-05               5562.43                53.64                    0.22   \n",
       "...                          ...                  ...                     ...   \n",
       "2025-06-02               9927.28                38.71                   10.27   \n",
       "2025-06-03               9987.56                39.21                   10.45   \n",
       "2025-06-04              10046.64                39.06                   10.27   \n",
       "2025-06-05              10022.64                39.06                   10.36   \n",
       "2025-06-06              10053.14                38.94                   10.34   \n",
       "\n",
       "            Digital_Investment (M USD)  Digital_Literacy (%)  \\\n",
       "Date                                                           \n",
       "2010-01-01                      174.83                 56.84   \n",
       "2010-01-02                      157.96                 56.79   \n",
       "2010-01-03                      166.46                 57.20   \n",
       "2010-01-04                      158.36                 56.91   \n",
       "2010-01-05                      163.30                 56.84   \n",
       "...                                ...                   ...   \n",
       "2025-06-02                     1644.72                 62.14   \n",
       "2025-06-03                     1639.97                 62.65   \n",
       "2025-06-04                     1624.73                 62.53   \n",
       "2025-06-05                     1645.58                 62.41   \n",
       "2025-06-06                     1666.16                 62.20   \n",
       "\n",
       "            X_Sentiment_Score  5G_Rollout Urban_Rural          grupo  \n",
       "Date                                                                  \n",
       "2010-01-01              -0.03           0       Urban  En desarrollo  \n",
       "2010-01-02               0.62           0       Rural  En desarrollo  \n",
       "2010-01-03              -0.23           0       Urban  En desarrollo  \n",
       "2010-01-04               0.93           0       Urban  En desarrollo  \n",
       "2010-01-05               0.96           0       Rural  En desarrollo  \n",
       "...                       ...         ...         ...            ...  \n",
       "2025-06-02               0.53           1       Urban  En desarrollo  \n",
       "2025-06-03              -0.60           1       Urban  En desarrollo  \n",
       "2025-06-04               0.94           1       Urban  En desarrollo  \n",
       "2025-06-05              -0.64           1       Urban  En desarrollo  \n",
       "2025-06-06              -0.49           1       Urban  En desarrollo  \n",
       "\n",
       "[45088 rows x 12 columns]"
      ]
     },
     "execution_count": 513,
     "metadata": {},
     "output_type": "execute_result"
    }
   ],
   "source": [
    "paises_en_desarollo"
   ]
  },
  {
   "cell_type": "code",
   "execution_count": 514,
   "id": "89d0a22d-5b76-413a-abb3-12d69531a450",
   "metadata": {},
   "outputs": [
    {
     "name": "stdout",
     "output_type": "stream",
     "text": [
      "Test de Levene: p-valor = 0.0000\n",
      "Varianzas desiguales (usar Welch's t-test)\n"
     ]
    }
   ],
   "source": [
    "levene_test = levene(\n",
    "    paises_desarollados['Internet_Penetration (%)'],\n",
    "    paises_en_desarollo['Internet_Penetration (%)']\n",
    ")\n",
    "print(f\"Test de Levene: p-valor = {levene_test.pvalue:.4f}\")\n",
    "\n",
    "if levene_test.pvalue > 0.05:\n",
    "    print(\"Varianzas iguales (usar t-test estándar)\")\n",
    "else:\n",
    "    print(\"Varianzas desiguales (usar Welch's t-test)\")"
   ]
  },
  {
   "cell_type": "code",
   "execution_count": 515,
   "id": "36ed3d07-e3fe-4b5c-944a-6b1691c7dd42",
   "metadata": {},
   "outputs": [
    {
     "name": "stdout",
     "output_type": "stream",
     "text": [
      "Estadístico t = 65.929, p-valor = 0.0000000000\n",
      "Resultado: Existe evidencia estadísticamente significativa de diferencia entre grupos (p value = 0.0000)\n"
     ]
    }
   ],
   "source": [
    "# Opción 1: Varianzas iguales\n",
    "if levene_test.pvalue > 0.05:\n",
    "    t_stat, p_value = ttest_ind(\n",
    "        paises_desarollados['Internet_Penetration (%)'],\n",
    "        paises_en_desarollo['Internet_Penetration (%)'],\n",
    "        equal_var=True\n",
    "    )\n",
    "# Opción 2: Varianzas desiguales (Welch)\n",
    "else:\n",
    "    t_stat, p_value = ttest_ind(\n",
    "        paises_desarollados['Internet_Penetration (%)'],\n",
    "        paises_en_desarollo['Internet_Penetration (%)'],\n",
    "        equal_var=False\n",
    "    )\n",
    "\n",
    "print(f\"Estadístico t = {t_stat:.3f}, p-valor = {p_value:.10f}\")\n",
    "\n",
    "if p_value < 0.05:\n",
    "    print(\"Resultado: Existe evidencia estadísticamente significativa de diferencia entre grupos (p value = {:.4f})\".format(p_value))\n",
    "else:\n",
    "    print(\"Resultado: No se encontró evidencia suficiente para afirmar una diferencia significativa (p value = {:.4f})\".format(p_value))"
   ]
  },
  {
   "cell_type": "markdown",
   "id": "c0f727c3-3813-4177-8c61-29d888db9a52",
   "metadata": {
    "jp-MarkdownHeadingCollapsed": true
   },
   "source": [
    "#### T-STUDENT"
   ]
  },
  {
   "cell_type": "code",
   "execution_count": 517,
   "id": "2ffd14a5-db4d-4402-9f1e-cac93fe8615c",
   "metadata": {},
   "outputs": [
    {
     "name": "stdout",
     "output_type": "stream",
     "text": [
      "95% intervalo de confianza para la diferencia de medias (desarrollados-en desarrollo): (16.47960867209499, 17.489515706897215)\n"
     ]
    }
   ],
   "source": [
    "# Crear los objetos descriptivos de cada grupo\n",
    "grupo1 = sm.stats.DescrStatsW(paises_en_desarollo['Internet_Penetration (%)'])\n",
    "grupo2 = sm.stats.DescrStatsW(paises_desarollados['Internet_Penetration (%)'])\n",
    "\n",
    "# Comparar las medias\n",
    "cm = sm.stats.CompareMeans(grupo2, grupo1)\n",
    "\n",
    "# Calcular el intervalo de confianza (varianzas desiguales) usevar='unequal'\n",
    "conf_int = cm.tconfint_diff(usevar='unequal')\n",
    "\n",
    "print(\"95% intervalo de confianza para la diferencia de medias (desarrollados-en desarrollo):\", conf_int)"
   ]
  },
  {
   "cell_type": "markdown",
   "id": "62575fd4-98fd-4404-b532-703091c3a0cf",
   "metadata": {
    "jp-MarkdownHeadingCollapsed": true
   },
   "source": [
    "##### \"Con un 95% de confianza, la media de penetración de Internet en los países en desarrollo es entre 16.48 y 17.49 puntos porcentuales menor que la de los países desarrollados.\""
   ]
  },
  {
   "cell_type": "code",
   "execution_count": null,
   "id": "c228618b-5f2b-404a-b64f-c435c4e72bd3",
   "metadata": {},
   "outputs": [],
   "source": []
  },
  {
   "cell_type": "code",
   "execution_count": 519,
   "id": "3b8eab75-a9ff-4931-850f-b4036c94e8c1",
   "metadata": {},
   "outputs": [
    {
     "data": {
      "text/plain": [
       "Index(['Country', 'Date', 'Internet_Penetration (%)', 'Broadband_Speed (Mbps)',\n",
       "       'GDP_Per_Capita (USD)', 'Education_Level (%)', 'Mobile_Data_Usage (GB)',\n",
       "       'Digital_Investment (M USD)', 'Digital_Literacy (%)',\n",
       "       'X_Sentiment_Score', '5G_Rollout', 'Urban_Rural', 'Year'],\n",
       "      dtype='object')"
      ]
     },
     "execution_count": 519,
     "metadata": {},
     "output_type": "execute_result"
    }
   ],
   "source": [
    "df.columns"
   ]
  },
  {
   "cell_type": "code",
   "execution_count": 520,
   "id": "c6c61bf4-58bf-457b-b582-4da2e18f94ba",
   "metadata": {},
   "outputs": [],
   "source": [
    "df=df[['Internet_Penetration (%)', 'Broadband_Speed (Mbps)',\n",
    "       'GDP_Per_Capita (USD)', 'Education_Level (%)', 'Mobile_Data_Usage (GB)',\n",
    "       'Digital_Investment (M USD)', 'Digital_Literacy (%)',\n",
    "       'X_Sentiment_Score', '5G_Rollout', 'Urban_Rural']]"
   ]
  },
  {
   "cell_type": "code",
   "execution_count": 521,
   "id": "d0974357-ea73-4522-b58d-b52dd5ae74a8",
   "metadata": {},
   "outputs": [],
   "source": [
    "# variables with high vif\n",
    "\n",
    "#'Broadband_Speed (Mbps)',\n",
    "#'Digital_Literacy (%)',"
   ]
  },
  {
   "cell_type": "code",
   "execution_count": 522,
   "id": "b9ed81c1-aa20-4cc2-8e3e-83b140a0a133",
   "metadata": {},
   "outputs": [],
   "source": [
    "numerical_variables=[\n",
    "       'GDP_Per_Capita (USD)', 'Education_Level (%)', 'Mobile_Data_Usage (GB)',\n",
    "       'Digital_Investment (M USD)',\n",
    "       'X_Sentiment_Score']\n",
    "categorical_variables=['Urban_Rural']"
   ]
  },
  {
   "cell_type": "code",
   "execution_count": 523,
   "id": "e603dc1c-5fbd-44c3-9fbf-1dfe345df2a1",
   "metadata": {},
   "outputs": [],
   "source": [
    "X = df.drop(columns=[\"Internet_Penetration (%)\"])\n",
    "y = df[\"Internet_Penetration (%)\"]"
   ]
  },
  {
   "cell_type": "code",
   "execution_count": 524,
   "id": "cde3d9f0-06ba-4e05-8ca4-0ac810aff64e",
   "metadata": {},
   "outputs": [],
   "source": [
    "X_train, X_test, y_train, y_test = train_test_split(X, y, test_size=0.2, random_state=42)"
   ]
  },
  {
   "cell_type": "code",
   "execution_count": 525,
   "id": "777bf009-815c-4fad-90d1-7dbecff5b0f7",
   "metadata": {},
   "outputs": [
    {
     "name": "stdout",
     "output_type": "stream",
     "text": [
      "                      feature        VIF\n",
      "0                       const  18.070653\n",
      "1        GDP_Per_Capita (USD)   1.146072\n",
      "2         Education_Level (%)   1.344472\n",
      "3      Mobile_Data_Usage (GB)   3.758910\n",
      "4  Digital_Investment (M USD)   4.648661\n",
      "5           X_Sentiment_Score   1.000042\n"
     ]
    }
   ],
   "source": [
    "X_numerical = add_constant(df[numerical_variables])\n",
    "vif_data = pd.DataFrame()\n",
    "    \n",
    "vif_values = []  \n",
    "    \n",
    "for i in range(X_numerical.shape[1]):  \n",
    "    vif = variance_inflation_factor(X_numerical.values, i)   \n",
    "    vif_values.append(vif)                                            \n",
    "    \n",
    "    \n",
    "vif_data[\"feature\"] = X_numerical.columns  \n",
    "vif_data[\"VIF\"] = vif_values \n",
    "    \n",
    "print(vif_data)"
   ]
  },
  {
   "cell_type": "code",
   "execution_count": 526,
   "id": "e2aee2c8-df34-4f22-82d5-67ce059d2aa5",
   "metadata": {},
   "outputs": [],
   "source": [
    "categorical_transformer = OneHotEncoder(drop='first')"
   ]
  },
  {
   "cell_type": "code",
   "execution_count": 527,
   "id": "16680e10-5dff-4fb4-a107-2b21f9bca4e2",
   "metadata": {},
   "outputs": [],
   "source": [
    "preprocessor = ColumnTransformer(\n",
    "    transformers=[\n",
    "        ('numerical', StandardScaler(), numerical_variables),\n",
    "        ('categorical', categorical_transformer, categorical_variables)\n",
    "    ],remainder='passthrough'\n",
    ")"
   ]
  },
  {
   "cell_type": "code",
   "execution_count": 528,
   "id": "791a2884-105c-4f20-a63a-3a19f9aaf6af",
   "metadata": {},
   "outputs": [],
   "source": [
    "pipeline = Pipeline(steps=[\n",
    "    ('preprocessor', preprocessor),\n",
    "    ('regressor', LinearRegression())  # O cualquier otro modelo de regresión\n",
    "])"
   ]
  },
  {
   "cell_type": "code",
   "execution_count": 529,
   "id": "f7e8a5dc-2f8a-44ec-849c-6831bbef91aa",
   "metadata": {},
   "outputs": [
    {
     "data": {
      "text/html": [
       "<style>#sk-container-id-3 {\n",
       "  /* Definition of color scheme common for light and dark mode */\n",
       "  --sklearn-color-text: black;\n",
       "  --sklearn-color-line: gray;\n",
       "  /* Definition of color scheme for unfitted estimators */\n",
       "  --sklearn-color-unfitted-level-0: #fff5e6;\n",
       "  --sklearn-color-unfitted-level-1: #f6e4d2;\n",
       "  --sklearn-color-unfitted-level-2: #ffe0b3;\n",
       "  --sklearn-color-unfitted-level-3: chocolate;\n",
       "  /* Definition of color scheme for fitted estimators */\n",
       "  --sklearn-color-fitted-level-0: #f0f8ff;\n",
       "  --sklearn-color-fitted-level-1: #d4ebff;\n",
       "  --sklearn-color-fitted-level-2: #b3dbfd;\n",
       "  --sklearn-color-fitted-level-3: cornflowerblue;\n",
       "\n",
       "  /* Specific color for light theme */\n",
       "  --sklearn-color-text-on-default-background: var(--sg-text-color, var(--theme-code-foreground, var(--jp-content-font-color1, black)));\n",
       "  --sklearn-color-background: var(--sg-background-color, var(--theme-background, var(--jp-layout-color0, white)));\n",
       "  --sklearn-color-border-box: var(--sg-text-color, var(--theme-code-foreground, var(--jp-content-font-color1, black)));\n",
       "  --sklearn-color-icon: #696969;\n",
       "\n",
       "  @media (prefers-color-scheme: dark) {\n",
       "    /* Redefinition of color scheme for dark theme */\n",
       "    --sklearn-color-text-on-default-background: var(--sg-text-color, var(--theme-code-foreground, var(--jp-content-font-color1, white)));\n",
       "    --sklearn-color-background: var(--sg-background-color, var(--theme-background, var(--jp-layout-color0, #111)));\n",
       "    --sklearn-color-border-box: var(--sg-text-color, var(--theme-code-foreground, var(--jp-content-font-color1, white)));\n",
       "    --sklearn-color-icon: #878787;\n",
       "  }\n",
       "}\n",
       "\n",
       "#sk-container-id-3 {\n",
       "  color: var(--sklearn-color-text);\n",
       "}\n",
       "\n",
       "#sk-container-id-3 pre {\n",
       "  padding: 0;\n",
       "}\n",
       "\n",
       "#sk-container-id-3 input.sk-hidden--visually {\n",
       "  border: 0;\n",
       "  clip: rect(1px 1px 1px 1px);\n",
       "  clip: rect(1px, 1px, 1px, 1px);\n",
       "  height: 1px;\n",
       "  margin: -1px;\n",
       "  overflow: hidden;\n",
       "  padding: 0;\n",
       "  position: absolute;\n",
       "  width: 1px;\n",
       "}\n",
       "\n",
       "#sk-container-id-3 div.sk-dashed-wrapped {\n",
       "  border: 1px dashed var(--sklearn-color-line);\n",
       "  margin: 0 0.4em 0.5em 0.4em;\n",
       "  box-sizing: border-box;\n",
       "  padding-bottom: 0.4em;\n",
       "  background-color: var(--sklearn-color-background);\n",
       "}\n",
       "\n",
       "#sk-container-id-3 div.sk-container {\n",
       "  /* jupyter's `normalize.less` sets `[hidden] { display: none; }`\n",
       "     but bootstrap.min.css set `[hidden] { display: none !important; }`\n",
       "     so we also need the `!important` here to be able to override the\n",
       "     default hidden behavior on the sphinx rendered scikit-learn.org.\n",
       "     See: https://github.com/scikit-learn/scikit-learn/issues/21755 */\n",
       "  display: inline-block !important;\n",
       "  position: relative;\n",
       "}\n",
       "\n",
       "#sk-container-id-3 div.sk-text-repr-fallback {\n",
       "  display: none;\n",
       "}\n",
       "\n",
       "div.sk-parallel-item,\n",
       "div.sk-serial,\n",
       "div.sk-item {\n",
       "  /* draw centered vertical line to link estimators */\n",
       "  background-image: linear-gradient(var(--sklearn-color-text-on-default-background), var(--sklearn-color-text-on-default-background));\n",
       "  background-size: 2px 100%;\n",
       "  background-repeat: no-repeat;\n",
       "  background-position: center center;\n",
       "}\n",
       "\n",
       "/* Parallel-specific style estimator block */\n",
       "\n",
       "#sk-container-id-3 div.sk-parallel-item::after {\n",
       "  content: \"\";\n",
       "  width: 100%;\n",
       "  border-bottom: 2px solid var(--sklearn-color-text-on-default-background);\n",
       "  flex-grow: 1;\n",
       "}\n",
       "\n",
       "#sk-container-id-3 div.sk-parallel {\n",
       "  display: flex;\n",
       "  align-items: stretch;\n",
       "  justify-content: center;\n",
       "  background-color: var(--sklearn-color-background);\n",
       "  position: relative;\n",
       "}\n",
       "\n",
       "#sk-container-id-3 div.sk-parallel-item {\n",
       "  display: flex;\n",
       "  flex-direction: column;\n",
       "}\n",
       "\n",
       "#sk-container-id-3 div.sk-parallel-item:first-child::after {\n",
       "  align-self: flex-end;\n",
       "  width: 50%;\n",
       "}\n",
       "\n",
       "#sk-container-id-3 div.sk-parallel-item:last-child::after {\n",
       "  align-self: flex-start;\n",
       "  width: 50%;\n",
       "}\n",
       "\n",
       "#sk-container-id-3 div.sk-parallel-item:only-child::after {\n",
       "  width: 0;\n",
       "}\n",
       "\n",
       "/* Serial-specific style estimator block */\n",
       "\n",
       "#sk-container-id-3 div.sk-serial {\n",
       "  display: flex;\n",
       "  flex-direction: column;\n",
       "  align-items: center;\n",
       "  background-color: var(--sklearn-color-background);\n",
       "  padding-right: 1em;\n",
       "  padding-left: 1em;\n",
       "}\n",
       "\n",
       "\n",
       "/* Toggleable style: style used for estimator/Pipeline/ColumnTransformer box that is\n",
       "clickable and can be expanded/collapsed.\n",
       "- Pipeline and ColumnTransformer use this feature and define the default style\n",
       "- Estimators will overwrite some part of the style using the `sk-estimator` class\n",
       "*/\n",
       "\n",
       "/* Pipeline and ColumnTransformer style (default) */\n",
       "\n",
       "#sk-container-id-3 div.sk-toggleable {\n",
       "  /* Default theme specific background. It is overwritten whether we have a\n",
       "  specific estimator or a Pipeline/ColumnTransformer */\n",
       "  background-color: var(--sklearn-color-background);\n",
       "}\n",
       "\n",
       "/* Toggleable label */\n",
       "#sk-container-id-3 label.sk-toggleable__label {\n",
       "  cursor: pointer;\n",
       "  display: block;\n",
       "  width: 100%;\n",
       "  margin-bottom: 0;\n",
       "  padding: 0.5em;\n",
       "  box-sizing: border-box;\n",
       "  text-align: center;\n",
       "}\n",
       "\n",
       "#sk-container-id-3 label.sk-toggleable__label-arrow:before {\n",
       "  /* Arrow on the left of the label */\n",
       "  content: \"▸\";\n",
       "  float: left;\n",
       "  margin-right: 0.25em;\n",
       "  color: var(--sklearn-color-icon);\n",
       "}\n",
       "\n",
       "#sk-container-id-3 label.sk-toggleable__label-arrow:hover:before {\n",
       "  color: var(--sklearn-color-text);\n",
       "}\n",
       "\n",
       "/* Toggleable content - dropdown */\n",
       "\n",
       "#sk-container-id-3 div.sk-toggleable__content {\n",
       "  max-height: 0;\n",
       "  max-width: 0;\n",
       "  overflow: hidden;\n",
       "  text-align: left;\n",
       "  /* unfitted */\n",
       "  background-color: var(--sklearn-color-unfitted-level-0);\n",
       "}\n",
       "\n",
       "#sk-container-id-3 div.sk-toggleable__content.fitted {\n",
       "  /* fitted */\n",
       "  background-color: var(--sklearn-color-fitted-level-0);\n",
       "}\n",
       "\n",
       "#sk-container-id-3 div.sk-toggleable__content pre {\n",
       "  margin: 0.2em;\n",
       "  border-radius: 0.25em;\n",
       "  color: var(--sklearn-color-text);\n",
       "  /* unfitted */\n",
       "  background-color: var(--sklearn-color-unfitted-level-0);\n",
       "}\n",
       "\n",
       "#sk-container-id-3 div.sk-toggleable__content.fitted pre {\n",
       "  /* unfitted */\n",
       "  background-color: var(--sklearn-color-fitted-level-0);\n",
       "}\n",
       "\n",
       "#sk-container-id-3 input.sk-toggleable__control:checked~div.sk-toggleable__content {\n",
       "  /* Expand drop-down */\n",
       "  max-height: 200px;\n",
       "  max-width: 100%;\n",
       "  overflow: auto;\n",
       "}\n",
       "\n",
       "#sk-container-id-3 input.sk-toggleable__control:checked~label.sk-toggleable__label-arrow:before {\n",
       "  content: \"▾\";\n",
       "}\n",
       "\n",
       "/* Pipeline/ColumnTransformer-specific style */\n",
       "\n",
       "#sk-container-id-3 div.sk-label input.sk-toggleable__control:checked~label.sk-toggleable__label {\n",
       "  color: var(--sklearn-color-text);\n",
       "  background-color: var(--sklearn-color-unfitted-level-2);\n",
       "}\n",
       "\n",
       "#sk-container-id-3 div.sk-label.fitted input.sk-toggleable__control:checked~label.sk-toggleable__label {\n",
       "  background-color: var(--sklearn-color-fitted-level-2);\n",
       "}\n",
       "\n",
       "/* Estimator-specific style */\n",
       "\n",
       "/* Colorize estimator box */\n",
       "#sk-container-id-3 div.sk-estimator input.sk-toggleable__control:checked~label.sk-toggleable__label {\n",
       "  /* unfitted */\n",
       "  background-color: var(--sklearn-color-unfitted-level-2);\n",
       "}\n",
       "\n",
       "#sk-container-id-3 div.sk-estimator.fitted input.sk-toggleable__control:checked~label.sk-toggleable__label {\n",
       "  /* fitted */\n",
       "  background-color: var(--sklearn-color-fitted-level-2);\n",
       "}\n",
       "\n",
       "#sk-container-id-3 div.sk-label label.sk-toggleable__label,\n",
       "#sk-container-id-3 div.sk-label label {\n",
       "  /* The background is the default theme color */\n",
       "  color: var(--sklearn-color-text-on-default-background);\n",
       "}\n",
       "\n",
       "/* On hover, darken the color of the background */\n",
       "#sk-container-id-3 div.sk-label:hover label.sk-toggleable__label {\n",
       "  color: var(--sklearn-color-text);\n",
       "  background-color: var(--sklearn-color-unfitted-level-2);\n",
       "}\n",
       "\n",
       "/* Label box, darken color on hover, fitted */\n",
       "#sk-container-id-3 div.sk-label.fitted:hover label.sk-toggleable__label.fitted {\n",
       "  color: var(--sklearn-color-text);\n",
       "  background-color: var(--sklearn-color-fitted-level-2);\n",
       "}\n",
       "\n",
       "/* Estimator label */\n",
       "\n",
       "#sk-container-id-3 div.sk-label label {\n",
       "  font-family: monospace;\n",
       "  font-weight: bold;\n",
       "  display: inline-block;\n",
       "  line-height: 1.2em;\n",
       "}\n",
       "\n",
       "#sk-container-id-3 div.sk-label-container {\n",
       "  text-align: center;\n",
       "}\n",
       "\n",
       "/* Estimator-specific */\n",
       "#sk-container-id-3 div.sk-estimator {\n",
       "  font-family: monospace;\n",
       "  border: 1px dotted var(--sklearn-color-border-box);\n",
       "  border-radius: 0.25em;\n",
       "  box-sizing: border-box;\n",
       "  margin-bottom: 0.5em;\n",
       "  /* unfitted */\n",
       "  background-color: var(--sklearn-color-unfitted-level-0);\n",
       "}\n",
       "\n",
       "#sk-container-id-3 div.sk-estimator.fitted {\n",
       "  /* fitted */\n",
       "  background-color: var(--sklearn-color-fitted-level-0);\n",
       "}\n",
       "\n",
       "/* on hover */\n",
       "#sk-container-id-3 div.sk-estimator:hover {\n",
       "  /* unfitted */\n",
       "  background-color: var(--sklearn-color-unfitted-level-2);\n",
       "}\n",
       "\n",
       "#sk-container-id-3 div.sk-estimator.fitted:hover {\n",
       "  /* fitted */\n",
       "  background-color: var(--sklearn-color-fitted-level-2);\n",
       "}\n",
       "\n",
       "/* Specification for estimator info (e.g. \"i\" and \"?\") */\n",
       "\n",
       "/* Common style for \"i\" and \"?\" */\n",
       "\n",
       ".sk-estimator-doc-link,\n",
       "a:link.sk-estimator-doc-link,\n",
       "a:visited.sk-estimator-doc-link {\n",
       "  float: right;\n",
       "  font-size: smaller;\n",
       "  line-height: 1em;\n",
       "  font-family: monospace;\n",
       "  background-color: var(--sklearn-color-background);\n",
       "  border-radius: 1em;\n",
       "  height: 1em;\n",
       "  width: 1em;\n",
       "  text-decoration: none !important;\n",
       "  margin-left: 1ex;\n",
       "  /* unfitted */\n",
       "  border: var(--sklearn-color-unfitted-level-1) 1pt solid;\n",
       "  color: var(--sklearn-color-unfitted-level-1);\n",
       "}\n",
       "\n",
       ".sk-estimator-doc-link.fitted,\n",
       "a:link.sk-estimator-doc-link.fitted,\n",
       "a:visited.sk-estimator-doc-link.fitted {\n",
       "  /* fitted */\n",
       "  border: var(--sklearn-color-fitted-level-1) 1pt solid;\n",
       "  color: var(--sklearn-color-fitted-level-1);\n",
       "}\n",
       "\n",
       "/* On hover */\n",
       "div.sk-estimator:hover .sk-estimator-doc-link:hover,\n",
       ".sk-estimator-doc-link:hover,\n",
       "div.sk-label-container:hover .sk-estimator-doc-link:hover,\n",
       ".sk-estimator-doc-link:hover {\n",
       "  /* unfitted */\n",
       "  background-color: var(--sklearn-color-unfitted-level-3);\n",
       "  color: var(--sklearn-color-background);\n",
       "  text-decoration: none;\n",
       "}\n",
       "\n",
       "div.sk-estimator.fitted:hover .sk-estimator-doc-link.fitted:hover,\n",
       ".sk-estimator-doc-link.fitted:hover,\n",
       "div.sk-label-container:hover .sk-estimator-doc-link.fitted:hover,\n",
       ".sk-estimator-doc-link.fitted:hover {\n",
       "  /* fitted */\n",
       "  background-color: var(--sklearn-color-fitted-level-3);\n",
       "  color: var(--sklearn-color-background);\n",
       "  text-decoration: none;\n",
       "}\n",
       "\n",
       "/* Span, style for the box shown on hovering the info icon */\n",
       ".sk-estimator-doc-link span {\n",
       "  display: none;\n",
       "  z-index: 9999;\n",
       "  position: relative;\n",
       "  font-weight: normal;\n",
       "  right: .2ex;\n",
       "  padding: .5ex;\n",
       "  margin: .5ex;\n",
       "  width: min-content;\n",
       "  min-width: 20ex;\n",
       "  max-width: 50ex;\n",
       "  color: var(--sklearn-color-text);\n",
       "  box-shadow: 2pt 2pt 4pt #999;\n",
       "  /* unfitted */\n",
       "  background: var(--sklearn-color-unfitted-level-0);\n",
       "  border: .5pt solid var(--sklearn-color-unfitted-level-3);\n",
       "}\n",
       "\n",
       ".sk-estimator-doc-link.fitted span {\n",
       "  /* fitted */\n",
       "  background: var(--sklearn-color-fitted-level-0);\n",
       "  border: var(--sklearn-color-fitted-level-3);\n",
       "}\n",
       "\n",
       ".sk-estimator-doc-link:hover span {\n",
       "  display: block;\n",
       "}\n",
       "\n",
       "/* \"?\"-specific style due to the `<a>` HTML tag */\n",
       "\n",
       "#sk-container-id-3 a.estimator_doc_link {\n",
       "  float: right;\n",
       "  font-size: 1rem;\n",
       "  line-height: 1em;\n",
       "  font-family: monospace;\n",
       "  background-color: var(--sklearn-color-background);\n",
       "  border-radius: 1rem;\n",
       "  height: 1rem;\n",
       "  width: 1rem;\n",
       "  text-decoration: none;\n",
       "  /* unfitted */\n",
       "  color: var(--sklearn-color-unfitted-level-1);\n",
       "  border: var(--sklearn-color-unfitted-level-1) 1pt solid;\n",
       "}\n",
       "\n",
       "#sk-container-id-3 a.estimator_doc_link.fitted {\n",
       "  /* fitted */\n",
       "  border: var(--sklearn-color-fitted-level-1) 1pt solid;\n",
       "  color: var(--sklearn-color-fitted-level-1);\n",
       "}\n",
       "\n",
       "/* On hover */\n",
       "#sk-container-id-3 a.estimator_doc_link:hover {\n",
       "  /* unfitted */\n",
       "  background-color: var(--sklearn-color-unfitted-level-3);\n",
       "  color: var(--sklearn-color-background);\n",
       "  text-decoration: none;\n",
       "}\n",
       "\n",
       "#sk-container-id-3 a.estimator_doc_link.fitted:hover {\n",
       "  /* fitted */\n",
       "  background-color: var(--sklearn-color-fitted-level-3);\n",
       "}\n",
       "</style><div id=\"sk-container-id-3\" class=\"sk-top-container\"><div class=\"sk-text-repr-fallback\"><pre>Pipeline(steps=[(&#x27;preprocessor&#x27;,\n",
       "                 ColumnTransformer(remainder=&#x27;passthrough&#x27;,\n",
       "                                   transformers=[(&#x27;numerical&#x27;, StandardScaler(),\n",
       "                                                  [&#x27;GDP_Per_Capita (USD)&#x27;,\n",
       "                                                   &#x27;Education_Level (%)&#x27;,\n",
       "                                                   &#x27;Mobile_Data_Usage (GB)&#x27;,\n",
       "                                                   &#x27;Digital_Investment (M USD)&#x27;,\n",
       "                                                   &#x27;X_Sentiment_Score&#x27;]),\n",
       "                                                 (&#x27;categorical&#x27;,\n",
       "                                                  OneHotEncoder(drop=&#x27;first&#x27;),\n",
       "                                                  [&#x27;Urban_Rural&#x27;])])),\n",
       "                (&#x27;regressor&#x27;, LinearRegression())])</pre><b>In a Jupyter environment, please rerun this cell to show the HTML representation or trust the notebook. <br />On GitHub, the HTML representation is unable to render, please try loading this page with nbviewer.org.</b></div><div class=\"sk-container\" hidden><div class=\"sk-item sk-dashed-wrapped\"><div class=\"sk-label-container\"><div class=\"sk-label fitted sk-toggleable\"><input class=\"sk-toggleable__control sk-hidden--visually\" id=\"sk-estimator-id-19\" type=\"checkbox\" ><label for=\"sk-estimator-id-19\" class=\"sk-toggleable__label fitted sk-toggleable__label-arrow fitted\">&nbsp;&nbsp;Pipeline<a class=\"sk-estimator-doc-link fitted\" rel=\"noreferrer\" target=\"_blank\" href=\"https://scikit-learn.org/1.4/modules/generated/sklearn.pipeline.Pipeline.html\">?<span>Documentation for Pipeline</span></a><span class=\"sk-estimator-doc-link fitted\">i<span>Fitted</span></span></label><div class=\"sk-toggleable__content fitted\"><pre>Pipeline(steps=[(&#x27;preprocessor&#x27;,\n",
       "                 ColumnTransformer(remainder=&#x27;passthrough&#x27;,\n",
       "                                   transformers=[(&#x27;numerical&#x27;, StandardScaler(),\n",
       "                                                  [&#x27;GDP_Per_Capita (USD)&#x27;,\n",
       "                                                   &#x27;Education_Level (%)&#x27;,\n",
       "                                                   &#x27;Mobile_Data_Usage (GB)&#x27;,\n",
       "                                                   &#x27;Digital_Investment (M USD)&#x27;,\n",
       "                                                   &#x27;X_Sentiment_Score&#x27;]),\n",
       "                                                 (&#x27;categorical&#x27;,\n",
       "                                                  OneHotEncoder(drop=&#x27;first&#x27;),\n",
       "                                                  [&#x27;Urban_Rural&#x27;])])),\n",
       "                (&#x27;regressor&#x27;, LinearRegression())])</pre></div> </div></div><div class=\"sk-serial\"><div class=\"sk-item sk-dashed-wrapped\"><div class=\"sk-label-container\"><div class=\"sk-label fitted sk-toggleable\"><input class=\"sk-toggleable__control sk-hidden--visually\" id=\"sk-estimator-id-20\" type=\"checkbox\" ><label for=\"sk-estimator-id-20\" class=\"sk-toggleable__label fitted sk-toggleable__label-arrow fitted\">&nbsp;preprocessor: ColumnTransformer<a class=\"sk-estimator-doc-link fitted\" rel=\"noreferrer\" target=\"_blank\" href=\"https://scikit-learn.org/1.4/modules/generated/sklearn.compose.ColumnTransformer.html\">?<span>Documentation for preprocessor: ColumnTransformer</span></a></label><div class=\"sk-toggleable__content fitted\"><pre>ColumnTransformer(remainder=&#x27;passthrough&#x27;,\n",
       "                  transformers=[(&#x27;numerical&#x27;, StandardScaler(),\n",
       "                                 [&#x27;GDP_Per_Capita (USD)&#x27;, &#x27;Education_Level (%)&#x27;,\n",
       "                                  &#x27;Mobile_Data_Usage (GB)&#x27;,\n",
       "                                  &#x27;Digital_Investment (M USD)&#x27;,\n",
       "                                  &#x27;X_Sentiment_Score&#x27;]),\n",
       "                                (&#x27;categorical&#x27;, OneHotEncoder(drop=&#x27;first&#x27;),\n",
       "                                 [&#x27;Urban_Rural&#x27;])])</pre></div> </div></div><div class=\"sk-parallel\"><div class=\"sk-parallel-item\"><div class=\"sk-item\"><div class=\"sk-label-container\"><div class=\"sk-label fitted sk-toggleable\"><input class=\"sk-toggleable__control sk-hidden--visually\" id=\"sk-estimator-id-21\" type=\"checkbox\" ><label for=\"sk-estimator-id-21\" class=\"sk-toggleable__label fitted sk-toggleable__label-arrow fitted\">numerical</label><div class=\"sk-toggleable__content fitted\"><pre>[&#x27;GDP_Per_Capita (USD)&#x27;, &#x27;Education_Level (%)&#x27;, &#x27;Mobile_Data_Usage (GB)&#x27;, &#x27;Digital_Investment (M USD)&#x27;, &#x27;X_Sentiment_Score&#x27;]</pre></div> </div></div><div class=\"sk-serial\"><div class=\"sk-item\"><div class=\"sk-estimator fitted sk-toggleable\"><input class=\"sk-toggleable__control sk-hidden--visually\" id=\"sk-estimator-id-22\" type=\"checkbox\" ><label for=\"sk-estimator-id-22\" class=\"sk-toggleable__label fitted sk-toggleable__label-arrow fitted\">&nbsp;StandardScaler<a class=\"sk-estimator-doc-link fitted\" rel=\"noreferrer\" target=\"_blank\" href=\"https://scikit-learn.org/1.4/modules/generated/sklearn.preprocessing.StandardScaler.html\">?<span>Documentation for StandardScaler</span></a></label><div class=\"sk-toggleable__content fitted\"><pre>StandardScaler()</pre></div> </div></div></div></div></div><div class=\"sk-parallel-item\"><div class=\"sk-item\"><div class=\"sk-label-container\"><div class=\"sk-label fitted sk-toggleable\"><input class=\"sk-toggleable__control sk-hidden--visually\" id=\"sk-estimator-id-23\" type=\"checkbox\" ><label for=\"sk-estimator-id-23\" class=\"sk-toggleable__label fitted sk-toggleable__label-arrow fitted\">categorical</label><div class=\"sk-toggleable__content fitted\"><pre>[&#x27;Urban_Rural&#x27;]</pre></div> </div></div><div class=\"sk-serial\"><div class=\"sk-item\"><div class=\"sk-estimator fitted sk-toggleable\"><input class=\"sk-toggleable__control sk-hidden--visually\" id=\"sk-estimator-id-24\" type=\"checkbox\" ><label for=\"sk-estimator-id-24\" class=\"sk-toggleable__label fitted sk-toggleable__label-arrow fitted\">&nbsp;OneHotEncoder<a class=\"sk-estimator-doc-link fitted\" rel=\"noreferrer\" target=\"_blank\" href=\"https://scikit-learn.org/1.4/modules/generated/sklearn.preprocessing.OneHotEncoder.html\">?<span>Documentation for OneHotEncoder</span></a></label><div class=\"sk-toggleable__content fitted\"><pre>OneHotEncoder(drop=&#x27;first&#x27;)</pre></div> </div></div></div></div></div><div class=\"sk-parallel-item\"><div class=\"sk-item\"><div class=\"sk-label-container\"><div class=\"sk-label fitted sk-toggleable\"><input class=\"sk-toggleable__control sk-hidden--visually\" id=\"sk-estimator-id-25\" type=\"checkbox\" ><label for=\"sk-estimator-id-25\" class=\"sk-toggleable__label fitted sk-toggleable__label-arrow fitted\">remainder</label><div class=\"sk-toggleable__content fitted\"><pre>[&#x27;Broadband_Speed (Mbps)&#x27;, &#x27;Digital_Literacy (%)&#x27;, &#x27;5G_Rollout&#x27;]</pre></div> </div></div><div class=\"sk-serial\"><div class=\"sk-item\"><div class=\"sk-estimator fitted sk-toggleable\"><input class=\"sk-toggleable__control sk-hidden--visually\" id=\"sk-estimator-id-26\" type=\"checkbox\" ><label for=\"sk-estimator-id-26\" class=\"sk-toggleable__label fitted sk-toggleable__label-arrow fitted\">passthrough</label><div class=\"sk-toggleable__content fitted\"><pre>passthrough</pre></div> </div></div></div></div></div></div></div><div class=\"sk-item\"><div class=\"sk-estimator fitted sk-toggleable\"><input class=\"sk-toggleable__control sk-hidden--visually\" id=\"sk-estimator-id-27\" type=\"checkbox\" ><label for=\"sk-estimator-id-27\" class=\"sk-toggleable__label fitted sk-toggleable__label-arrow fitted\">&nbsp;LinearRegression<a class=\"sk-estimator-doc-link fitted\" rel=\"noreferrer\" target=\"_blank\" href=\"https://scikit-learn.org/1.4/modules/generated/sklearn.linear_model.LinearRegression.html\">?<span>Documentation for LinearRegression</span></a></label><div class=\"sk-toggleable__content fitted\"><pre>LinearRegression()</pre></div> </div></div></div></div></div></div>"
      ],
      "text/plain": [
       "Pipeline(steps=[('preprocessor',\n",
       "                 ColumnTransformer(remainder='passthrough',\n",
       "                                   transformers=[('numerical', StandardScaler(),\n",
       "                                                  ['GDP_Per_Capita (USD)',\n",
       "                                                   'Education_Level (%)',\n",
       "                                                   'Mobile_Data_Usage (GB)',\n",
       "                                                   'Digital_Investment (M USD)',\n",
       "                                                   'X_Sentiment_Score']),\n",
       "                                                 ('categorical',\n",
       "                                                  OneHotEncoder(drop='first'),\n",
       "                                                  ['Urban_Rural'])])),\n",
       "                ('regressor', LinearRegression())])"
      ]
     },
     "execution_count": 529,
     "metadata": {},
     "output_type": "execute_result"
    }
   ],
   "source": [
    "pipeline.fit(X_train, y_train)"
   ]
  },
  {
   "cell_type": "code",
   "execution_count": 530,
   "id": "eaf2c764-3535-428c-9b0b-0bd1128e7089",
   "metadata": {},
   "outputs": [
    {
     "data": {
      "text/html": [
       "<div>\n",
       "<style scoped>\n",
       "    .dataframe tbody tr th:only-of-type {\n",
       "        vertical-align: middle;\n",
       "    }\n",
       "\n",
       "    .dataframe tbody tr th {\n",
       "        vertical-align: top;\n",
       "    }\n",
       "\n",
       "    .dataframe thead th {\n",
       "        text-align: right;\n",
       "    }\n",
       "</style>\n",
       "<table border=\"1\" class=\"dataframe\">\n",
       "  <thead>\n",
       "    <tr style=\"text-align: right;\">\n",
       "      <th></th>\n",
       "      <th>Internet_Penetration (%)</th>\n",
       "      <th>Broadband_Speed (Mbps)</th>\n",
       "      <th>GDP_Per_Capita (USD)</th>\n",
       "      <th>Education_Level (%)</th>\n",
       "      <th>Mobile_Data_Usage (GB)</th>\n",
       "      <th>Digital_Investment (M USD)</th>\n",
       "      <th>Digital_Literacy (%)</th>\n",
       "      <th>X_Sentiment_Score</th>\n",
       "      <th>5G_Rollout</th>\n",
       "      <th>Urban_Rural</th>\n",
       "    </tr>\n",
       "  </thead>\n",
       "  <tbody>\n",
       "    <tr>\n",
       "      <th>0</th>\n",
       "      <td>25.45</td>\n",
       "      <td>5.23</td>\n",
       "      <td>20339.01</td>\n",
       "      <td>47.17</td>\n",
       "      <td>0.26</td>\n",
       "      <td>428.95</td>\n",
       "      <td>85.29</td>\n",
       "      <td>0.77</td>\n",
       "      <td>0</td>\n",
       "      <td>Rural</td>\n",
       "    </tr>\n",
       "    <tr>\n",
       "      <th>1</th>\n",
       "      <td>47.88</td>\n",
       "      <td>9.57</td>\n",
       "      <td>20332.14</td>\n",
       "      <td>46.71</td>\n",
       "      <td>0.54</td>\n",
       "      <td>441.28</td>\n",
       "      <td>85.41</td>\n",
       "      <td>-0.49</td>\n",
       "      <td>0</td>\n",
       "      <td>Urban</td>\n",
       "    </tr>\n",
       "    <tr>\n",
       "      <th>2</th>\n",
       "      <td>46.46</td>\n",
       "      <td>9.71</td>\n",
       "      <td>20319.72</td>\n",
       "      <td>46.75</td>\n",
       "      <td>0.64</td>\n",
       "      <td>447.51</td>\n",
       "      <td>85.32</td>\n",
       "      <td>-0.24</td>\n",
       "      <td>0</td>\n",
       "      <td>Urban</td>\n",
       "    </tr>\n",
       "    <tr>\n",
       "      <th>3</th>\n",
       "      <td>46.80</td>\n",
       "      <td>9.73</td>\n",
       "      <td>20334.79</td>\n",
       "      <td>47.09</td>\n",
       "      <td>0.53</td>\n",
       "      <td>438.25</td>\n",
       "      <td>85.23</td>\n",
       "      <td>-0.66</td>\n",
       "      <td>0</td>\n",
       "      <td>Urban</td>\n",
       "    </tr>\n",
       "    <tr>\n",
       "      <th>4</th>\n",
       "      <td>46.91</td>\n",
       "      <td>9.71</td>\n",
       "      <td>20377.81</td>\n",
       "      <td>46.96</td>\n",
       "      <td>0.56</td>\n",
       "      <td>436.41</td>\n",
       "      <td>85.79</td>\n",
       "      <td>-0.21</td>\n",
       "      <td>0</td>\n",
       "      <td>Urban</td>\n",
       "    </tr>\n",
       "    <tr>\n",
       "      <th>...</th>\n",
       "      <td>...</td>\n",
       "      <td>...</td>\n",
       "      <td>...</td>\n",
       "      <td>...</td>\n",
       "      <td>...</td>\n",
       "      <td>...</td>\n",
       "      <td>...</td>\n",
       "      <td>...</td>\n",
       "      <td>...</td>\n",
       "      <td>...</td>\n",
       "    </tr>\n",
       "    <tr>\n",
       "      <th>56355</th>\n",
       "      <td>96.67</td>\n",
       "      <td>122.60</td>\n",
       "      <td>9927.28</td>\n",
       "      <td>38.71</td>\n",
       "      <td>10.27</td>\n",
       "      <td>1644.72</td>\n",
       "      <td>62.14</td>\n",
       "      <td>0.53</td>\n",
       "      <td>1</td>\n",
       "      <td>Urban</td>\n",
       "    </tr>\n",
       "    <tr>\n",
       "      <th>56356</th>\n",
       "      <td>97.85</td>\n",
       "      <td>122.69</td>\n",
       "      <td>9987.56</td>\n",
       "      <td>39.21</td>\n",
       "      <td>10.45</td>\n",
       "      <td>1639.97</td>\n",
       "      <td>62.65</td>\n",
       "      <td>-0.60</td>\n",
       "      <td>1</td>\n",
       "      <td>Urban</td>\n",
       "    </tr>\n",
       "    <tr>\n",
       "      <th>56357</th>\n",
       "      <td>97.23</td>\n",
       "      <td>122.66</td>\n",
       "      <td>10046.64</td>\n",
       "      <td>39.06</td>\n",
       "      <td>10.27</td>\n",
       "      <td>1624.73</td>\n",
       "      <td>62.53</td>\n",
       "      <td>0.94</td>\n",
       "      <td>1</td>\n",
       "      <td>Urban</td>\n",
       "    </tr>\n",
       "    <tr>\n",
       "      <th>56358</th>\n",
       "      <td>97.30</td>\n",
       "      <td>122.69</td>\n",
       "      <td>10022.64</td>\n",
       "      <td>39.06</td>\n",
       "      <td>10.36</td>\n",
       "      <td>1645.58</td>\n",
       "      <td>62.41</td>\n",
       "      <td>-0.64</td>\n",
       "      <td>1</td>\n",
       "      <td>Urban</td>\n",
       "    </tr>\n",
       "    <tr>\n",
       "      <th>56359</th>\n",
       "      <td>96.88</td>\n",
       "      <td>122.75</td>\n",
       "      <td>10053.14</td>\n",
       "      <td>38.94</td>\n",
       "      <td>10.34</td>\n",
       "      <td>1666.16</td>\n",
       "      <td>62.20</td>\n",
       "      <td>-0.49</td>\n",
       "      <td>1</td>\n",
       "      <td>Urban</td>\n",
       "    </tr>\n",
       "  </tbody>\n",
       "</table>\n",
       "<p>56360 rows × 10 columns</p>\n",
       "</div>"
      ],
      "text/plain": [
       "       Internet_Penetration (%)  Broadband_Speed (Mbps)  GDP_Per_Capita (USD)  \\\n",
       "0                         25.45                    5.23              20339.01   \n",
       "1                         47.88                    9.57              20332.14   \n",
       "2                         46.46                    9.71              20319.72   \n",
       "3                         46.80                    9.73              20334.79   \n",
       "4                         46.91                    9.71              20377.81   \n",
       "...                         ...                     ...                   ...   \n",
       "56355                     96.67                  122.60               9927.28   \n",
       "56356                     97.85                  122.69               9987.56   \n",
       "56357                     97.23                  122.66              10046.64   \n",
       "56358                     97.30                  122.69              10022.64   \n",
       "56359                     96.88                  122.75              10053.14   \n",
       "\n",
       "       Education_Level (%)  Mobile_Data_Usage (GB)  \\\n",
       "0                    47.17                    0.26   \n",
       "1                    46.71                    0.54   \n",
       "2                    46.75                    0.64   \n",
       "3                    47.09                    0.53   \n",
       "4                    46.96                    0.56   \n",
       "...                    ...                     ...   \n",
       "56355                38.71                   10.27   \n",
       "56356                39.21                   10.45   \n",
       "56357                39.06                   10.27   \n",
       "56358                39.06                   10.36   \n",
       "56359                38.94                   10.34   \n",
       "\n",
       "       Digital_Investment (M USD)  Digital_Literacy (%)  X_Sentiment_Score  \\\n",
       "0                          428.95                 85.29               0.77   \n",
       "1                          441.28                 85.41              -0.49   \n",
       "2                          447.51                 85.32              -0.24   \n",
       "3                          438.25                 85.23              -0.66   \n",
       "4                          436.41                 85.79              -0.21   \n",
       "...                           ...                   ...                ...   \n",
       "56355                     1644.72                 62.14               0.53   \n",
       "56356                     1639.97                 62.65              -0.60   \n",
       "56357                     1624.73                 62.53               0.94   \n",
       "56358                     1645.58                 62.41              -0.64   \n",
       "56359                     1666.16                 62.20              -0.49   \n",
       "\n",
       "       5G_Rollout Urban_Rural  \n",
       "0               0       Rural  \n",
       "1               0       Urban  \n",
       "2               0       Urban  \n",
       "3               0       Urban  \n",
       "4               0       Urban  \n",
       "...           ...         ...  \n",
       "56355           1       Urban  \n",
       "56356           1       Urban  \n",
       "56357           1       Urban  \n",
       "56358           1       Urban  \n",
       "56359           1       Urban  \n",
       "\n",
       "[56360 rows x 10 columns]"
      ]
     },
     "execution_count": 530,
     "metadata": {},
     "output_type": "execute_result"
    }
   ],
   "source": [
    "df"
   ]
  },
  {
   "cell_type": "code",
   "execution_count": 531,
   "id": "f001a01e-2fce-4017-a429-a25ed2589d70",
   "metadata": {},
   "outputs": [
    {
     "data": {
      "text/html": [
       "<div>\n",
       "<style scoped>\n",
       "    .dataframe tbody tr th:only-of-type {\n",
       "        vertical-align: middle;\n",
       "    }\n",
       "\n",
       "    .dataframe tbody tr th {\n",
       "        vertical-align: top;\n",
       "    }\n",
       "\n",
       "    .dataframe thead th {\n",
       "        text-align: right;\n",
       "    }\n",
       "</style>\n",
       "<table border=\"1\" class=\"dataframe\">\n",
       "  <thead>\n",
       "    <tr style=\"text-align: right;\">\n",
       "      <th></th>\n",
       "      <th>features</th>\n",
       "      <th>coeficientes</th>\n",
       "    </tr>\n",
       "  </thead>\n",
       "  <tbody>\n",
       "    <tr>\n",
       "      <th>2</th>\n",
       "      <td>numerical__Mobile_Data_Usage (GB)</td>\n",
       "      <td>20.916558</td>\n",
       "    </tr>\n",
       "    <tr>\n",
       "      <th>5</th>\n",
       "      <td>categorical__Urban_Rural_Urban</td>\n",
       "      <td>14.245591</td>\n",
       "    </tr>\n",
       "    <tr>\n",
       "      <th>8</th>\n",
       "      <td>remainder__5G_Rollout</td>\n",
       "      <td>-11.627193</td>\n",
       "    </tr>\n",
       "    <tr>\n",
       "      <th>3</th>\n",
       "      <td>numerical__Digital_Investment (M USD)</td>\n",
       "      <td>7.190693</td>\n",
       "    </tr>\n",
       "    <tr>\n",
       "      <th>0</th>\n",
       "      <td>numerical__GDP_Per_Capita (USD)</td>\n",
       "      <td>5.019504</td>\n",
       "    </tr>\n",
       "    <tr>\n",
       "      <th>1</th>\n",
       "      <td>numerical__Education_Level (%)</td>\n",
       "      <td>-1.825511</td>\n",
       "    </tr>\n",
       "    <tr>\n",
       "      <th>7</th>\n",
       "      <td>remainder__Digital_Literacy (%)</td>\n",
       "      <td>0.129594</td>\n",
       "    </tr>\n",
       "    <tr>\n",
       "      <th>6</th>\n",
       "      <td>remainder__Broadband_Speed (Mbps)</td>\n",
       "      <td>-0.081799</td>\n",
       "    </tr>\n",
       "    <tr>\n",
       "      <th>4</th>\n",
       "      <td>numerical__X_Sentiment_Score</td>\n",
       "      <td>-0.006355</td>\n",
       "    </tr>\n",
       "  </tbody>\n",
       "</table>\n",
       "</div>"
      ],
      "text/plain": [
       "                                features  coeficientes\n",
       "2      numerical__Mobile_Data_Usage (GB)     20.916558\n",
       "5         categorical__Urban_Rural_Urban     14.245591\n",
       "8                  remainder__5G_Rollout    -11.627193\n",
       "3  numerical__Digital_Investment (M USD)      7.190693\n",
       "0        numerical__GDP_Per_Capita (USD)      5.019504\n",
       "1         numerical__Education_Level (%)     -1.825511\n",
       "7        remainder__Digital_Literacy (%)      0.129594\n",
       "6      remainder__Broadband_Speed (Mbps)     -0.081799\n",
       "4           numerical__X_Sentiment_Score     -0.006355"
      ]
     },
     "execution_count": 531,
     "metadata": {},
     "output_type": "execute_result"
    }
   ],
   "source": [
    "feature_names = pipeline.named_steps['preprocessor'].get_feature_names_out()\n",
    "coefficients = pipeline.named_steps['regressor'].coef_\n",
    "coef_df=pd.DataFrame({'features':feature_names,\n",
    "                    'coeficientes':coefficients}).sort_values(by='coeficientes',key=abs,ascending=False)\n",
    "coef_df"
   ]
  },
  {
   "cell_type": "markdown",
   "id": "f22edaf6-c9d5-4066-af75-7b6d60391b54",
   "metadata": {},
   "source": [
    "##### IC regresion"
   ]
  },
  {
   "cell_type": "code",
   "execution_count": 533,
   "id": "ff96a1f1-18c6-4653-8b6d-d3219f406b7b",
   "metadata": {},
   "outputs": [
    {
     "name": "stdout",
     "output_type": "stream",
     "text": [
      "                               OLS Regression Results                               \n",
      "====================================================================================\n",
      "Dep. Variable:     Internet_Penetration (%)   R-squared:                       0.956\n",
      "Model:                                  OLS   Adj. R-squared:                  0.956\n",
      "Method:                       Least Squares   F-statistic:                 1.089e+05\n",
      "Date:                      Fri, 18 Jul 2025   Prob (F-statistic):               0.00\n",
      "Time:                              23:58:44   Log-Likelihood:            -1.4404e+05\n",
      "No. Observations:                     45088   AIC:                         2.881e+05\n",
      "Df Residuals:                         45078   BIC:                         2.882e+05\n",
      "Df Model:                                 9                                         \n",
      "Covariance Type:                  nonrobust                                         \n",
      "==============================================================================\n",
      "                 coef    std err          t      P>|t|      [0.025      0.975]\n",
      "------------------------------------------------------------------------------\n",
      "const         46.0336      0.398    115.635      0.000      45.253      46.814\n",
      "x1             5.0195      0.069     72.801      0.000       4.884       5.155\n",
      "x2            -1.8255      0.036    -50.234      0.000      -1.897      -1.754\n",
      "x3            20.9166      0.118    177.475      0.000      20.686      21.148\n",
      "x4             7.1907      0.107     67.253      0.000       6.981       7.400\n",
      "x5            -0.0064      0.028     -0.228      0.819      -0.061       0.048\n",
      "x6            14.2456      0.124    115.011      0.000      14.003      14.488\n",
      "x7            -0.0818      0.004    -18.741      0.000      -0.090      -0.073\n",
      "x8             0.1296      0.004     32.983      0.000       0.122       0.137\n",
      "x9           -11.6272      0.102   -113.449      0.000     -11.828     -11.426\n",
      "==============================================================================\n",
      "Omnibus:                      459.929   Durbin-Watson:                   1.993\n",
      "Prob(Omnibus):                  0.000   Jarque-Bera (JB):              497.373\n",
      "Skew:                           0.220   Prob(JB):                    9.93e-109\n",
      "Kurtosis:                       3.268   Cond. No.                     1.35e+03\n",
      "==============================================================================\n",
      "\n",
      "Notes:\n",
      "[1] Standard Errors assume that the covariance matrix of the errors is correctly specified.\n",
      "[2] The condition number is large, 1.35e+03. This might indicate that there are\n",
      "strong multicollinearity or other numerical problems.\n"
     ]
    }
   ],
   "source": [
    "# preprocesando los datos antes de sacar el p-value \n",
    "X_train_processed = preprocessor.fit_transform(X_train)\n",
    "# Añadir una constante (intercepto) a X_train para statsmodels\n",
    "X_train_with_const = sm.add_constant(X_train_processed)\n",
    "# Ajustar el modelo con statsmodels para obtener los valores p\n",
    "model_sm = sm.OLS(y_train, X_train_with_const).fit()\n",
    "# Ver el resumen del modelo, que incluye los p-values\n",
    "print(model_sm.summary())"
   ]
  },
  {
   "cell_type": "markdown",
   "id": "77dd6426-28e9-46b0-a1af-869436bb24ce",
   "metadata": {
    "jp-MarkdownHeadingCollapsed": true
   },
   "source": [
    "#### Elasticidad"
   ]
  },
  {
   "cell_type": "code",
   "execution_count": 535,
   "id": "c02289ed-d35d-4408-b8fb-d007c5b25c48",
   "metadata": {},
   "outputs": [
    {
     "name": "stdout",
     "output_type": "stream",
     "text": [
      "const    46.033559\n",
      "x1        5.019504\n",
      "x2       -1.825511\n",
      "x3       20.916558\n",
      "x4        7.190693\n",
      "x5       -0.006355\n",
      "x6       14.245591\n",
      "x7       -0.081799\n",
      "x8        0.129594\n",
      "x9      -11.627193\n",
      "dtype: float64\n"
     ]
    }
   ],
   "source": [
    "print(model_sm.params)"
   ]
  },
  {
   "cell_type": "code",
   "execution_count": 536,
   "id": "8b8fc5e4-4388-477e-89e6-481c7cf0164d",
   "metadata": {},
   "outputs": [
    {
     "name": "stdout",
     "output_type": "stream",
     "text": [
      "Elasticidad estimada: 1.7261\n",
      "por un aumento del 20 % en Mobile_Data_Usage (GB) el internet adoption sube un: 34.52222021271235\n"
     ]
    }
   ],
   "source": [
    "# como estan a la misma escala se puede sacar directamente la elasticidad \n",
    "\n",
    "beta = model_sm.params['x3']\n",
    "\n",
    "# Calcular medias\n",
    "x_mean = df['Mobile_Data_Usage (GB)'].mean()\n",
    "y_mean = df['Internet_Penetration (%)'].mean()\n",
    "\n",
    "# Elasticidad estimada\n",
    "elasticidad = beta * (x_mean / y_mean)\n",
    "print(f\"Elasticidad estimada: {elasticidad:.4f}\")\n",
    "print(f\"por un aumento del 20 % en Mobile_Data_Usage (GB) el internet adoption sube un: {elasticidad*20}\")"
   ]
  },
  {
   "cell_type": "markdown",
   "id": "1ce9c0c8-8516-48d8-978b-3f80631e56f0",
   "metadata": {},
   "source": [
    "##### por 1 % de aumento en Mobile_Data_Usage (GB) el internet adoption sube un 1.7 % "
   ]
  },
  {
   "cell_type": "code",
   "execution_count": 538,
   "id": "27a4cbbd-d66d-49d8-a494-ddc00a1bcefc",
   "metadata": {},
   "outputs": [
    {
     "name": "stdout",
     "output_type": "stream",
     "text": [
      "Elasticidad constante estimada: 0.9097370156371464\n",
      "por un aumento del 20 % en 'Digital_Investment (M USD) el internet adoption sube un:  18.194740312742926\n"
     ]
    },
    {
     "name": "stderr",
     "output_type": "stream",
     "text": [
      "C:\\Users\\Nicol\\AppData\\Local\\Temp\\ipykernel_9952\\2403887002.py:3: SettingWithCopyWarning:\n",
      "\n",
      "\n",
      "A value is trying to be set on a copy of a slice from a DataFrame.\n",
      "Try using .loc[row_indexer,col_indexer] = value instead\n",
      "\n",
      "See the caveats in the documentation: https://pandas.pydata.org/pandas-docs/stable/user_guide/indexing.html#returning-a-view-versus-a-copy\n",
      "\n",
      "C:\\Users\\Nicol\\AppData\\Local\\Temp\\ipykernel_9952\\2403887002.py:4: SettingWithCopyWarning:\n",
      "\n",
      "\n",
      "A value is trying to be set on a copy of a slice from a DataFrame.\n",
      "Try using .loc[row_indexer,col_indexer] = value instead\n",
      "\n",
      "See the caveats in the documentation: https://pandas.pydata.org/pandas-docs/stable/user_guide/indexing.html#returning-a-view-versus-a-copy\n",
      "\n"
     ]
    }
   ],
   "source": [
    "# no esta a la misma escala entonces toca aplicar loglog para mirar ya la elasticidad directamente sin aplicar formula \n",
    "\n",
    "df['log_y'] = np.log(df['Internet_Penetration (%)'])\n",
    "df['log_x'] = np.log(df['Digital_Investment (M USD)'])\n",
    "\n",
    "X_log = sm.add_constant(df['log_x'])\n",
    "modelo_log = sm.OLS(df['log_y'], X_log).fit()\n",
    "\n",
    "print(\"Elasticidad constante estimada:\", modelo_log.params['log_x'])\n",
    "print(\"por un aumento del 20 % en 'Digital_Investment (M USD) el internet adoption sube un: \",0.9097370156371464*20)"
   ]
  },
  {
   "cell_type": "markdown",
   "id": "13d47c23-33bb-4a21-b4e4-795ccfdec09b",
   "metadata": {},
   "source": [
    "##### modelo loglog ==  en un modelo log-log, el coeficiente es la elasticidad \n",
    "##### ventajas == No se necesita  escalas compatibles entre variables y se utiliza en esos casos.\n"
   ]
  },
  {
   "cell_type": "markdown",
   "id": "a0fb4a29-ef75-498e-bb4b-139b3089ea99",
   "metadata": {},
   "source": [
    "### 3. Que Probabilidad Hay ?"
   ]
  },
  {
   "cell_type": "markdown",
   "id": "141c4dd8-2f30-4c99-8efb-d38b47fe4ff9",
   "metadata": {
    "jp-MarkdownHeadingCollapsed": true
   },
   "source": [
    "#### ¿Cuál es la probabilidad condicional de alcanzar el 95 % de penetración dado cierto nivel de inversión digital y alfabetización digital?"
   ]
  },
  {
   "cell_type": "code",
   "execution_count": 542,
   "id": "bc747629-2d10-4785-b497-ce7e16e9e8cc",
   "metadata": {},
   "outputs": [
    {
     "data": {
      "text/html": [
       "<div>\n",
       "<style scoped>\n",
       "    .dataframe tbody tr th:only-of-type {\n",
       "        vertical-align: middle;\n",
       "    }\n",
       "\n",
       "    .dataframe tbody tr th {\n",
       "        vertical-align: top;\n",
       "    }\n",
       "\n",
       "    .dataframe thead th {\n",
       "        text-align: right;\n",
       "    }\n",
       "</style>\n",
       "<table border=\"1\" class=\"dataframe\">\n",
       "  <thead>\n",
       "    <tr style=\"text-align: right;\">\n",
       "      <th></th>\n",
       "      <th>Internet_Penetration (%)</th>\n",
       "      <th>Broadband_Speed (Mbps)</th>\n",
       "      <th>GDP_Per_Capita (USD)</th>\n",
       "      <th>Education_Level (%)</th>\n",
       "      <th>Mobile_Data_Usage (GB)</th>\n",
       "      <th>Digital_Investment (M USD)</th>\n",
       "      <th>Digital_Literacy (%)</th>\n",
       "      <th>X_Sentiment_Score</th>\n",
       "      <th>5G_Rollout</th>\n",
       "      <th>Urban_Rural</th>\n",
       "      <th>log_y</th>\n",
       "      <th>log_x</th>\n",
       "    </tr>\n",
       "  </thead>\n",
       "  <tbody>\n",
       "    <tr>\n",
       "      <th>0</th>\n",
       "      <td>25.45</td>\n",
       "      <td>5.23</td>\n",
       "      <td>20339.01</td>\n",
       "      <td>47.17</td>\n",
       "      <td>0.26</td>\n",
       "      <td>428.95</td>\n",
       "      <td>85.29</td>\n",
       "      <td>0.77</td>\n",
       "      <td>0</td>\n",
       "      <td>Rural</td>\n",
       "      <td>3.236716</td>\n",
       "      <td>6.061340</td>\n",
       "    </tr>\n",
       "    <tr>\n",
       "      <th>1</th>\n",
       "      <td>47.88</td>\n",
       "      <td>9.57</td>\n",
       "      <td>20332.14</td>\n",
       "      <td>46.71</td>\n",
       "      <td>0.54</td>\n",
       "      <td>441.28</td>\n",
       "      <td>85.41</td>\n",
       "      <td>-0.49</td>\n",
       "      <td>0</td>\n",
       "      <td>Urban</td>\n",
       "      <td>3.868698</td>\n",
       "      <td>6.089680</td>\n",
       "    </tr>\n",
       "    <tr>\n",
       "      <th>2</th>\n",
       "      <td>46.46</td>\n",
       "      <td>9.71</td>\n",
       "      <td>20319.72</td>\n",
       "      <td>46.75</td>\n",
       "      <td>0.64</td>\n",
       "      <td>447.51</td>\n",
       "      <td>85.32</td>\n",
       "      <td>-0.24</td>\n",
       "      <td>0</td>\n",
       "      <td>Urban</td>\n",
       "      <td>3.838592</td>\n",
       "      <td>6.103699</td>\n",
       "    </tr>\n",
       "    <tr>\n",
       "      <th>3</th>\n",
       "      <td>46.80</td>\n",
       "      <td>9.73</td>\n",
       "      <td>20334.79</td>\n",
       "      <td>47.09</td>\n",
       "      <td>0.53</td>\n",
       "      <td>438.25</td>\n",
       "      <td>85.23</td>\n",
       "      <td>-0.66</td>\n",
       "      <td>0</td>\n",
       "      <td>Urban</td>\n",
       "      <td>3.845883</td>\n",
       "      <td>6.082790</td>\n",
       "    </tr>\n",
       "    <tr>\n",
       "      <th>4</th>\n",
       "      <td>46.91</td>\n",
       "      <td>9.71</td>\n",
       "      <td>20377.81</td>\n",
       "      <td>46.96</td>\n",
       "      <td>0.56</td>\n",
       "      <td>436.41</td>\n",
       "      <td>85.79</td>\n",
       "      <td>-0.21</td>\n",
       "      <td>0</td>\n",
       "      <td>Urban</td>\n",
       "      <td>3.848231</td>\n",
       "      <td>6.078582</td>\n",
       "    </tr>\n",
       "    <tr>\n",
       "      <th>...</th>\n",
       "      <td>...</td>\n",
       "      <td>...</td>\n",
       "      <td>...</td>\n",
       "      <td>...</td>\n",
       "      <td>...</td>\n",
       "      <td>...</td>\n",
       "      <td>...</td>\n",
       "      <td>...</td>\n",
       "      <td>...</td>\n",
       "      <td>...</td>\n",
       "      <td>...</td>\n",
       "      <td>...</td>\n",
       "    </tr>\n",
       "    <tr>\n",
       "      <th>56355</th>\n",
       "      <td>96.67</td>\n",
       "      <td>122.60</td>\n",
       "      <td>9927.28</td>\n",
       "      <td>38.71</td>\n",
       "      <td>10.27</td>\n",
       "      <td>1644.72</td>\n",
       "      <td>62.14</td>\n",
       "      <td>0.53</td>\n",
       "      <td>1</td>\n",
       "      <td>Urban</td>\n",
       "      <td>4.571303</td>\n",
       "      <td>7.405325</td>\n",
       "    </tr>\n",
       "    <tr>\n",
       "      <th>56356</th>\n",
       "      <td>97.85</td>\n",
       "      <td>122.69</td>\n",
       "      <td>9987.56</td>\n",
       "      <td>39.21</td>\n",
       "      <td>10.45</td>\n",
       "      <td>1639.97</td>\n",
       "      <td>62.65</td>\n",
       "      <td>-0.60</td>\n",
       "      <td>1</td>\n",
       "      <td>Urban</td>\n",
       "      <td>4.583436</td>\n",
       "      <td>7.402433</td>\n",
       "    </tr>\n",
       "    <tr>\n",
       "      <th>56357</th>\n",
       "      <td>97.23</td>\n",
       "      <td>122.66</td>\n",
       "      <td>10046.64</td>\n",
       "      <td>39.06</td>\n",
       "      <td>10.27</td>\n",
       "      <td>1624.73</td>\n",
       "      <td>62.53</td>\n",
       "      <td>0.94</td>\n",
       "      <td>1</td>\n",
       "      <td>Urban</td>\n",
       "      <td>4.577079</td>\n",
       "      <td>7.393097</td>\n",
       "    </tr>\n",
       "    <tr>\n",
       "      <th>56358</th>\n",
       "      <td>97.30</td>\n",
       "      <td>122.69</td>\n",
       "      <td>10022.64</td>\n",
       "      <td>39.06</td>\n",
       "      <td>10.36</td>\n",
       "      <td>1645.58</td>\n",
       "      <td>62.41</td>\n",
       "      <td>-0.64</td>\n",
       "      <td>1</td>\n",
       "      <td>Urban</td>\n",
       "      <td>4.577799</td>\n",
       "      <td>7.405848</td>\n",
       "    </tr>\n",
       "    <tr>\n",
       "      <th>56359</th>\n",
       "      <td>96.88</td>\n",
       "      <td>122.75</td>\n",
       "      <td>10053.14</td>\n",
       "      <td>38.94</td>\n",
       "      <td>10.34</td>\n",
       "      <td>1666.16</td>\n",
       "      <td>62.20</td>\n",
       "      <td>-0.49</td>\n",
       "      <td>1</td>\n",
       "      <td>Urban</td>\n",
       "      <td>4.573473</td>\n",
       "      <td>7.418277</td>\n",
       "    </tr>\n",
       "  </tbody>\n",
       "</table>\n",
       "<p>56360 rows × 12 columns</p>\n",
       "</div>"
      ],
      "text/plain": [
       "       Internet_Penetration (%)  Broadband_Speed (Mbps)  GDP_Per_Capita (USD)  \\\n",
       "0                         25.45                    5.23              20339.01   \n",
       "1                         47.88                    9.57              20332.14   \n",
       "2                         46.46                    9.71              20319.72   \n",
       "3                         46.80                    9.73              20334.79   \n",
       "4                         46.91                    9.71              20377.81   \n",
       "...                         ...                     ...                   ...   \n",
       "56355                     96.67                  122.60               9927.28   \n",
       "56356                     97.85                  122.69               9987.56   \n",
       "56357                     97.23                  122.66              10046.64   \n",
       "56358                     97.30                  122.69              10022.64   \n",
       "56359                     96.88                  122.75              10053.14   \n",
       "\n",
       "       Education_Level (%)  Mobile_Data_Usage (GB)  \\\n",
       "0                    47.17                    0.26   \n",
       "1                    46.71                    0.54   \n",
       "2                    46.75                    0.64   \n",
       "3                    47.09                    0.53   \n",
       "4                    46.96                    0.56   \n",
       "...                    ...                     ...   \n",
       "56355                38.71                   10.27   \n",
       "56356                39.21                   10.45   \n",
       "56357                39.06                   10.27   \n",
       "56358                39.06                   10.36   \n",
       "56359                38.94                   10.34   \n",
       "\n",
       "       Digital_Investment (M USD)  Digital_Literacy (%)  X_Sentiment_Score  \\\n",
       "0                          428.95                 85.29               0.77   \n",
       "1                          441.28                 85.41              -0.49   \n",
       "2                          447.51                 85.32              -0.24   \n",
       "3                          438.25                 85.23              -0.66   \n",
       "4                          436.41                 85.79              -0.21   \n",
       "...                           ...                   ...                ...   \n",
       "56355                     1644.72                 62.14               0.53   \n",
       "56356                     1639.97                 62.65              -0.60   \n",
       "56357                     1624.73                 62.53               0.94   \n",
       "56358                     1645.58                 62.41              -0.64   \n",
       "56359                     1666.16                 62.20              -0.49   \n",
       "\n",
       "       5G_Rollout Urban_Rural     log_y     log_x  \n",
       "0               0       Rural  3.236716  6.061340  \n",
       "1               0       Urban  3.868698  6.089680  \n",
       "2               0       Urban  3.838592  6.103699  \n",
       "3               0       Urban  3.845883  6.082790  \n",
       "4               0       Urban  3.848231  6.078582  \n",
       "...           ...         ...       ...       ...  \n",
       "56355           1       Urban  4.571303  7.405325  \n",
       "56356           1       Urban  4.583436  7.402433  \n",
       "56357           1       Urban  4.577079  7.393097  \n",
       "56358           1       Urban  4.577799  7.405848  \n",
       "56359           1       Urban  4.573473  7.418277  \n",
       "\n",
       "[56360 rows x 12 columns]"
      ]
     },
     "execution_count": 542,
     "metadata": {},
     "output_type": "execute_result"
    }
   ],
   "source": [
    "df"
   ]
  },
  {
   "cell_type": "code",
   "execution_count": 543,
   "id": "a826d90e-2db8-41fc-a727-1b4e423174f7",
   "metadata": {},
   "outputs": [],
   "source": [
    "y = (df['Internet_Penetration (%)'] >= 95).astype(int)\n",
    "X = df[['Digital_Investment (M USD)', 'Digital_Literacy (%)']]"
   ]
  },
  {
   "cell_type": "code",
   "execution_count": 544,
   "id": "b540e8eb-a989-4b3c-9b4c-c81df5e13616",
   "metadata": {},
   "outputs": [
    {
     "name": "stdout",
     "output_type": "stream",
     "text": [
      "Exactitudd de la prediccion: 0.92\n"
     ]
    },
    {
     "name": "stderr",
     "output_type": "stream",
     "text": [
      "C:\\Users\\Nicol\\anaconda3\\lib\\site-packages\\sklearn\\base.py:493: UserWarning:\n",
      "\n",
      "X does not have valid feature names, but StandardScaler was fitted with feature names\n",
      "\n"
     ]
    }
   ],
   "source": [
    "from sklearn.metrics import accuracy_score\n",
    "\n",
    "scaler = StandardScaler()\n",
    "X_scaled = scaler.fit_transform(X)\n",
    "\n",
    "\n",
    "model = LogisticRegression()\n",
    "model.fit(X_scaled, y)\n",
    "\n",
    "\n",
    "nueva_condicion = [[1944.72\t, 60.5]]\n",
    "nueva_condicion_scaled = scaler.transform(nueva_condicion)\n",
    "\n",
    "\n",
    "proba = model.predict_proba(nueva_condicion_scaled)[0][1]\n",
    "\n",
    "print(f\"Probabilidad estimada de alcanzar ≥95%: {proba:.2f}\")\n",
    "\n",
    "y_pred = model.predict(X_scaled)\n",
    "accuracy = accuracy_score(y, y_pred)\n",
    "print(f\"Exactitudd de la prediccion: {accuracy:.2f}\")"
   ]
  },
  {
   "cell_type": "markdown",
   "id": "839bd376-6b35-4be1-a905-4088a39b6ae5",
   "metadata": {},
   "source": [
    "####  Si se sabe que un país ha superado el 90 % en 2024, ¿cuál es la probabilidad de superar 97 % en 2025?"
   ]
  },
  {
   "cell_type": "code",
   "execution_count": 546,
   "id": "04c5a3a0-caaf-46d1-a5bb-d2abc0460938",
   "metadata": {},
   "outputs": [],
   "source": [
    "df=pd.read_csv('global_internet_adoption_daily_2010_2025.csv')"
   ]
  },
  {
   "cell_type": "code",
   "execution_count": 547,
   "id": "6da7ddcd-0225-4743-b511-410e07b342dc",
   "metadata": {},
   "outputs": [],
   "source": [
    "df['Date']=pd.to_datetime(df['Date'])\n",
    "df['Year'] = df['Date'].dt.year"
   ]
  },
  {
   "cell_type": "code",
   "execution_count": 548,
   "id": "c85316cb-6500-41df-bb28-e9330ee73fb9",
   "metadata": {},
   "outputs": [
    {
     "data": {
      "text/plain": [
       "array([2010, 2011, 2012, 2013, 2014, 2015, 2016, 2017, 2018, 2019, 2020,\n",
       "       2021, 2022, 2023, 2024, 2025])"
      ]
     },
     "execution_count": 548,
     "metadata": {},
     "output_type": "execute_result"
    }
   ],
   "source": [
    "df['Year'].unique()"
   ]
  },
  {
   "cell_type": "code",
   "execution_count": 549,
   "id": "50ef796b-bdc8-4c68-a511-8cbcc65a0fbe",
   "metadata": {},
   "outputs": [
    {
     "name": "stdout",
     "output_type": "stream",
     "text": [
      "Probabilidad condicional estimada: 0.40\n"
     ]
    }
   ],
   "source": [
    "grupo_90_2024 = df[(df['Year'] == 2024) & (df['Internet_Penetration (%)'] >= 90)]['Country']\n",
    "\n",
    "grupo_95_2025 = df[(df['Year'] == 2025) & (df['Country'].isin(grupo_90_2024)) & (df['Internet_Penetration (%)'] > 97)]\n",
    "\n",
    "prob = len(grupo_95_2025) / len(grupo_90_2024)\n",
    "print(f\"Probabilidad condicional estimada: {prob:.2f}\")"
   ]
  },
  {
   "cell_type": "code",
   "execution_count": 550,
   "id": "f427555e-1814-4f19-b8a5-223a25491674",
   "metadata": {},
   "outputs": [
    {
     "data": {
      "text/plain": [
       "5113              USA\n",
       "5114              USA\n",
       "5115              USA\n",
       "5116              USA\n",
       "5117              USA\n",
       "             ...     \n",
       "56196    South Africa\n",
       "56197    South Africa\n",
       "56198    South Africa\n",
       "56200    South Africa\n",
       "56201    South Africa\n",
       "Name: Country, Length: 2560, dtype: object"
      ]
     },
     "execution_count": 550,
     "metadata": {},
     "output_type": "execute_result"
    }
   ],
   "source": [
    "grupo_90_2024"
   ]
  },
  {
   "cell_type": "markdown",
   "id": "1149dc7d-e717-40ff-8fd4-660876c56a45",
   "metadata": {},
   "source": [
    "#### ¿Cuál es la distribución empírica del tiempo requerido para pasar de 50 % a 95 % de adopción por grupo?"
   ]
  },
  {
   "cell_type": "code",
   "execution_count": 552,
   "id": "63fd08bd-f10a-4d49-878d-7ef55f2838da",
   "metadata": {},
   "outputs": [
    {
     "data": {
      "text/html": [
       "<div>\n",
       "<style scoped>\n",
       "    .dataframe tbody tr th:only-of-type {\n",
       "        vertical-align: middle;\n",
       "    }\n",
       "\n",
       "    .dataframe tbody tr th {\n",
       "        vertical-align: top;\n",
       "    }\n",
       "\n",
       "    .dataframe thead th {\n",
       "        text-align: right;\n",
       "    }\n",
       "</style>\n",
       "<table border=\"1\" class=\"dataframe\">\n",
       "  <thead>\n",
       "    <tr style=\"text-align: right;\">\n",
       "      <th></th>\n",
       "      <th>Country</th>\n",
       "      <th>Años</th>\n",
       "    </tr>\n",
       "  </thead>\n",
       "  <tbody>\n",
       "    <tr>\n",
       "      <th>0</th>\n",
       "      <td>USA</td>\n",
       "      <td>9</td>\n",
       "    </tr>\n",
       "    <tr>\n",
       "      <th>1</th>\n",
       "      <td>India</td>\n",
       "      <td>8</td>\n",
       "    </tr>\n",
       "    <tr>\n",
       "      <th>2</th>\n",
       "      <td>Brazil</td>\n",
       "      <td>8</td>\n",
       "    </tr>\n",
       "    <tr>\n",
       "      <th>3</th>\n",
       "      <td>Nigeria</td>\n",
       "      <td>8</td>\n",
       "    </tr>\n",
       "    <tr>\n",
       "      <th>4</th>\n",
       "      <td>Indonesia</td>\n",
       "      <td>8</td>\n",
       "    </tr>\n",
       "    <tr>\n",
       "      <th>5</th>\n",
       "      <td>Ethiopia</td>\n",
       "      <td>8</td>\n",
       "    </tr>\n",
       "    <tr>\n",
       "      <th>6</th>\n",
       "      <td>China</td>\n",
       "      <td>9</td>\n",
       "    </tr>\n",
       "    <tr>\n",
       "      <th>7</th>\n",
       "      <td>Kenya</td>\n",
       "      <td>8</td>\n",
       "    </tr>\n",
       "    <tr>\n",
       "      <th>8</th>\n",
       "      <td>Germany</td>\n",
       "      <td>8</td>\n",
       "    </tr>\n",
       "    <tr>\n",
       "      <th>9</th>\n",
       "      <td>South Africa</td>\n",
       "      <td>8</td>\n",
       "    </tr>\n",
       "  </tbody>\n",
       "</table>\n",
       "</div>"
      ],
      "text/plain": [
       "        Country  Años\n",
       "0           USA     9\n",
       "1         India     8\n",
       "2        Brazil     8\n",
       "3       Nigeria     8\n",
       "4     Indonesia     8\n",
       "5      Ethiopia     8\n",
       "6         China     9\n",
       "7         Kenya     8\n",
       "8       Germany     8\n",
       "9  South Africa     8"
      ]
     },
     "execution_count": 552,
     "metadata": {},
     "output_type": "execute_result"
    }
   ],
   "source": [
    "tiempos = []\n",
    "\n",
    "for country in df['Country'].unique():\n",
    "    datos = df[df['Country'] == country].sort_values('Year')\n",
    "    año_50 = datos[datos['Internet_Penetration (%)'] >= 50]['Year'].min()\n",
    "    año_95 = datos[datos['Internet_Penetration (%)'] >= 95]['Year'].min()\n",
    "    \n",
    "    if pd.notnull(año_50) and pd.notnull(año_95):\n",
    "        tiempos.append({'Country': country, 'Años': año_95 - año_50})\n",
    "\n",
    "tiempos_df = pd.DataFrame(tiempos)\n",
    "\n",
    "tiempos_df"
   ]
  },
  {
   "cell_type": "markdown",
   "id": "3b4b91bc-b01b-4138-9a3e-5bd805034de7",
   "metadata": {},
   "source": [
    "### 4. Series temporales"
   ]
  },
  {
   "cell_type": "markdown",
   "id": "ec4c2aba-8327-4559-ba55-05cb1487c1d2",
   "metadata": {},
   "source": [
    "####  Entendiendo la adopcion de internet durante los meses--años ?"
   ]
  },
  {
   "cell_type": "code",
   "execution_count": 555,
   "id": "fbd84918-e9e0-4f88-b5bb-504a5d2b4ef7",
   "metadata": {},
   "outputs": [
    {
     "name": "stderr",
     "output_type": "stream",
     "text": [
      "C:\\Users\\Nicol\\AppData\\Local\\Temp\\ipykernel_9952\\2992368927.py:1: SettingWithCopyWarning:\n",
      "\n",
      "\n",
      "A value is trying to be set on a copy of a slice from a DataFrame\n",
      "\n",
      "See the caveats in the documentation: https://pandas.pydata.org/pandas-docs/stable/user_guide/indexing.html#returning-a-view-versus-a-copy\n",
      "\n"
     ]
    }
   ],
   "source": [
    "paises_desarollados.drop(['grupo','Country'],axis=1,inplace=True)"
   ]
  },
  {
   "cell_type": "code",
   "execution_count": 556,
   "id": "0f4dd418-c369-4a80-8f2c-b0938b6b50aa",
   "metadata": {},
   "outputs": [
    {
     "name": "stderr",
     "output_type": "stream",
     "text": [
      "C:\\Users\\Nicol\\AppData\\Local\\Temp\\ipykernel_9952\\260226964.py:2: SettingWithCopyWarning:\n",
      "\n",
      "\n",
      "A value is trying to be set on a copy of a slice from a DataFrame.\n",
      "Try using .loc[row_indexer,col_indexer] = value instead\n",
      "\n",
      "See the caveats in the documentation: https://pandas.pydata.org/pandas-docs/stable/user_guide/indexing.html#returning-a-view-versus-a-copy\n",
      "\n"
     ]
    }
   ],
   "source": [
    "mapeo = {'Urban': 1, 'Rural': 0}\n",
    "paises_desarollados['Urban_Rural'] = paises_desarollados['Urban_Rural'].map(mapeo)"
   ]
  },
  {
   "cell_type": "code",
   "execution_count": 557,
   "id": "61b1d59b-c9e2-43d1-b5a0-6ba883f3b9ec",
   "metadata": {},
   "outputs": [],
   "source": [
    "paises_desarollados_resampled=paises_desarollados.resample('ME').mean()"
   ]
  },
  {
   "cell_type": "code",
   "execution_count": 558,
   "id": "76870f27-14e8-4676-bc74-5b176afa488b",
   "metadata": {},
   "outputs": [
    {
     "name": "stdout",
     "output_type": "stream",
     "text": [
      "True\n"
     ]
    }
   ],
   "source": [
    "# mirar si  las fechas estan ordenadas cronologicamente \n",
    "print(paises_desarollados_resampled.index.is_monotonic_increasing)"
   ]
  },
  {
   "cell_type": "code",
   "execution_count": 559,
   "id": "3856fc2f-07fd-43ee-8de6-d37e75830140",
   "metadata": {},
   "outputs": [
    {
     "data": {
      "text/plain": [
       "<Axes: title={'center': 'monthly Internet_Penetration (%)'}, xlabel='Date'>"
      ]
     },
     "execution_count": 559,
     "metadata": {},
     "output_type": "execute_result"
    },
    {
     "data": {
      "image/png": "[encoded data removed]",
      "text/plain": [
       "<Figure size 640x480 with 1 Axes>"
      ]
     },
     "metadata": {},
     "output_type": "display_data"
    }
   ],
   "source": [
    "paises_desarollados_resampled['Internet_Penetration (%)'].plot(title='monthly Internet_Penetration (%)')"
   ]
  },
  {
   "cell_type": "code",
   "execution_count": 560,
   "id": "549ad42f-978e-4231-9b22-48b98dc1e8c5",
   "metadata": {},
   "outputs": [
    {
     "data": {
      "image/png": "[encoded data removed]",
      "text/plain": [
       "<Figure size 640x480 with 1 Axes>"
      ]
     },
     "metadata": {},
     "output_type": "display_data"
    }
   ],
   "source": [
    "month_plot(paises_desarollados_resampled['Internet_Penetration (%)'].resample('ME').mean(),\n",
    "          ylabel='Internet_Penetration (%)')\n",
    "plt.show()"
   ]
  },
  {
   "cell_type": "code",
   "execution_count": 561,
   "id": "068b7f5e-64aa-4a56-bdf8-16b518eab708",
   "metadata": {},
   "outputs": [
    {
     "name": "stderr",
     "output_type": "stream",
     "text": [
      "C:\\Users\\Nicol\\AppData\\Local\\Temp\\ipykernel_9952\\3168862664.py:1: FutureWarning:\n",
      "\n",
      "'Q' is deprecated and will be removed in a future version, please use 'QE' instead.\n",
      "\n"
     ]
    },
    {
     "data": {
      "image/png": "[encoded data removed]",
      "text/plain": [
       "<Figure size 640x480 with 1 Axes>"
      ]
     },
     "metadata": {},
     "output_type": "display_data"
    }
   ],
   "source": [
    "quarter_plot(paises_desarollados_resampled['Internet_Penetration (%)'].resample('Q').mean(),\n",
    "          ylabel='Internet_Penetration (%)')\n",
    "plt.show()"
   ]
  },
  {
   "cell_type": "code",
   "execution_count": 562,
   "id": "ff743f8f-af14-4504-b1db-f90f7cd074b1",
   "metadata": {},
   "outputs": [
    {
     "data": {
      "image/png": "[encoded data removed]",
      "text/plain": [
       "<Figure size 640x480 with 4 Axes>"
      ]
     },
     "metadata": {},
     "output_type": "display_data"
    }
   ],
   "source": [
    "decomposition_mul=seasonal_decompose(paises_desarollados_resampled['Internet_Penetration (%)'],model='multiplicative',period=12)\n",
    "fig=decomposition_mul.plot()"
   ]
  },
  {
   "cell_type": "code",
   "execution_count": 563,
   "id": "07c29536-a3a0-4cfc-9fb8-2fa27fd86cf7",
   "metadata": {},
   "outputs": [
    {
     "name": "stdout",
     "output_type": "stream",
     "text": [
      "promedio residuales descompocision multiplicativa: 1.0004132339494618\n",
      "Desviación estándar residuos multiplicativo: 0.03075053708646519\n"
     ]
    }
   ],
   "source": [
    "print(f'promedio residuales descompocision multiplicativa: {decomposition_mul.resid.mean()}')\n",
    "print(f\"Desviación estándar residuos multiplicativo: {decomposition_mul.resid.std()}\")"
   ]
  },
  {
   "cell_type": "code",
   "execution_count": 564,
   "id": "250a7eb8-319c-479d-a6cb-0b0c6bcdb980",
   "metadata": {},
   "outputs": [
    {
     "data": {
      "image/png": "[encoded data removed]",
      "text/plain": [
       "<Figure size 640x480 with 4 Axes>"
      ]
     },
     "metadata": {},
     "output_type": "display_data"
    }
   ],
   "source": [
    "decomposition_add=seasonal_decompose(paises_desarollados_resampled['Internet_Penetration (%)'],model='additive',period=12)\n",
    "fig=decomposition_add.plot()"
   ]
  },
  {
   "cell_type": "code",
   "execution_count": 565,
   "id": "e2ef701c-8b40-432f-a90e-279e7e658cfa",
   "metadata": {},
   "outputs": [
    {
     "name": "stdout",
     "output_type": "stream",
     "text": [
      "promedio residuales descompocision aditiva: 0.027562843116870586\n",
      "Desviación estándar residuos aditivo: 2.2395614297248714\n"
     ]
    }
   ],
   "source": [
    "print(f'promedio residuales descompocision aditiva: {decomposition_add.resid.mean()}')\n",
    "print(f\"Desviación estándar residuos aditivo: {decomposition_add.resid.std()}\")"
   ]
  },
  {
   "cell_type": "code",
   "execution_count": 566,
   "id": "556dde40-78f3-48e3-a4f2-27f6bfd4ab34",
   "metadata": {},
   "outputs": [
    {
     "data": {
      "image/png": "[encoded data removed]",
      "text/plain": [
       "<Figure size 640x480 with 4 Axes>"
      ]
     },
     "metadata": {},
     "output_type": "display_data"
    }
   ],
   "source": [
    "df_stl=STL(paises_desarollados_resampled['Internet_Penetration (%)'],period=12).fit()\n",
    "fig=df_stl.plot()"
   ]
  },
  {
   "cell_type": "code",
   "execution_count": 567,
   "id": "c05867eb-0fc5-4cde-a71d-0303f37c20bd",
   "metadata": {},
   "outputs": [
    {
     "name": "stdout",
     "output_type": "stream",
     "text": [
      "promedio de resiudlaes STl:0.022170077249001722\n",
      "Desviación estándar residuos stl: 1.861508719208798\n"
     ]
    }
   ],
   "source": [
    "print(f'promedio de resiudlaes STl:{df_stl.resid.mean()}')\n",
    "print(f\"Desviación estándar residuos stl: {df_stl.resid.std()}\")"
   ]
  },
  {
   "cell_type": "code",
   "execution_count": 568,
   "id": "82e71837-1198-4a5a-8a58-121c2b8a27a8",
   "metadata": {},
   "outputs": [
    {
     "data": {
      "image/png": "[encoded data removed]",
      "text/plain": [
       "<Figure size 640x480 with 1 Axes>"
      ]
     },
     "metadata": {},
     "output_type": "display_data"
    }
   ],
   "source": [
    "plot_acf(paises_desarollados_resampled['Internet_Penetration (%)'],lags=100)\n",
    "plt.show()"
   ]
  },
  {
   "cell_type": "code",
   "execution_count": 569,
   "id": "2ec5450a-7f3b-454d-893b-5f0d7bcc003f",
   "metadata": {},
   "outputs": [
    {
     "data": {
      "image/png": "[encoded data removed]",
      "text/plain": [
       "<Figure size 640x480 with 1 Axes>"
      ]
     },
     "metadata": {},
     "output_type": "display_data"
    }
   ],
   "source": [
    "plot_pacf(paises_desarollados_resampled['Internet_Penetration (%)'],lags=80)\n",
    "plt.show()"
   ]
  },
  {
   "cell_type": "code",
   "execution_count": 570,
   "id": "adfb67f6-8a1d-4801-925c-b234b3380537",
   "metadata": {},
   "outputs": [],
   "source": [
    "y=df['Internet_Penetration (%)']\n",
    "\n",
    "variables_exogenas =df[['GDP_Per_Capita (USD)', 'Education_Level (%)', 'Mobile_Data_Usage (GB)',\n",
    "       'Digital_Investment (M USD)','Digital_Literacy (%)','Broadband_Speed (Mbps)']]"
   ]
  },
  {
   "cell_type": "code",
   "execution_count": 571,
   "id": "c9ec4307-d0dd-4f43-ab6f-a23f49537d32",
   "metadata": {},
   "outputs": [
    {
     "name": "stdout",
     "output_type": "stream",
     "text": [
      "p-value 0.000078\n",
      "evidence suggests that the time series is stationary\n"
     ]
    }
   ],
   "source": [
    "from statsmodels.tsa.stattools import adfuller \n",
    "\n",
    "\n",
    "result = adfuller(df['Internet_Penetration (%)'])\n",
    "print(\"p-value %f\"%result[1]) # p-value result[1]\n",
    "\n",
    "if result[1]<0.05:\n",
    "    print(\"evidence suggests that the time series is stationary\")\n",
    "else:\n",
    "    print(\"evidence suggests that the time series is not stationary \")"
   ]
  },
  {
   "cell_type": "code",
   "execution_count": 572,
   "id": "b59e42bc-488b-466d-a161-8b09fa9fc4ec",
   "metadata": {},
   "outputs": [
    {
     "name": "stdout",
     "output_type": "stream",
     "text": [
      "\n",
      "Variable: GDP_Per_Capita (USD)\n",
      "  ➤ p-value: 0.043841\n",
      "  ✅ Estacionaria (rechazamos H0)\n",
      "\n",
      "Variable: Education_Level (%)\n",
      "  ➤ p-value: 0.076786\n",
      "  ❌ No estacionaria (no se puede rechazar H0)\n",
      "\n",
      "Variable: Mobile_Data_Usage (GB)\n",
      "  ➤ p-value: 0.000006\n",
      "  ✅ Estacionaria (rechazamos H0)\n",
      "\n",
      "Variable: Digital_Investment (M USD)\n",
      "  ➤ p-value: 0.000017\n",
      "  ✅ Estacionaria (rechazamos H0)\n",
      "\n",
      "Variable: Digital_Literacy (%)\n",
      "  ➤ p-value: 0.051079\n",
      "  ❌ No estacionaria (no se puede rechazar H0)\n",
      "\n",
      "Variable: Broadband_Speed (Mbps)\n",
      "  ➤ p-value: 0.000010\n",
      "  ✅ Estacionaria (rechazamos H0)\n"
     ]
    }
   ],
   "source": [
    "for var in variables_exogenas:\n",
    "    serie = df[var]  \n",
    "    resultado = adfuller(serie)\n",
    "\n",
    "    print(f\"\\nVariable: {var}\")\n",
    "    print(f\"  ➤ p-value: {resultado[1]:.6f}\")\n",
    "    \n",
    "    if resultado[1] < 0.05:\n",
    "        print(\"  ✅ Estacionaria (rechazamos H0)\")\n",
    "    else:\n",
    "        print(\"  ❌ No estacionaria (no se puede rechazar H0)\")\n"
   ]
  },
  {
   "cell_type": "code",
   "execution_count": 573,
   "id": "aa1b31bd-776b-40c3-a048-99db315a35ca",
   "metadata": {},
   "outputs": [],
   "source": [
    "df['Education_Level (%)_dff']=df['Education_Level (%)'].diff()\n",
    "df['Digital_Literacy (%)_dff']=df['Digital_Literacy (%)'].diff()\n",
    "df=df.dropna()"
   ]
  },
  {
   "cell_type": "code",
   "execution_count": 574,
   "id": "0bdd7afe-5ccf-42a5-bf18-18e64c05a50c",
   "metadata": {},
   "outputs": [
    {
     "data": {
      "text/html": [
       "<div>\n",
       "<style scoped>\n",
       "    .dataframe tbody tr th:only-of-type {\n",
       "        vertical-align: middle;\n",
       "    }\n",
       "\n",
       "    .dataframe tbody tr th {\n",
       "        vertical-align: top;\n",
       "    }\n",
       "\n",
       "    .dataframe thead th {\n",
       "        text-align: right;\n",
       "    }\n",
       "</style>\n",
       "<table border=\"1\" class=\"dataframe\">\n",
       "  <thead>\n",
       "    <tr style=\"text-align: right;\">\n",
       "      <th></th>\n",
       "      <th>Country</th>\n",
       "      <th>Date</th>\n",
       "      <th>Internet_Penetration (%)</th>\n",
       "      <th>Broadband_Speed (Mbps)</th>\n",
       "      <th>GDP_Per_Capita (USD)</th>\n",
       "      <th>Education_Level (%)</th>\n",
       "      <th>Mobile_Data_Usage (GB)</th>\n",
       "      <th>Digital_Investment (M USD)</th>\n",
       "      <th>Digital_Literacy (%)</th>\n",
       "      <th>X_Sentiment_Score</th>\n",
       "      <th>5G_Rollout</th>\n",
       "      <th>Urban_Rural</th>\n",
       "      <th>Latitude</th>\n",
       "      <th>Longitude</th>\n",
       "      <th>Year</th>\n",
       "      <th>Education_Level (%)_dff</th>\n",
       "      <th>Digital_Literacy (%)_dff</th>\n",
       "    </tr>\n",
       "  </thead>\n",
       "  <tbody>\n",
       "    <tr>\n",
       "      <th>1</th>\n",
       "      <td>USA</td>\n",
       "      <td>2010-01-02</td>\n",
       "      <td>47.88</td>\n",
       "      <td>9.57</td>\n",
       "      <td>20332.14</td>\n",
       "      <td>46.71</td>\n",
       "      <td>0.54</td>\n",
       "      <td>441.28</td>\n",
       "      <td>85.41</td>\n",
       "      <td>-0.49</td>\n",
       "      <td>0</td>\n",
       "      <td>Urban</td>\n",
       "      <td>37.0902</td>\n",
       "      <td>-95.7129</td>\n",
       "      <td>2010</td>\n",
       "      <td>-0.46</td>\n",
       "      <td>0.12</td>\n",
       "    </tr>\n",
       "    <tr>\n",
       "      <th>2</th>\n",
       "      <td>USA</td>\n",
       "      <td>2010-01-03</td>\n",
       "      <td>46.46</td>\n",
       "      <td>9.71</td>\n",
       "      <td>20319.72</td>\n",
       "      <td>46.75</td>\n",
       "      <td>0.64</td>\n",
       "      <td>447.51</td>\n",
       "      <td>85.32</td>\n",
       "      <td>-0.24</td>\n",
       "      <td>0</td>\n",
       "      <td>Urban</td>\n",
       "      <td>37.0902</td>\n",
       "      <td>-95.7129</td>\n",
       "      <td>2010</td>\n",
       "      <td>0.04</td>\n",
       "      <td>-0.09</td>\n",
       "    </tr>\n",
       "    <tr>\n",
       "      <th>3</th>\n",
       "      <td>USA</td>\n",
       "      <td>2010-01-04</td>\n",
       "      <td>46.80</td>\n",
       "      <td>9.73</td>\n",
       "      <td>20334.79</td>\n",
       "      <td>47.09</td>\n",
       "      <td>0.53</td>\n",
       "      <td>438.25</td>\n",
       "      <td>85.23</td>\n",
       "      <td>-0.66</td>\n",
       "      <td>0</td>\n",
       "      <td>Urban</td>\n",
       "      <td>37.0902</td>\n",
       "      <td>-95.7129</td>\n",
       "      <td>2010</td>\n",
       "      <td>0.34</td>\n",
       "      <td>-0.09</td>\n",
       "    </tr>\n",
       "    <tr>\n",
       "      <th>4</th>\n",
       "      <td>USA</td>\n",
       "      <td>2010-01-05</td>\n",
       "      <td>46.91</td>\n",
       "      <td>9.71</td>\n",
       "      <td>20377.81</td>\n",
       "      <td>46.96</td>\n",
       "      <td>0.56</td>\n",
       "      <td>436.41</td>\n",
       "      <td>85.79</td>\n",
       "      <td>-0.21</td>\n",
       "      <td>0</td>\n",
       "      <td>Urban</td>\n",
       "      <td>37.0902</td>\n",
       "      <td>-95.7129</td>\n",
       "      <td>2010</td>\n",
       "      <td>-0.13</td>\n",
       "      <td>0.56</td>\n",
       "    </tr>\n",
       "    <tr>\n",
       "      <th>5</th>\n",
       "      <td>USA</td>\n",
       "      <td>2010-01-06</td>\n",
       "      <td>24.95</td>\n",
       "      <td>5.24</td>\n",
       "      <td>20385.63</td>\n",
       "      <td>46.67</td>\n",
       "      <td>0.33</td>\n",
       "      <td>436.77</td>\n",
       "      <td>85.37</td>\n",
       "      <td>0.21</td>\n",
       "      <td>0</td>\n",
       "      <td>Rural</td>\n",
       "      <td>37.0902</td>\n",
       "      <td>-95.7129</td>\n",
       "      <td>2010</td>\n",
       "      <td>-0.29</td>\n",
       "      <td>-0.42</td>\n",
       "    </tr>\n",
       "    <tr>\n",
       "      <th>...</th>\n",
       "      <td>...</td>\n",
       "      <td>...</td>\n",
       "      <td>...</td>\n",
       "      <td>...</td>\n",
       "      <td>...</td>\n",
       "      <td>...</td>\n",
       "      <td>...</td>\n",
       "      <td>...</td>\n",
       "      <td>...</td>\n",
       "      <td>...</td>\n",
       "      <td>...</td>\n",
       "      <td>...</td>\n",
       "      <td>...</td>\n",
       "      <td>...</td>\n",
       "      <td>...</td>\n",
       "      <td>...</td>\n",
       "      <td>...</td>\n",
       "    </tr>\n",
       "    <tr>\n",
       "      <th>56355</th>\n",
       "      <td>South Africa</td>\n",
       "      <td>2025-06-02</td>\n",
       "      <td>96.67</td>\n",
       "      <td>122.60</td>\n",
       "      <td>9927.28</td>\n",
       "      <td>38.71</td>\n",
       "      <td>10.27</td>\n",
       "      <td>1644.72</td>\n",
       "      <td>62.14</td>\n",
       "      <td>0.53</td>\n",
       "      <td>1</td>\n",
       "      <td>Urban</td>\n",
       "      <td>-30.5595</td>\n",
       "      <td>22.9375</td>\n",
       "      <td>2025</td>\n",
       "      <td>0.12</td>\n",
       "      <td>-0.53</td>\n",
       "    </tr>\n",
       "    <tr>\n",
       "      <th>56356</th>\n",
       "      <td>South Africa</td>\n",
       "      <td>2025-06-03</td>\n",
       "      <td>97.85</td>\n",
       "      <td>122.69</td>\n",
       "      <td>9987.56</td>\n",
       "      <td>39.21</td>\n",
       "      <td>10.45</td>\n",
       "      <td>1639.97</td>\n",
       "      <td>62.65</td>\n",
       "      <td>-0.60</td>\n",
       "      <td>1</td>\n",
       "      <td>Urban</td>\n",
       "      <td>-30.5595</td>\n",
       "      <td>22.9375</td>\n",
       "      <td>2025</td>\n",
       "      <td>0.50</td>\n",
       "      <td>0.51</td>\n",
       "    </tr>\n",
       "    <tr>\n",
       "      <th>56357</th>\n",
       "      <td>South Africa</td>\n",
       "      <td>2025-06-04</td>\n",
       "      <td>97.23</td>\n",
       "      <td>122.66</td>\n",
       "      <td>10046.64</td>\n",
       "      <td>39.06</td>\n",
       "      <td>10.27</td>\n",
       "      <td>1624.73</td>\n",
       "      <td>62.53</td>\n",
       "      <td>0.94</td>\n",
       "      <td>1</td>\n",
       "      <td>Urban</td>\n",
       "      <td>-30.5595</td>\n",
       "      <td>22.9375</td>\n",
       "      <td>2025</td>\n",
       "      <td>-0.15</td>\n",
       "      <td>-0.12</td>\n",
       "    </tr>\n",
       "    <tr>\n",
       "      <th>56358</th>\n",
       "      <td>South Africa</td>\n",
       "      <td>2025-06-05</td>\n",
       "      <td>97.30</td>\n",
       "      <td>122.69</td>\n",
       "      <td>10022.64</td>\n",
       "      <td>39.06</td>\n",
       "      <td>10.36</td>\n",
       "      <td>1645.58</td>\n",
       "      <td>62.41</td>\n",
       "      <td>-0.64</td>\n",
       "      <td>1</td>\n",
       "      <td>Urban</td>\n",
       "      <td>-30.5595</td>\n",
       "      <td>22.9375</td>\n",
       "      <td>2025</td>\n",
       "      <td>0.00</td>\n",
       "      <td>-0.12</td>\n",
       "    </tr>\n",
       "    <tr>\n",
       "      <th>56359</th>\n",
       "      <td>South Africa</td>\n",
       "      <td>2025-06-06</td>\n",
       "      <td>96.88</td>\n",
       "      <td>122.75</td>\n",
       "      <td>10053.14</td>\n",
       "      <td>38.94</td>\n",
       "      <td>10.34</td>\n",
       "      <td>1666.16</td>\n",
       "      <td>62.20</td>\n",
       "      <td>-0.49</td>\n",
       "      <td>1</td>\n",
       "      <td>Urban</td>\n",
       "      <td>-30.5595</td>\n",
       "      <td>22.9375</td>\n",
       "      <td>2025</td>\n",
       "      <td>-0.12</td>\n",
       "      <td>-0.21</td>\n",
       "    </tr>\n",
       "  </tbody>\n",
       "</table>\n",
       "<p>56359 rows × 17 columns</p>\n",
       "</div>"
      ],
      "text/plain": [
       "            Country       Date  Internet_Penetration (%)  \\\n",
       "1               USA 2010-01-02                     47.88   \n",
       "2               USA 2010-01-03                     46.46   \n",
       "3               USA 2010-01-04                     46.80   \n",
       "4               USA 2010-01-05                     46.91   \n",
       "5               USA 2010-01-06                     24.95   \n",
       "...             ...        ...                       ...   \n",
       "56355  South Africa 2025-06-02                     96.67   \n",
       "56356  South Africa 2025-06-03                     97.85   \n",
       "56357  South Africa 2025-06-04                     97.23   \n",
       "56358  South Africa 2025-06-05                     97.30   \n",
       "56359  South Africa 2025-06-06                     96.88   \n",
       "\n",
       "       Broadband_Speed (Mbps)  GDP_Per_Capita (USD)  Education_Level (%)  \\\n",
       "1                        9.57              20332.14                46.71   \n",
       "2                        9.71              20319.72                46.75   \n",
       "3                        9.73              20334.79                47.09   \n",
       "4                        9.71              20377.81                46.96   \n",
       "5                        5.24              20385.63                46.67   \n",
       "...                       ...                   ...                  ...   \n",
       "56355                  122.60               9927.28                38.71   \n",
       "56356                  122.69               9987.56                39.21   \n",
       "56357                  122.66              10046.64                39.06   \n",
       "56358                  122.69              10022.64                39.06   \n",
       "56359                  122.75              10053.14                38.94   \n",
       "\n",
       "       Mobile_Data_Usage (GB)  Digital_Investment (M USD)  \\\n",
       "1                        0.54                      441.28   \n",
       "2                        0.64                      447.51   \n",
       "3                        0.53                      438.25   \n",
       "4                        0.56                      436.41   \n",
       "5                        0.33                      436.77   \n",
       "...                       ...                         ...   \n",
       "56355                   10.27                     1644.72   \n",
       "56356                   10.45                     1639.97   \n",
       "56357                   10.27                     1624.73   \n",
       "56358                   10.36                     1645.58   \n",
       "56359                   10.34                     1666.16   \n",
       "\n",
       "       Digital_Literacy (%)  X_Sentiment_Score  5G_Rollout Urban_Rural  \\\n",
       "1                     85.41              -0.49           0       Urban   \n",
       "2                     85.32              -0.24           0       Urban   \n",
       "3                     85.23              -0.66           0       Urban   \n",
       "4                     85.79              -0.21           0       Urban   \n",
       "5                     85.37               0.21           0       Rural   \n",
       "...                     ...                ...         ...         ...   \n",
       "56355                 62.14               0.53           1       Urban   \n",
       "56356                 62.65              -0.60           1       Urban   \n",
       "56357                 62.53               0.94           1       Urban   \n",
       "56358                 62.41              -0.64           1       Urban   \n",
       "56359                 62.20              -0.49           1       Urban   \n",
       "\n",
       "       Latitude  Longitude  Year  Education_Level (%)_dff  \\\n",
       "1       37.0902   -95.7129  2010                    -0.46   \n",
       "2       37.0902   -95.7129  2010                     0.04   \n",
       "3       37.0902   -95.7129  2010                     0.34   \n",
       "4       37.0902   -95.7129  2010                    -0.13   \n",
       "5       37.0902   -95.7129  2010                    -0.29   \n",
       "...         ...        ...   ...                      ...   \n",
       "56355  -30.5595    22.9375  2025                     0.12   \n",
       "56356  -30.5595    22.9375  2025                     0.50   \n",
       "56357  -30.5595    22.9375  2025                    -0.15   \n",
       "56358  -30.5595    22.9375  2025                     0.00   \n",
       "56359  -30.5595    22.9375  2025                    -0.12   \n",
       "\n",
       "       Digital_Literacy (%)_dff  \n",
       "1                          0.12  \n",
       "2                         -0.09  \n",
       "3                         -0.09  \n",
       "4                          0.56  \n",
       "5                         -0.42  \n",
       "...                         ...  \n",
       "56355                     -0.53  \n",
       "56356                      0.51  \n",
       "56357                     -0.12  \n",
       "56358                     -0.12  \n",
       "56359                     -0.21  \n",
       "\n",
       "[56359 rows x 17 columns]"
      ]
     },
     "execution_count": 574,
     "metadata": {},
     "output_type": "execute_result"
    }
   ],
   "source": [
    "df"
   ]
  },
  {
   "cell_type": "code",
   "execution_count": 575,
   "id": "38e89600-b163-4ef5-8c99-a96eed3dbfe2",
   "metadata": {},
   "outputs": [],
   "source": [
    "variables_diferenciacion=df[['Education_Level (%)_dff','Digital_Literacy (%)_dff']]"
   ]
  },
  {
   "cell_type": "code",
   "execution_count": 576,
   "id": "b9a5a9dc-810c-47b6-8cd3-11b48a22dfb6",
   "metadata": {},
   "outputs": [
    {
     "name": "stdout",
     "output_type": "stream",
     "text": [
      "\n",
      "Variable: Education_Level (%)_dff\n",
      "  ➤ p-value: 0.000000\n",
      "  ✅ Estacionaria (rechazamos H0)\n",
      "\n",
      "Variable: Digital_Literacy (%)_dff\n",
      "  ➤ p-value: 0.000000\n",
      "  ✅ Estacionaria (rechazamos H0)\n"
     ]
    }
   ],
   "source": [
    "for var in variables_diferenciacion:\n",
    "    serie=df[var]\n",
    "    resultado=adfuller(serie)\n",
    "    \n",
    "    print(f\"\\nVariable: {var}\")\n",
    "    print(f\"  ➤ p-value: {resultado[1]:.6f}\")\n",
    "    \n",
    "    if resultado[1] < 0.05:\n",
    "        print(\"  ✅ Estacionaria (rechazamos H0)\")\n",
    "    else:\n",
    "        print(\"  ❌ No estacionaria (no se puede rechazar H0)\")\n",
    "    "
   ]
  },
  {
   "cell_type": "code",
   "execution_count": 577,
   "id": "36c3d2f8-04bd-4cde-9c4c-90109a86cc05",
   "metadata": {},
   "outputs": [],
   "source": [
    "variables_exogenas=df[['Education_Level (%)_dff','Digital_Literacy (%)_dff','GDP_Per_Capita (USD)', 'Mobile_Data_Usage (GB)',\n",
    "       'Digital_Investment (M USD)','Broadband_Speed (Mbps)']]"
   ]
  },
  {
   "cell_type": "code",
   "execution_count": 578,
   "id": "2a8359c9-d96f-4e37-abdc-39fdaa0a2257",
   "metadata": {
    "scrolled": true
   },
   "outputs": [
    {
     "name": "stdout",
     "output_type": "stream",
     "text": [
      "Correlación cruzada (y vs Education_Level (%)_dff):\n",
      "Lag 0: 0.009\n",
      "Lag 1: 0.008\n",
      "Lag 2: 0.009\n",
      "Lag 3: 0.009\n",
      "Lag 4: 0.011\n",
      "Lag 5: 0.007\n",
      "Lag 6: 0.008\n",
      "Lag 7: 0.011\n",
      "Lag 8: 0.006\n",
      "Lag 9: 0.008\n",
      "Lag 10: 0.011\n",
      "Lag 11: 0.007\n",
      "Lag 12: 0.008\n",
      "Correlación cruzada (y vs Digital_Literacy (%)_dff):\n",
      "Lag 0: 0.011\n",
      "Lag 1: 0.010\n",
      "Lag 2: 0.012\n",
      "Lag 3: 0.010\n",
      "Lag 4: 0.011\n",
      "Lag 5: 0.011\n",
      "Lag 6: 0.010\n",
      "Lag 7: 0.011\n",
      "Lag 8: 0.013\n",
      "Lag 9: 0.011\n",
      "Lag 10: 0.010\n",
      "Lag 11: 0.014\n",
      "Lag 12: 0.011\n",
      "Correlación cruzada (y vs GDP_Per_Capita (USD)):\n",
      "Lag 0: 0.381\n",
      "Lag 1: 0.381\n",
      "Lag 2: 0.381\n",
      "Lag 3: 0.381\n",
      "Lag 4: 0.380\n",
      "Lag 5: 0.380\n",
      "Lag 6: 0.380\n",
      "Lag 7: 0.380\n",
      "Lag 8: 0.380\n",
      "Lag 9: 0.379\n",
      "Lag 10: 0.379\n",
      "Lag 11: 0.379\n",
      "Lag 12: 0.379\n",
      "Correlación cruzada (y vs Mobile_Data_Usage (GB)):\n",
      "Lag 0: 0.936\n",
      "Lag 1: 0.693\n",
      "Lag 2: 0.689\n",
      "Lag 3: 0.690\n",
      "Lag 4: 0.689\n",
      "Lag 5: 0.691\n",
      "Lag 6: 0.689\n",
      "Lag 7: 0.689\n",
      "Lag 8: 0.688\n",
      "Lag 9: 0.687\n",
      "Lag 10: 0.686\n",
      "Lag 11: 0.685\n",
      "Lag 12: 0.686\n",
      "Correlación cruzada (y vs Digital_Investment (M USD)):\n",
      "Lag 0: 0.793\n",
      "Lag 1: 0.792\n",
      "Lag 2: 0.791\n",
      "Lag 3: 0.791\n",
      "Lag 4: 0.790\n",
      "Lag 5: 0.789\n",
      "Lag 6: 0.788\n",
      "Lag 7: 0.787\n",
      "Lag 8: 0.787\n",
      "Lag 9: 0.786\n",
      "Lag 10: 0.785\n",
      "Lag 11: 0.784\n",
      "Lag 12: 0.784\n",
      "Correlación cruzada (y vs Broadband_Speed (Mbps)):\n",
      "Lag 0: 0.918\n",
      "Lag 1: 0.644\n",
      "Lag 2: 0.640\n",
      "Lag 3: 0.641\n",
      "Lag 4: 0.640\n",
      "Lag 5: 0.643\n",
      "Lag 6: 0.640\n",
      "Lag 7: 0.641\n",
      "Lag 8: 0.639\n",
      "Lag 9: 0.639\n",
      "Lag 10: 0.638\n",
      "Lag 11: 0.637\n",
      "Lag 12: 0.637\n"
     ]
    }
   ],
   "source": [
    "# usando correlacion de series temporales \"lags\" para mirar las variables correlacionadas con internet adoption\n",
    " \n",
    "from statsmodels.tsa.stattools import ccf\n",
    "\n",
    "lags = 12  # Número de lags a evaluar\n",
    "\n",
    "for var in variables_exogenas:\n",
    "    ccf_values = ccf(y, df[var], adjusted=False)[:lags+1]  # Lags 0 a 12\n",
    "    print(f\"Correlación cruzada (y vs {var}):\")\n",
    "    for lag, corr in enumerate(ccf_values):\n",
    "        print(f\"Lag {lag}: {corr:.3f}\")"
   ]
  },
  {
   "cell_type": "code",
   "execution_count": 579,
   "id": "22b55d06-9c02-421f-92d9-b4689dbdc74c",
   "metadata": {
    "scrolled": true
   },
   "outputs": [
    {
     "name": "stdout",
     "output_type": "stream",
     "text": [
      "\n",
      "📊 ¿Puede 'Education_Level (%)_dff' ayudar a predecir 'Internet_Penetration (%)'?\n"
     ]
    },
    {
     "name": "stderr",
     "output_type": "stream",
     "text": [
      "C:\\Users\\Nicol\\anaconda3\\lib\\site-packages\\statsmodels\\tsa\\stattools.py:1556: FutureWarning:\n",
      "\n",
      "verbose is deprecated since functions should not print results\n",
      "\n"
     ]
    },
    {
     "name": "stdout",
     "output_type": "stream",
     "text": [
      "Lag 1: p = 0.5275 ❌ No significativo\n",
      "Lag 2: p = 0.0009 ✅ Significativo\n",
      "Lag 3: p = 0.0000 ✅ Significativo\n",
      "Lag 4: p = 0.0000 ✅ Significativo\n",
      "Lag 5: p = 0.0000 ✅ Significativo\n",
      "Lag 6: p = 0.0000 ✅ Significativo\n",
      "Lag 7: p = 0.0000 ✅ Significativo\n",
      "Lag 8: p = 0.0000 ✅ Significativo\n",
      "Lag 9: p = 0.0000 ✅ Significativo\n",
      "Lag 10: p = 0.0000 ✅ Significativo\n",
      "Lag 11: p = 0.0000 ✅ Significativo\n",
      "Lag 12: p = 0.0000 ✅ Significativo\n",
      "\n",
      "📊 ¿Puede 'Digital_Literacy (%)_dff' ayudar a predecir 'Internet_Penetration (%)'?\n"
     ]
    },
    {
     "name": "stderr",
     "output_type": "stream",
     "text": [
      "C:\\Users\\Nicol\\anaconda3\\lib\\site-packages\\statsmodels\\tsa\\stattools.py:1556: FutureWarning:\n",
      "\n",
      "verbose is deprecated since functions should not print results\n",
      "\n"
     ]
    },
    {
     "name": "stdout",
     "output_type": "stream",
     "text": [
      "Lag 1: p = 0.4158 ❌ No significativo\n",
      "Lag 2: p = 0.0016 ✅ Significativo\n",
      "Lag 3: p = 0.0000 ✅ Significativo\n",
      "Lag 4: p = 0.0000 ✅ Significativo\n",
      "Lag 5: p = 0.0000 ✅ Significativo\n",
      "Lag 6: p = 0.0000 ✅ Significativo\n",
      "Lag 7: p = 0.0000 ✅ Significativo\n",
      "Lag 8: p = 0.0000 ✅ Significativo\n",
      "Lag 9: p = 0.0000 ✅ Significativo\n",
      "Lag 10: p = 0.0000 ✅ Significativo\n",
      "Lag 11: p = 0.0000 ✅ Significativo\n",
      "Lag 12: p = 0.0000 ✅ Significativo\n",
      "\n",
      "📊 ¿Puede 'GDP_Per_Capita (USD)' ayudar a predecir 'Internet_Penetration (%)'?\n"
     ]
    },
    {
     "name": "stderr",
     "output_type": "stream",
     "text": [
      "C:\\Users\\Nicol\\anaconda3\\lib\\site-packages\\statsmodels\\tsa\\stattools.py:1556: FutureWarning:\n",
      "\n",
      "verbose is deprecated since functions should not print results\n",
      "\n"
     ]
    },
    {
     "name": "stdout",
     "output_type": "stream",
     "text": [
      "Lag 1: p = 0.0000 ✅ Significativo\n",
      "Lag 2: p = 0.0000 ✅ Significativo\n",
      "Lag 3: p = 0.0000 ✅ Significativo\n",
      "Lag 4: p = 0.0000 ✅ Significativo\n",
      "Lag 5: p = 0.0000 ✅ Significativo\n",
      "Lag 6: p = 0.0000 ✅ Significativo\n",
      "Lag 7: p = 0.0000 ✅ Significativo\n",
      "Lag 8: p = 0.0000 ✅ Significativo\n",
      "Lag 9: p = 0.0000 ✅ Significativo\n",
      "Lag 10: p = 0.0000 ✅ Significativo\n",
      "Lag 11: p = 0.0000 ✅ Significativo\n",
      "Lag 12: p = 0.0000 ✅ Significativo\n",
      "\n",
      "📊 ¿Puede 'Mobile_Data_Usage (GB)' ayudar a predecir 'Internet_Penetration (%)'?\n"
     ]
    },
    {
     "name": "stderr",
     "output_type": "stream",
     "text": [
      "C:\\Users\\Nicol\\anaconda3\\lib\\site-packages\\statsmodels\\tsa\\stattools.py:1556: FutureWarning:\n",
      "\n",
      "verbose is deprecated since functions should not print results\n",
      "\n"
     ]
    },
    {
     "name": "stdout",
     "output_type": "stream",
     "text": [
      "Lag 1: p = 0.0000 ✅ Significativo\n",
      "Lag 2: p = 0.0000 ✅ Significativo\n",
      "Lag 3: p = 0.0000 ✅ Significativo\n",
      "Lag 4: p = 0.0000 ✅ Significativo\n",
      "Lag 5: p = 0.0000 ✅ Significativo\n",
      "Lag 6: p = 0.0000 ✅ Significativo\n",
      "Lag 7: p = 0.0001 ✅ Significativo\n",
      "Lag 8: p = 0.0008 ✅ Significativo\n",
      "Lag 9: p = 0.0035 ✅ Significativo\n",
      "Lag 10: p = 0.0033 ✅ Significativo\n",
      "Lag 11: p = 0.0014 ✅ Significativo\n",
      "Lag 12: p = 0.0007 ✅ Significativo\n",
      "\n",
      "📊 ¿Puede 'Digital_Investment (M USD)' ayudar a predecir 'Internet_Penetration (%)'?\n"
     ]
    },
    {
     "name": "stderr",
     "output_type": "stream",
     "text": [
      "C:\\Users\\Nicol\\anaconda3\\lib\\site-packages\\statsmodels\\tsa\\stattools.py:1556: FutureWarning:\n",
      "\n",
      "verbose is deprecated since functions should not print results\n",
      "\n"
     ]
    },
    {
     "name": "stdout",
     "output_type": "stream",
     "text": [
      "Lag 1: p = 0.0000 ✅ Significativo\n",
      "Lag 2: p = 0.0000 ✅ Significativo\n",
      "Lag 3: p = 0.0000 ✅ Significativo\n",
      "Lag 4: p = 0.0000 ✅ Significativo\n",
      "Lag 5: p = 0.0000 ✅ Significativo\n",
      "Lag 6: p = 0.0000 ✅ Significativo\n",
      "Lag 7: p = 0.0000 ✅ Significativo\n",
      "Lag 8: p = 0.0000 ✅ Significativo\n",
      "Lag 9: p = 0.0000 ✅ Significativo\n",
      "Lag 10: p = 0.0000 ✅ Significativo\n",
      "Lag 11: p = 0.0000 ✅ Significativo\n",
      "Lag 12: p = 0.0000 ✅ Significativo\n",
      "\n",
      "📊 ¿Puede 'Broadband_Speed (Mbps)' ayudar a predecir 'Internet_Penetration (%)'?\n"
     ]
    },
    {
     "name": "stderr",
     "output_type": "stream",
     "text": [
      "C:\\Users\\Nicol\\anaconda3\\lib\\site-packages\\statsmodels\\tsa\\stattools.py:1556: FutureWarning:\n",
      "\n",
      "verbose is deprecated since functions should not print results\n",
      "\n"
     ]
    },
    {
     "name": "stdout",
     "output_type": "stream",
     "text": [
      "Lag 1: p = 0.0000 ✅ Significativo\n",
      "Lag 2: p = 0.0000 ✅ Significativo\n",
      "Lag 3: p = 0.0000 ✅ Significativo\n",
      "Lag 4: p = 0.0001 ✅ Significativo\n",
      "Lag 5: p = 0.0022 ✅ Significativo\n",
      "Lag 6: p = 0.0150 ✅ Significativo\n",
      "Lag 7: p = 0.0727 ❌ No significativo\n",
      "Lag 8: p = 0.0998 ❌ No significativo\n",
      "Lag 9: p = 0.1809 ❌ No significativo\n",
      "Lag 10: p = 0.0726 ❌ No significativo\n",
      "Lag 11: p = 0.1164 ❌ No significativo\n",
      "Lag 12: p = 0.1466 ❌ No significativo\n"
     ]
    }
   ],
   "source": [
    "#que tanto X ayuda a predecir *y* en contexto temporal:\n",
    "from statsmodels.tsa.stattools import grangercausalitytests  \n",
    "\n",
    "# Variable dependiente\n",
    "y = 'Internet_Penetration (%)'\n",
    "\n",
    "# Variables que podrían influir en y\n",
    "variables_exogenas=['Education_Level (%)_dff','Digital_Literacy (%)_dff','GDP_Per_Capita (USD)', 'Mobile_Data_Usage (GB)',\n",
    "       'Digital_Investment (M USD)','Broadband_Speed (Mbps)']\n",
    "# Cuántos lags mirar\n",
    "max_lag = 12\n",
    "\n",
    "# Solo dejamos las columnas necesarias\n",
    "datos = df[[y] + variables_exogenas]\n",
    "\n",
    "# Revisamos una por una si la variable ayuda a predecir 'y'\n",
    "for var in variables_exogenas:\n",
    "    print(f\"\\n📊 ¿Puede '{var}' ayudar a predecir '{y}'?\")\n",
    "    \n",
    "    # Ejecutamos el test\n",
    "    resultado = grangercausalitytests(datos[[y, var]], maxlag=max_lag, verbose=False)\n",
    "    \n",
    "    # Mostramos los p-values para cada lag\n",
    "    for lag in range(1, max_lag + 1):\n",
    "        p = resultado[lag][0]['ssr_chi2test'][1]\n",
    "        \n",
    "        if p < 0.05:\n",
    "            print(f\"Lag {lag}: p = {p:.4f} ✅ Significativo\")\n",
    "        else:\n",
    "            print(f\"Lag {lag}: p = {p:.4f} ❌ No significativo\")"
   ]
  },
  {
   "cell_type": "code",
   "execution_count": 580,
   "id": "8b9972d0-55a4-4aa6-831e-17e7eda1f840",
   "metadata": {},
   "outputs": [
    {
     "data": {
      "text/plain": [
       "Index(['Country', 'Date', 'Internet_Penetration (%)', 'Broadband_Speed (Mbps)',\n",
       "       'GDP_Per_Capita (USD)', 'Education_Level (%)', 'Mobile_Data_Usage (GB)',\n",
       "       'Digital_Investment (M USD)', 'Digital_Literacy (%)',\n",
       "       'X_Sentiment_Score', '5G_Rollout', 'Urban_Rural', 'Latitude',\n",
       "       'Longitude', 'Year', 'Education_Level (%)_dff',\n",
       "       'Digital_Literacy (%)_dff'],\n",
       "      dtype='object')"
      ]
     },
     "execution_count": 580,
     "metadata": {},
     "output_type": "execute_result"
    }
   ],
   "source": [
    "df.columns"
   ]
  },
  {
   "cell_type": "code",
   "execution_count": 581,
   "id": "55ee915d-e088-446f-8acf-91d1ddde6c12",
   "metadata": {},
   "outputs": [
    {
     "data": {
      "text/plain": [
       "10"
      ]
     },
     "execution_count": 581,
     "metadata": {},
     "output_type": "execute_result"
    }
   ],
   "source": [
    "n"
   ]
  },
  {
   "cell_type": "markdown",
   "id": "dcd4b4ed-1410-4a9f-b966-6c39e82319d0",
   "metadata": {},
   "source": [
    "#### predecir la adopcion de internet  para los proximos meses  \"SARIMAX\""
   ]
  },
  {
   "cell_type": "code",
   "execution_count": 583,
   "id": "585fcbce-75d1-459a-998d-5e5f43a7d5af",
   "metadata": {},
   "outputs": [],
   "source": [
    "# para el autoarima y el sarimax no se necesita diferenciacion ya que auto_arima lo hace por si solo\n",
    "\n",
    "from pmdarima import auto_arima\n",
    "\n",
    "# 1. Cargar y limpiar\n",
    "df = pd.read_csv('global_internet_adoption_daily_2010_2025.csv')\n",
    "df['Date'] = pd.to_datetime(df['Date'])\n",
    "df.set_index('Date', inplace=True)\n",
    "\n",
    "# 2. Mantener columnas necesarias \n",
    "df = df[['Internet_Penetration (%)', \n",
    "         'Mobile_Data_Usage (GB)', \n",
    "         'Digital_Investment (M USD)', \n",
    "         'Broadband_Speed (Mbps)']]\n",
    "\n",
    "# 3. Resamplear a mensual (fin de mes) usando media\n",
    "df_resampled = df.resample('ME').mean().dropna()\n",
    "\n",
    "# 4. Separar variable dependiente y exógenas\n",
    "y = df_resampled['Internet_Penetration (%)']\n",
    "X = df_resampled.drop(columns='Internet_Penetration (%)')\n",
    "\n",
    "# 5. Dividir en train/test\n",
    "n_test = 12\n",
    "y_train, y_test = y[:-n_test], y[-n_test:]\n",
    "X_train, X_test = X[:-n_test], X[-n_test:]\n",
    "\n"
   ]
  },
  {
   "cell_type": "code",
   "execution_count": 584,
   "id": "231c1ef7-dca8-4cc3-83ed-473f87d75468",
   "metadata": {},
   "outputs": [
    {
     "name": "stdout",
     "output_type": "stream",
     "text": [
      "Performing stepwise search to minimize aic\n",
      " ARIMA(2,1,2)(1,0,1)[12] intercept   : AIC=668.083, Time=2.17 sec\n",
      " ARIMA(0,1,0)(0,0,0)[12] intercept   : AIC=718.858, Time=0.03 sec\n",
      " ARIMA(1,1,0)(1,0,0)[12] intercept   : AIC=702.331, Time=1.32 sec\n",
      " ARIMA(0,1,1)(0,0,1)[12] intercept   : AIC=710.133, Time=0.24 sec\n",
      " ARIMA(0,1,0)(0,0,0)[12]             : AIC=723.291, Time=0.02 sec\n",
      " ARIMA(2,1,2)(0,0,1)[12] intercept   : AIC=710.071, Time=1.60 sec\n",
      " ARIMA(2,1,2)(1,0,0)[12] intercept   : AIC=701.872, Time=1.59 sec\n",
      " ARIMA(2,1,2)(2,0,1)[12] intercept   : AIC=660.619, Time=3.67 sec\n",
      " ARIMA(2,1,2)(2,0,0)[12] intercept   : AIC=inf, Time=5.37 sec\n",
      " ARIMA(2,1,2)(2,0,2)[12] intercept   : AIC=663.128, Time=5.12 sec\n",
      " ARIMA(2,1,2)(1,0,2)[12] intercept   : AIC=659.771, Time=3.75 sec\n",
      " ARIMA(2,1,2)(0,0,2)[12] intercept   : AIC=inf, Time=2.75 sec\n",
      " ARIMA(1,1,2)(1,0,2)[12] intercept   : AIC=659.765, Time=5.87 sec\n",
      " ARIMA(1,1,2)(0,0,2)[12] intercept   : AIC=inf, Time=2.39 sec\n",
      " ARIMA(1,1,2)(1,0,1)[12] intercept   : AIC=665.922, Time=1.61 sec\n",
      " ARIMA(1,1,2)(2,0,2)[12] intercept   : AIC=662.006, Time=2.55 sec\n",
      " ARIMA(1,1,2)(0,0,1)[12] intercept   : AIC=708.134, Time=1.27 sec\n",
      " ARIMA(1,1,2)(2,0,1)[12] intercept   : AIC=660.054, Time=2.69 sec\n",
      " ARIMA(0,1,2)(1,0,2)[12] intercept   : AIC=658.869, Time=0.76 sec\n",
      " ARIMA(0,1,2)(0,0,2)[12] intercept   : AIC=692.851, Time=1.58 sec\n",
      " ARIMA(0,1,2)(1,0,1)[12] intercept   : AIC=665.544, Time=3.89 sec\n",
      " ARIMA(0,1,2)(2,0,2)[12] intercept   : AIC=inf, Time=5.22 sec\n",
      " ARIMA(0,1,2)(0,0,1)[12] intercept   : AIC=711.182, Time=0.14 sec\n",
      " ARIMA(0,1,2)(2,0,1)[12] intercept   : AIC=659.350, Time=0.58 sec\n",
      " ARIMA(0,1,1)(1,0,2)[12] intercept   : AIC=657.365, Time=0.64 sec\n",
      " ARIMA(0,1,1)(0,0,2)[12] intercept   : AIC=691.322, Time=1.63 sec\n",
      " ARIMA(0,1,1)(1,0,1)[12] intercept   : AIC=663.719, Time=1.94 sec\n",
      " ARIMA(0,1,1)(2,0,2)[12] intercept   : AIC=658.708, Time=5.54 sec\n",
      " ARIMA(0,1,1)(2,0,1)[12] intercept   : AIC=657.637, Time=0.83 sec\n",
      " ARIMA(0,1,0)(1,0,2)[12] intercept   : AIC=659.081, Time=1.01 sec\n",
      " ARIMA(1,1,1)(1,0,2)[12] intercept   : AIC=658.015, Time=2.42 sec\n",
      " ARIMA(1,1,0)(1,0,2)[12] intercept   : AIC=657.762, Time=0.69 sec\n",
      " ARIMA(0,1,1)(1,0,2)[12]             : AIC=656.700, Time=0.90 sec\n",
      " ARIMA(0,1,1)(0,0,2)[12]             : AIC=694.346, Time=0.27 sec\n",
      " ARIMA(0,1,1)(1,0,1)[12]             : AIC=663.174, Time=0.26 sec\n",
      " ARIMA(0,1,1)(2,0,2)[12]             : AIC=inf, Time=1.78 sec\n",
      " ARIMA(0,1,1)(0,0,1)[12]             : AIC=714.590, Time=0.08 sec\n",
      " ARIMA(0,1,1)(2,0,1)[12]             : AIC=656.995, Time=0.35 sec\n",
      " ARIMA(0,1,0)(1,0,2)[12]             : AIC=658.034, Time=0.35 sec\n",
      " ARIMA(1,1,1)(1,0,2)[12]             : AIC=657.926, Time=1.16 sec\n",
      " ARIMA(0,1,2)(1,0,2)[12]             : AIC=658.364, Time=0.70 sec\n",
      " ARIMA(1,1,0)(1,0,2)[12]             : AIC=657.004, Time=0.76 sec\n",
      " ARIMA(1,1,2)(1,0,2)[12]             : AIC=659.231, Time=3.77 sec\n",
      "\n",
      "Best model:  ARIMA(0,1,1)(1,0,2)[12]          \n",
      "Total fit time: 81.393 seconds\n"
     ]
    }
   ],
   "source": [
    "# auto_arima para mirar los mejores parametros\n",
    "stepwise_model = auto_arima(y_train,\n",
    "                            exogenous=X_train,\n",
    "                            m=12,  \n",
    "                            seasonal=True,\n",
    "                            trace=True,\n",
    "                            error_action='ignore',\n",
    "                            suppress_warnings=True,\n",
    "                            stepwise=True)"
   ]
  },
  {
   "cell_type": "code",
   "execution_count": 585,
   "id": "206e637f-c203-4905-bfc8-40ca4cd733bd",
   "metadata": {},
   "outputs": [],
   "source": [
    "# 13. Extraer parámetros\n",
    "order = stepwise_model.order\n",
    "seasonal_order = stepwise_model.seasonal_order"
   ]
  },
  {
   "cell_type": "code",
   "execution_count": 586,
   "id": "f1521252-f53f-4ce7-8039-7eba4c960e46",
   "metadata": {},
   "outputs": [],
   "source": [
    "model = SARIMAX(y_train,\n",
    "                exog=X_train,\n",
    "                order=order,\n",
    "                seasonal_order=seasonal_order)\n",
    "\n",
    "model_fit = model.fit(disp=False)"
   ]
  },
  {
   "cell_type": "code",
   "execution_count": 587,
   "id": "38012e36-af7b-4758-8589-50ac57b102ab",
   "metadata": {},
   "outputs": [
    {
     "name": "stdout",
     "output_type": "stream",
     "text": [
      "                                        SARIMAX Results                                        \n",
      "===============================================================================================\n",
      "Dep. Variable:                Internet_Penetration (%)   No. Observations:                  174\n",
      "Model:             SARIMAX(0, 1, 1)x(1, 0, [1, 2], 12)   Log Likelihood                -269.759\n",
      "Date:                                 Sat, 19 Jul 2025   AIC                            555.518\n",
      "Time:                                         00:02:39   BIC                            580.744\n",
      "Sample:                                     01-31-2010   HQIC                           565.752\n",
      "                                          - 06-30-2024                                         \n",
      "Covariance Type:                                   opg                                         \n",
      "==============================================================================================\n",
      "                                 coef    std err          z      P>|z|      [0.025      0.975]\n",
      "----------------------------------------------------------------------------------------------\n",
      "Mobile_Data_Usage (GB)        13.1334      8.698      1.510      0.131      -3.914      30.181\n",
      "Digital_Investment (M USD)    -0.0555      0.078     -0.711      0.477      -0.208       0.097\n",
      "Broadband_Speed (Mbps)        -0.1485      0.714     -0.208      0.835      -1.549       1.252\n",
      "ma.L1                         -0.0087      0.471     -0.018      0.985      -0.932       0.915\n",
      "ar.S.L12                       0.9340      0.038     24.828      0.000       0.860       1.008\n",
      "ma.S.L12                      -0.9861      0.074    -13.278      0.000      -1.132      -0.841\n",
      "ma.S.L24                       0.3900      0.063      6.203      0.000       0.267       0.513\n",
      "sigma2                         1.2057      0.059     20.317      0.000       1.089       1.322\n",
      "===================================================================================\n",
      "Ljung-Box (L1) (Q):                   0.00   Jarque-Bera (JB):             12252.55\n",
      "Prob(Q):                              1.00   Prob(JB):                         0.00\n",
      "Heteroskedasticity (H):               5.25   Skew:                            -0.82\n",
      "Prob(H) (two-sided):                  0.00   Kurtosis:                        44.20\n",
      "===================================================================================\n",
      "\n",
      "Warnings:\n",
      "[1] Covariance matrix calculated using the outer product of gradients (complex-step).\n"
     ]
    }
   ],
   "source": [
    "print(model_fit.summary())"
   ]
  },
  {
   "cell_type": "code",
   "execution_count": 588,
   "id": "c4bddb8a-0ce0-41b8-8627-134c75a1ca66",
   "metadata": {
    "scrolled": true
   },
   "outputs": [
    {
     "data": {
      "image/png": "[encoded data removed]",
      "text/plain": [
       "<Figure size 1200x600 with 1 Axes>"
      ]
     },
     "metadata": {},
     "output_type": "display_data"
    },
    {
     "name": "stdout",
     "output_type": "stream",
     "text": [
      "the mae is 0.4630421662744884\n",
      "the mape is 0.55%\n",
      "the rmse is 0.54%\n"
     ]
    }
   ],
   "source": [
    "# 15. Predecir sobre el conjunto de prueba\n",
    "y_pred = model_fit.predict(start=y_test.index[0],\n",
    "                           end=y_test.index[-1],\n",
    "                           exog=X_test)\n",
    "\n",
    "# 17. Graficar resultados\n",
    "plt.figure(figsize=(12,6))\n",
    "plt.plot(y_train, label='Entrenamiento')\n",
    "plt.plot(y_test, label='Test real')\n",
    "plt.plot(y_pred, label='Predicción', linestyle='--')\n",
    "plt.title('SARIMAX ')\n",
    "plt.xlabel('Fecha')\n",
    "plt.ylabel('Ventas')\n",
    "plt.legend()\n",
    "plt.tight_layout()\n",
    "plt.savefig('prediccion_sarimax.png', dpi=300, bbox_inches='tight')\n",
    "plt.show()\n",
    "\n",
    "mae=mean_absolute_error(y_test,y_pred)\n",
    "print(f'the mae is {mae}')\n",
    "\n",
    "mape=mean_absolute_percentage_error(y_test,y_pred)\n",
    "print(f'the mape is {100*mape:.2f}%')\n",
    "\n",
    "rmse = np.sqrt(mean_squared_error(y_test, y_pred))\n",
    "print(f'the rmse is {rmse:.2f}%')"
   ]
  },
  {
   "cell_type": "code",
   "execution_count": 589,
   "id": "bed43381-ddf5-4215-a97a-c720a15e8929",
   "metadata": {},
   "outputs": [
    {
     "name": "stdout",
     "output_type": "stream",
     "text": [
      "<class 'statsmodels.tsa.statespace.sarimax.SARIMAXResultsWrapper'>\n"
     ]
    }
   ],
   "source": [
    "print(type(model_fit))"
   ]
  },
  {
   "cell_type": "code",
   "execution_count": 590,
   "id": "09320a77-4266-4fcb-be5f-f51797566e48",
   "metadata": {},
   "outputs": [],
   "source": [
    "y_train_pred = model_fit.predict(start=y_train.index[0],\n",
    "                                 end=y_train.index[-1],\n",
    "                                 exog=X_train)"
   ]
  },
  {
   "cell_type": "code",
   "execution_count": 591,
   "id": "b0c7311b-1572-4dce-830b-7c1e68ca6c40",
   "metadata": {},
   "outputs": [
    {
     "name": "stdout",
     "output_type": "stream",
     "text": [
      "MAPE train: 1.78%\n"
     ]
    }
   ],
   "source": [
    "mape_train = mean_absolute_percentage_error(y_train, y_train_pred)\n",
    "print(f'MAPE train: {100 * mape_train:.2f}%')"
   ]
  },
  {
   "cell_type": "code",
   "execution_count": 592,
   "id": "94404028-22dd-46dd-9e55-61ce54c19bc7",
   "metadata": {},
   "outputs": [
    {
     "name": "stdout",
     "output_type": "stream",
     "text": [
      "Desviación estándar train: 21.3622\n",
      "Desviación estándar test: 1.4955\n"
     ]
    }
   ],
   "source": [
    "print(f\"Desviación estándar train: {y_train.std():.4f}\")\n",
    "print(f\"Desviación estándar test: {y_test.std():.4f}\")"
   ]
  },
  {
   "cell_type": "markdown",
   "id": "adbffcf1-cf60-4082-8172-ed9837544dda",
   "metadata": {},
   "source": [
    "##### El modelo SARIMAX con exógenas muestra un MAPE en test (0.55%) inferior al de train (1.78%) debido a que los últimos 12 meses presentaron una volatilidad significativamente menor (std_test = 1.9 vs. std_train = 20.3). Esto no indica sobreajuste, sino que el período de prueba fue intrínsecamente más predecible."
   ]
  },
  {
   "cell_type": "code",
   "execution_count": 594,
   "id": "cec7d954-ff5d-479c-b990-ae09cf257b8e",
   "metadata": {},
   "outputs": [
    {
     "name": "stdout",
     "output_type": "stream",
     "text": [
      "🔄 Rolling Window Results:\n",
      "\n"
     ]
    },
    {
     "name": "stderr",
     "output_type": "stream",
     "text": [
      "C:\\Users\\Nicol\\anaconda3\\lib\\site-packages\\statsmodels\\tsa\\statespace\\sarimax.py:866: UserWarning:\n",
      "\n",
      "Too few observations to estimate starting parameters for seasonal ARMA. All parameters except for variances will be set to zeros.\n",
      "\n"
     ]
    },
    {
     "name": "stdout",
     "output_type": "stream",
     "text": [
      "Rolling Split 1 - MAPE: 5.74% | MAE: 2.33 | RMSE: 2.87\n"
     ]
    },
    {
     "name": "stderr",
     "output_type": "stream",
     "text": [
      "C:\\Users\\Nicol\\anaconda3\\lib\\site-packages\\statsmodels\\tsa\\statespace\\sarimax.py:866: UserWarning:\n",
      "\n",
      "Too few observations to estimate starting parameters for seasonal ARMA. All parameters except for variances will be set to zeros.\n",
      "\n",
      "C:\\Users\\Nicol\\anaconda3\\lib\\site-packages\\statsmodels\\base\\model.py:607: ConvergenceWarning:\n",
      "\n",
      "Maximum Likelihood optimization failed to converge. Check mle_retvals\n",
      "\n",
      "C:\\Users\\Nicol\\anaconda3\\lib\\site-packages\\statsmodels\\tsa\\statespace\\sarimax.py:1009: UserWarning:\n",
      "\n",
      "Non-invertible starting seasonal moving average Using zeros as starting parameters.\n",
      "\n"
     ]
    },
    {
     "name": "stdout",
     "output_type": "stream",
     "text": [
      "Rolling Split 2 - MAPE: 1.45% | MAE: 0.78 | RMSE: 0.91\n"
     ]
    },
    {
     "name": "stderr",
     "output_type": "stream",
     "text": [
      "C:\\Users\\Nicol\\anaconda3\\lib\\site-packages\\statsmodels\\base\\model.py:607: ConvergenceWarning:\n",
      "\n",
      "Maximum Likelihood optimization failed to converge. Check mle_retvals\n",
      "\n",
      "C:\\Users\\Nicol\\anaconda3\\lib\\site-packages\\statsmodels\\tsa\\statespace\\sarimax.py:997: UserWarning:\n",
      "\n",
      "Non-stationary starting seasonal autoregressive Using zeros as starting parameters.\n",
      "\n"
     ]
    },
    {
     "name": "stdout",
     "output_type": "stream",
     "text": [
      "Rolling Split 3 - MAPE: 1.51% | MAE: 1.17 | RMSE: 2.40\n"
     ]
    },
    {
     "name": "stderr",
     "output_type": "stream",
     "text": [
      "C:\\Users\\Nicol\\anaconda3\\lib\\site-packages\\statsmodels\\base\\model.py:607: ConvergenceWarning:\n",
      "\n",
      "Maximum Likelihood optimization failed to converge. Check mle_retvals\n",
      "\n"
     ]
    },
    {
     "name": "stdout",
     "output_type": "stream",
     "text": [
      "Rolling Split 4 - MAPE: 12.57% | MAE: 9.84 | RMSE: 11.61\n",
      "Rolling Split 5 - MAPE: 9.21% | MAE: 7.69 | RMSE: 8.20\n"
     ]
    }
   ],
   "source": [
    "tscv = TimeSeriesSplit(n_splits=5)\n",
    "\n",
    "print(\"🔄 Rolling Window Results:\\n\")\n",
    "\n",
    "for i, (train_idx, test_idx) in enumerate(tscv.split(y)):\n",
    "    y_train, y_test = y.iloc[train_idx], y.iloc[test_idx]\n",
    "    X_train, X_test = X.iloc[train_idx], X.iloc[test_idx]\n",
    "\n",
    "    model = SARIMAX(y_train,\n",
    "                    exog=X_train,\n",
    "                    order=order,\n",
    "                    seasonal_order=seasonal_order)\n",
    "\n",
    "    model_fit = model.fit(disp=False)\n",
    "\n",
    "    y_pred = model_fit.predict(start=y_test.index[0],\n",
    "                               end=y_test.index[-1],\n",
    "                               exog=X_test)\n",
    "\n",
    "    mape = mean_absolute_percentage_error(y_test, y_pred)\n",
    "    mae = mean_absolute_error(y_test, y_pred)\n",
    "    rmse = np.sqrt(mean_squared_error(y_test, y_pred))\n",
    "\n",
    "    print(f\"Rolling Split {i+1} - MAPE: {mape:.2%} | MAE: {mae:.2f} | RMSE: {rmse:.2f}\")"
   ]
  },
  {
   "cell_type": "code",
   "execution_count": 595,
   "id": "b55549fe-687c-48b5-8979-48b19854a033",
   "metadata": {},
   "outputs": [
    {
     "name": "stdout",
     "output_type": "stream",
     "text": [
      "🔁 Split 1\n",
      "   - Train: 2010-01-31 → 2012-07-31 (31 semanas)\n",
      "   - Test:  2012-08-31 → 2015-02-28 (31 semanas)\n",
      "\n",
      "🔁 Split 2\n",
      "   - Train: 2010-01-31 → 2015-02-28 (62 semanas)\n",
      "   - Test:  2015-03-31 → 2017-09-30 (31 semanas)\n",
      "\n",
      "🔁 Split 3\n",
      "   - Train: 2010-01-31 → 2017-09-30 (93 semanas)\n",
      "   - Test:  2017-10-31 → 2020-04-30 (31 semanas)\n",
      "\n",
      "🔁 Split 4\n",
      "   - Train: 2010-01-31 → 2020-04-30 (124 semanas)\n",
      "   - Test:  2020-05-31 → 2022-11-30 (31 semanas)\n",
      "\n",
      "🔁 Split 5\n",
      "   - Train: 2010-01-31 → 2022-11-30 (155 semanas)\n",
      "   - Test:  2022-12-31 → 2025-06-30 (31 semanas)\n",
      "\n"
     ]
    }
   ],
   "source": [
    "tscv = TimeSeriesSplit(n_splits=5)\n",
    "\n",
    "for i, (train_idx, test_idx) in enumerate(tscv.split(df_resampled)):\n",
    "    train_start = df_resampled.index[train_idx[0]]\n",
    "    train_end = df_resampled.index[train_idx[-1]]\n",
    "    test_start = df_resampled.index[test_idx[0]]\n",
    "    test_end = df_resampled.index[test_idx[-1]]\n",
    "    \n",
    "    print(f\"🔁 Split {i+1}\")\n",
    "    print(f\"   - Train: {train_start.date()} → {train_end.date()} ({len(train_idx)} semanas)\")\n",
    "    print(f\"   - Test:  {test_start.date()} → {test_end.date()} ({len(test_idx)} semanas)\\n\")"
   ]
  }
 ],
 "metadata": {
  "kernelspec": {
   "display_name": "Python 3 (ipykernel)",
   "language": "python",
   "name": "python3"
  },
  "language_info": {
   "codemirror_mode": {
    "name": "ipython",
    "version": 3
   },
   "file_extension": ".py",
   "mimetype": "text/x-python",
   "name": "python",
   "nbconvert_exporter": "python",
   "pygments_lexer": "ipython3",
   "version": "3.10.18"
  }
 },
 "nbformat": 4,
 "nbformat_minor": 5
}
